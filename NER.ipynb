{
  "cells": [
    {
      "cell_type": "code",
      "execution_count": null,
      "metadata": {
        "colab": {
          "base_uri": "https://localhost:8080/"
        },
        "id": "IeWsfNqikGh8",
        "outputId": "13e12860-2c67-415a-b0bc-2aa01dfd55aa"
      },
      "outputs": [
        {
          "output_type": "stream",
          "name": "stdout",
          "text": [
            "Mounted at /content/drive\n"
          ]
        }
      ],
      "source": [
        "from google.colab import drive\n",
        "drive.mount('/content/drive')"
      ]
    },
    {
      "cell_type": "markdown",
      "metadata": {
        "id": "yTWomfEpX6dS"
      },
      "source": [
        "# 1. Import Modules"
      ]
    },
    {
      "cell_type": "code",
      "execution_count": null,
      "metadata": {
        "id": "ok2BrtLZAItY"
      },
      "outputs": [],
      "source": [
        "%matplotlib inline\n",
        "import time\n",
        "import numpy as np\n",
        "import matplotlib.pyplot as plt\n",
        "import pandas as pd\n",
        "np.random.seed(0)\n",
        "plt.style.use(\"ggplot\")\n",
        "import tensorflow as tf\n",
        "from keras.initializers import Constant"
      ]
    },
    {
      "cell_type": "markdown",
      "metadata": {
        "id": "i_4kHUK_YS4q"
      },
      "source": [
        "# 2. Load bộ dữ liệu NER\n",
        "\n"
      ]
    },
    {
      "cell_type": "code",
      "source": [
        "train = \"/content/drive/MyDrive/PhoNER_COVID19-main /word/train_word.conll\"\n",
        "dev = \"/content/drive/MyDrive/PhoNER_COVID19-main /word/dev_word.conll\"\n",
        "test = \"/content/drive/MyDrive/PhoNER_COVID19-main /word/test_word.conll\""
      ],
      "metadata": {
        "id": "HuMxxoj8OF7Q"
      },
      "execution_count": null,
      "outputs": []
    },
    {
      "cell_type": "code",
      "source": [
        "sentences_train = []\n",
        "with open(train) as f:\n",
        "  sentence = []\n",
        "  for i, line in enumerate(f.readlines()):\n",
        "    try:\n",
        "      word, tag = line.split()\n",
        "      sentence.append((word,tag))\n",
        "    except:\n",
        "      sentences_train.append(sentence)\n",
        "      sentence = []\n",
        "\n",
        "\n",
        "sentences_dev = []\n",
        "with open(dev) as f:\n",
        "  sentence = []\n",
        "  for i, line in enumerate(f.readlines()):\n",
        "    try:\n",
        "      word, tag = line.split()\n",
        "      sentence.append((word,tag))\n",
        "    except:\n",
        "      sentences_dev.append(sentence)\n",
        "      sentence = []\n",
        "\n",
        "\n",
        "sentences_test = []\n",
        "with open(test) as f:\n",
        "  sentence = []\n",
        "  for i, line in enumerate(f.readlines()):\n",
        "    try:\n",
        "      word, tag = line.split()\n",
        "      sentence.append((word,tag))\n",
        "    except:\n",
        "      sentences_test.append(sentence)\n",
        "      sentence = []"
      ],
      "metadata": {
        "id": "0b6zSc8CS6bM"
      },
      "execution_count": null,
      "outputs": []
    },
    {
      "cell_type": "markdown",
      "metadata": {
        "id": "NUr4Z5a0vflu"
      },
      "source": [
        "## Mô tả bộ dữ liệu\n",
        "Thông kê bộ dữ liệu:\n",
        "- Số lượng câu trong các tập train, dev, test. \n",
        "- Số lượng từ duy nhất\n",
        "- Số lượng thẻ duy nhất trong tập dữ liệu. (Tập nhãn)\n",
        "\n",
        "\n"
      ]
    },
    {
      "cell_type": "code",
      "execution_count": null,
      "metadata": {
        "id": "nGCqJY1mBDcl",
        "colab": {
          "base_uri": "https://localhost:8080/"
        },
        "outputId": "c6bec53f-aba0-49a5-8a3a-188b42fb2e51"
      },
      "outputs": [
        {
          "output_type": "stream",
          "name": "stdout",
          "text": [
            "5027\n",
            "2000\n",
            "3001\n"
          ]
        }
      ],
      "source": [
        "print(len(sentences_train))\n",
        "print(len(sentences_dev))\n",
        "print(len(sentences_test))"
      ]
    },
    {
      "cell_type": "code",
      "execution_count": null,
      "metadata": {
        "id": "6SESGySIBbH-"
      },
      "outputs": [],
      "source": [
        "words = []\n",
        "sentences_corpus=[sentences_train,sentences_dev,sentences_test]\n",
        "for i in sentences_corpus:\n",
        "    words += [word[0] for sent in i for word in sent]\n",
        "words = list(set(words))\n",
        "words.append(\"ENDPAD\")\n",
        "num_words = len(words)"
      ]
    },
    {
      "cell_type": "code",
      "execution_count": null,
      "metadata": {
        "id": "SZj0wc06Bd2m",
        "colab": {
          "base_uri": "https://localhost:8080/"
        },
        "outputId": "20677f06-9a37-4a87-bcf6-055902f40333"
      },
      "outputs": [
        {
          "output_type": "stream",
          "name": "stdout",
          "text": [
            "['nội_thành', 'phạm_nhân', 'huyết_học', 'cưới', '715', 'Được', 'hoạt_tính', 'tiếp_đón', 'công_điện', 'Phạm_Văn_Hiệp', 'Thăng', '350', 'ăn_ngủ', 'nhiễm', 'Guam', 'Trần_Quý_Cáp', '435', 'giây', '754', '451', 'Mountain_River_Homestay_Sapa', 'Đông_Hưng_Thuận', 'Trần_Đắc_Phu', 'Bình_Định', '169', 'Tiểu', 'Hậu_Giang', 'UBND', 'Thanh_Bình', 'canteen', 'thuỳ', '21h22', 'chia_tay', 'tháo', 'Đông_Anh', 'Neelam', 'xin', 'trợ_giúp', 'mang', '533', 'kỹ_lưỡng', 'bù_trừ', 'nhưng', 'chuyến', 'Đồng_Văn', 'Bộ_trưởng', '712', 'Huyền_Trân_Công_Chúa', 'du_thuyền', '403', 'H.C.G', 'Phước', 'tương_đồng', '12/8', 'Nam_sinh', 'đi_cầu', 'nông_thôn', 'Giải_thích', 'lực', 'tiếp_thị', '24/49', 'nguồn', '935', 'giường_bệnh', '16A', 'cũ', 'stent', 'Nguồn', 'dã_chiến', 'chỉnh', 'bí_ẩn', 'dịch', 'Lào_Cai', 'tai_biến', 'P.N.S.', '438', 'Quỳnh_Lưu', 'rưng_rưng', 'tặng', '28A', 'bệnh_tình', 'khỏi', 'Mỹ', '95', '348', '682', '960', 'Hoà_Lạc', '16h30', 'khó_ở', '21/63/15', 'Hoà_Khánh_Bắc', '577', 'thể_thao', 'kg', 'y_bác_sĩ', '873', 'Tân_Sơn_Nhất', 'Gánh', 'Đảng_bộ', 'đồng_loạt', 'Nguyễn_Văn_Cường', 'Thiếu_nữ', 'phúc_mạc', '16/3', 'dân_phố', 'Đức_Thượng', 'thiết_lập', '1.207', 'song_song', 'Gia_Đình', 'Còn', '398', 'nắm_bắt', '1.029', 'rằm', '288', 'giáp_ranh', '318', 'Cẩm_Quang', 'xuất_ngoại', 'Chỉnh', 'Tiếp_xúc', '801', 'Phạm_Thị_Ánh_Hồng', '934', 'hô', 'N.T.B.P.', '509', 'xong', 'cystokin', 'Trường_Sa', 'Nguyễn_Tất_Thành', '1.600', 'dịch_tễ_học', 'Elegant', 'chơi', 'Barcelona', 'bình_phục', 'chịu', 'đánh_bài', 'chuyên_gia', 'Trần_Lê', '115', 'Ngô_Đức_Tuấn', 'C4', 'N133', 'số', '310', 'hoá_chất', 'màu', 'viện', 'III', 'bình_dân', 'y_tá', 'y_lệnh', 'Yên_Dũng', 'Thanh_Hoá', 'chữa', 'hiện_tượng', 'chống', 'Huy', 'kể_cả', 'kết_luận', 'chết_não', 'học_tập', 'Charm', 'quần_áo', 'luồng', 'siêu_thị', '268', 'VIP', 'Do', 'mọi', '16/4', 'tẩm_liệm', 'N.T.P.N.', 'trạng_thái', 'Vũ_Hán', 'Thực_ra', 'nữ_giới', 'phục', '’', 'kỹ_thuật_viên', 'pháp_y', 'Mỹ_Sơn', 'Nguyễn_Văn_Đăng', 'thăm_quan', 'rra', 'Vĩnh_Đức', 'Lữ_đoàn', 'thẩm_định', 'thể', 'mãn', 'nhiệt_tình', 'Ngoại', 'VN008', 'theo', '30/8', '7', 'cố_định', 'Mandarin_Garden', '61', '83B', '1956', 'Nguyễn_Nha_Kha', 'Buddha_Bar', 'VJ5967', '955', 'cứu_thương', '947', 'độc_tố', 'Bác_sĩ', 'giường_nằm', 'Vĩnh_Thái', 'thông_tin', '48A', 'P.L.V.Đ', 'BN547', 'số', '527', 'đá', 'Nai', 'vui_mừng', 'yên_tâm', 'Phú_Thọ', 'hộp_đêm', 'Cửa_Ông', 'Chung', 'Hưng_Yên', 'rã_rời', '56', 'Long', 'quá_khứ', 'dịch_tễ', 'tổ_trưởng', 'thuốc_bổ', 'Tuần_lễ', 'Lê_Quang_Minh', 'Phần_Lan', 'Bình_An', 'Thiệu_Hưng', 'phật_tử', 'Xuân_Quang', 'T.', 'H.T.B.', 'thực_tập', 'gốc', 'Năm', 'phổi', 'Xác_định', 'day', 'bus', '809', 'bịa_đặt', '180/180', 'Miễn_dịch', 'BN322', 'An_Khê', 'Tiền_Phong', 'Em', 'Phnom_Penh', 'mã_số', 'Bến_Vân_Đồn', 'trà', '247', '182', 'đặc_nhiệm', 'visa', 'đất_nước', 'nghĩa_là', 'Kingly_Hotel', 'biên_giới', 'V.V.T.', 'Côn_Đảo', 'Trại', 'tiếp_nhận', 'làm', 'ngờ', 'Liên_Bảo', 'Dương_Đình_Nghệ', 'Phố_Là', '23h45', 'liệt', 'Hà_Văn_Tính', 'VN0002', 'Mỹ_Hào', '12', 'Nguyễn_Quốc_Hùng', 'Đan_Mạch', '27/7', '19/2', 'Hồ_Sỹ_Cường', 'Nguyễn_Hồng_Lai', 'thi_công', 'Vì_vậy', 'BN24', 'Nam_Ninh', '255', '550', 'thiện', '1028', 'mai', '675', 'uốn_ván', 'ổ_bụng', 'vú', 'dài', 'nhắn', 'yên', 'đường_mòn', '903', 'oxy', 'P.T.T.T.', 'nghiệp', 'lymphoma', 'rượu', 'khóc', 'đáng_lẽ', '1.199', 'Lào', 'khạc', '415', '170', 'cứu', 'Sơn_Trạch', 'nóng', 'rác_thải', 'sốt_xuất_huyết', '579', 'Grab_Bike', 'nghìn', '957', 'Dung_Quất', 'N.H.N.', 'tạm_trú', 'Hội_chứng', 'hoảng_sợ', 'làm_cao', 'hầm', 'SU2313', 'VN311', 'thu', 'kiếm', 'Khởi_phát', 'ngủ', 'khách', 'tham_gia', 'tác_dụng', 'hoá_ra', 'hồi', 'Konplông', 'Đa_số', 'đạp', 'ĐBSCL', 'Diễn_tập', 'chủ_yếu', 'Hải_Dương', 'lọt', 'Thận', 'chéo', 'Sarawak', 'P.P.L.', 'Hồ_Thị_Mỹ_Duyên', 'ý_kiến', 'Từ_Liêm', 'bú', 'đồ', 'Phẫu_thuật', 'Khám_Chữa', 'bằng', 'xã_phường', '￼￼', 'dạ_dày', 'tệ', 'viêm', 'Gò_Vấp', 'Vạn_Lương', 'giả_thiết', 'thành_viên', 'Nguyễn_Tri_Thức', 'ác', 'https://tokhaiyte', 'tì', 'quan_chức', 'giáo', 'Khoa_Bệnh', 'hữu_nghị', 'Dịch_tễ', 'Đ.K.V.', 'giọt', 'thứ_bảy', 'nang', 'Dự_kiến', 'Nguyễn_Thị_Kim_Loan', 'Trần_Viết_Tiến', 'An_ninh', 'vận_tải', 'gặp_gỡ', 'khàn', 'nước_mũi', 'lả', 'quan_sát', 'chuyển_biến', 'Mống', 'ceton', 'tắm', 'Người_Phát_ngôn', 'An_Phước_Viên', 'Hoà_Cường_Nam', '484', 'công_an', '889', '750', 'Hong_Kong', 'EK188', 'ý_nghĩa', 'Nguyễn_Trung_Nguyên', ')', 'Kiểm_dịch', 'thị_sát', 'Kanzaki', 'nhỉ', '571', 'Người_bệnh', 'đoạn', 'báo_tử_vong', '38A', 'bác_sĩ', 'e_ngại', 'bộ_trưởng', 'toàn_diện', 'căngtin', 'thắt', '1.028', 'đỏ', 'Thanh_Giang', 'vi_trùng', 'Tân_Đông', 'họp_báo', 'hoang_mang', 'Chính', '19/1', 'mùa', 'Yến_Nê', '5.000', '234', 'Giốc', 'khách_sạn', 'Duy_Tân', 'Pasteur_Nha_Trang', 'quận_uỷ', 'con_riêng', 'Bến_Nghé', 'luôn', 'quang_tuyến', 'phơi', 'đường_hàng_không', 'cứu_chữa', '79', 'Nguyễn_Văn_Thơm', 'Hồ_Chí_Minh', 'London', 'Tân_Hưng', 'hãng', 'Láng_Hoà_Lạc', 'Hồi_Giáo', 'quốc_gia', 'Duyên', 'sốc', '94%', '36A', 'Liệu', 'khuyên', 'thị', 'gà', 'thi_thoảng', 'Ung_bướu', '698', 'Phổi', 'P.T.B.T.', 'đột_ngột', '1077', 'học_viên', 'Trịnh_Châu', 'liệt_kê', 'golf', 'Thăng_Bình', 'chức', 'Búp_Sen_Vàng', '–', 'rạng', 'đồng_tử', 'Số', 'Phú_Diễn', 'qua', 'T.T.T.V.', 'chị', 'nam_sinh', 'Ô_Môn', 'Hải', 'không_khí', 'công_suất', 'Hơn', '806', 'lưu_ý', '428', 'gió_mùa', 'N', 'Saudi_Arabia', 'Hiện', 'tiểu', '811', 'bảo', '203', '286', 'trích', 'Nguyễn_Tải', 'chuyên_sâu', 'chánh', 'CP', 'VJ7816', 'Các', 'Có', 'lực_lượng', 'Nên', 'Nhưng', 'đạo', 'thiếu_nữ', 'Thành_phố', 'Tuy_vậy', 'Ví_dụ', 'trí_tuệ', '327', 'số_liệu', '325', '416', 'cụt', 'bế', 'gãy', 'Cùng', 'ngon', 'Kuwait', 'ước_lượng', 'Hoàng_Đức_Dũng', '770', 'Thủ_Đức', 'mổ', 'N.X.T.', 'Tân_Quang', 'Nguyễn_Thành_Phong', 'cái', 'Thép_Việt_Ý', 'ông', '943', 'nội_đô', 'Quốc_Tử_Giám', 'và', 'Văn_Miếu', 'Q.Thanh', 'giám_sát', 'Bảng', 'Bé', 'dị_tật', 'trước_đây', '8h30', 'phòng_chống', 'chu', '547', 'bài_học', 'Đ.T.X.L', '896', 'Tam_Quang', '6h', 'Khoa_Thần', '657', 'đủ', 'L.ANH', 'gen', '23h', 'BN324', 'sản_sinh', 'chat', 'hình', 'sai', 'D.Đ.P', '5/5', 'Trần_Bi_Bi', 'bán_dẫn', 'tuỷ', 'Hai_Trâm', 'resort', 'vội_vàng', '12B', 'Lund', 'già_yếu', '16.000', 'hàng_hoá', 'H.V.K.', 'đặt_chân', 'khởi_động', 'Mỹ_Lương', 'nhiễm', 'Phổ_Yên', '27/1', 'cơm', 'Đông_Phong', 'thêm', '.', '694', 'dần', '32', 'Người', 'Khuê_Trung', '280', 'Quảng_Uyên', '786', 'ấy', 'trang_thiết_bị', 'Giám_sát', 'căn_cứ', 'AirAsia', 'đó_đây', 'ngoài.Bà', 'thêu', 'núi', 'sự', 'ánh', 'B', 'sơ_bộ', 'rác', 'khả_nghi', 'Đồng_Nai', 'chừng', '439', 'Và', 'mục_đích', 'Thanh_Hà', 'mét', 'đồ_hoạ', 'kiến_trúc', 'tu_sĩ', 'bế_giảng', 'trật_tự', 'rút', 'Đầu_tư', 'Phương_Mai', 'ttiếp', 'Italy', 'lẻ', 'Budha', 'Xuyên_Mộc', 'Quảng_Bá', 'Cát_Lâm', 'Vĩnh_Hà', '913', '1014', '12h3', 'đượ', 'Nhật_Bản', 'Hướng_Tân', '708', 'Kim_Sơn', '397', 'xạ_trị', '210', '1/9', 'Đồng_Hới', 'Pháp', 'tiến', 'Nhiễm_khuẩn', 'hôm_nay', '17/4', '1020', '1770', 'Vinmec', 'miến', 'Phần_lớn', 'Hơn_nữa', 'Huệ_Phong', 'giả_sử', 'CoVid', 'máy', 'VN1', 'gần_gũi', 'hoả_táng', '884', 'Nguyễn_Hoài_An', 'Chẳng', 'VN1547', 'hưu', 'ổ', 'ký_túc_xá', 'Thanh_niên', '16/5', 'Chuyên_gia', 'khám_chữa', 'Đỗ_Duy_Cường', '70', 'Lực_lượng', 'phết', 'Cẩm_Thanh', '59%', 'ăn_uống', '6/7', '755', 'Võ_Hùng_Viễn', 'tổ_chức', 'gene', 'Nguyễn_Chí_Dũng', 'Hôm', '0054', 'kÔng', 'Phụ', 'sung_huyết', '11.077', 'làm_ăn', 'kiểm_dịch', 'N.V.M.', '107', 'Tuyên_Quang', 'Cháu', '1021', 'dân_số', 'Đình_Dù', 'Giác_Nguyên', 'Nhi_Đồng', 'dấu', 'nCoVđể', 'Đặng_Văn_Khánh', 'Bất_cứ', '1054', 'tiền_sử', 'Khiêm', '671', 'trú', 'chuyên_dùng', 'Đang', 'Phụ_nữ', 'Phổi_Bình_Thuân', 'Nói', 'Thế_giới', 'nâng', 'Lo_ngại', '197', 'dã', 'hiện_tình_trạng', 'N.P.H.', 'Đã', 'nắm', 'thấy', 'rung_chuyển', 'Một_vài', 'Giá_Rai', 'Nguyễn_Khắc_Hiền', 'Tuy', '71', 'đa_khoa', 'Nguyễn', 'thoát_vị', 'vui_chơi', 'Sapa', 'Giang', 'Gíam', 'dâng', 'kỳ', '226', 'thoái_hoá', 'ốm', 'phép', '13/8', 'Tâm_Phúc', 'Thiên_Tân', 'ngày_một', 'Hàng_Đào', 'bây_giờ', '2002', 'kháng_sinh', 'Đức_Hiệp', '242', '465', '177', '91', 'Miền', 'được', 'Đại_học', 'thế', 'đuổi', 'một_số', 'hồi_phục', 'Nữ_sinh', 'La_Sơn', 'Tà_Tây', 'Trần_Cung', 'bão', 'Park_View', 'Hai_Bà_Trưng', 'ngày_đêm', 'tâm', '163', 'chỉ_thị', 'đổ_dồn', 'hở', 'Peninsula_Resort', 'Fanpage', 'Mai_Văn_Huỳnh', '825', 'Nguyễn_Văn_Kính', 'nội_trợ', 'phóng_viên', '611', '1993', 'trước_sau', '250mg', 'Tây_Ban_Nha', 'tuổi', 'kiểm_dịch_viên', 'An_Thắng', 'mở', 'đầu', 'sinh_viên', 'họ_hàng', 'cai', 'Tài_chính', '9/6', 'Guinea_Xích_Đạo', 'N.M.', 'VN6', 'tạm_biệt', 'kinh_tế', '490', '30%', '258', 'Tỉnh', 'bún', '607', 'Lệ', '819', 'dự', 'đáng', 'nghiêm', 'vất_vả', '29/8', 'BN906', 'Tuý_Loan', 'Homestay_Hue_Villa', 'đông_đặc', 'lấy', 'bao', 'Sơn_Lôi', '3/6', 'Hà_Lam', 'dì', 'Coopmart_Tam_Kỳ', 'bất_khả_kháng', 'Ái', 'xơ_cứng', 'Trần_Thiện_Cảnh', '486', 'chuyên_khoa', 'mục_tiêu', 'chửi_bới', 'Xung_phong', 'Virus', 'Nga', 'thầy_giáo', 'Hiện_tại', 'vì_vậy', '898', '336', 'đều', 'dây_chằng', 'Nguyễn_Gia_Bình', 'N.T.T', 'nguy_hiểm', '26/2', '98,3%', 'bối_rối', 'C.', 'tối_thiểu', '582', 'quà', 'Chuyên_môn', 'Ngõ', 'Bệnh_viện', 'Chị', 'vượt', 'MERS', 'dã', 'Siêu_thị', 'An_Hội', 'Hải_Tân', 'thầy_thuốc', 'điều_phối', 'Lê_Tấn_Trung', 'dâu', 'Hôm_qua', 'Nẵng', 'cẳng_tay', 'Chuyên_khoa', 'BN', '391', '11h15', 'quán_triệt', 'IO4405', 'Quốc_Trung', 'chứng', 'lường', '344', 'thắt_lưng', '552', 'sửng_sốt', 'hàng_đầu', 'Viện', 'điều', '474', 'và_Ryan', '399', '16', 'Ba_Đình', 'hẹp', 'tín_đồ', 'Quản_lý', '138', 'hẹn', 'Thôn', 'Oriental_Suiter', 'trường_hợp_viên', 'đảm_nhiệm', '191', 'bệnh_phẩm', 'Trúc_Bạch', '1/8', 'LD', 'Trần_Mạnh_Hồng', 'tiệc', 'Thạch_Thành', 'chủ_tịch', '73', 'SARS', 'tuần_lễ', 'thi_thể', 'chuỗi', 'thánh', 'La_Gi', 'phương_pháp', 'VJ7837', '69', 'HUFLIT', 'Chiba', '21h', 'biết', 'hợp_đồng', 'Khôn_Duy', 'danh_sách', 'VN1915', 'câu_chuyện', 'Xanh', '1034', 'thủ_phủ', 'tiểu_ban', 'tương', 'xá', 'điện_thoại', 'P.Hàng', 'văn_phòng', 'Phan_Chu_Trinh', 'người_phát_ngôn', '850', 'Giang_Tô', 'Tr.A.T.', '204', 'Lý_Nhân', 'sinh_thái', 'cố_tình', 'bất_an', 'Đức', 'Bảy_Huấn', 'Copenhagen', '1524', 'tàu_điện_ngầm', '87.000', 'Châu', '26', 'khiến', 'Buổi', 'Mega', 'làn_sóng', 'Cao_Thắng', 'Busan', 'vay', 'Tống', 'nữ', 'đồng_nghiệp', 'Cẩm_Phô', 'nạn_nhân', 'liên_hệ', 'kỳ_tích', 'bán', '942', 'chúng_tôi', 'Thiền', 'tối_ưu', '18h30', 'Đông_Cứu', 'Lê_Đức_Nhân', 'kiếm', '29/4', 'Thạch_Hải', 'xám', 'Sa_Đéc', 'sảnh', 'rõ_rệt', 'hen', 'giải_quyết', 'Trước', 'Võ_Văn_Tần', 'An_Thượng', 'The_For_You', 'Triệu_chứng', 'tỉ', '23/4', 'Nhắc', '714', 'septic', 'thì', 'Nghề_nghiệp', 'xoay_trở', 'Vũ_Quỳnh', 'chia', 'Lao', 'Gia_Định', 'Hà_Thanh', 'chúng', 'quyền', 'giả_thuyết', '\\u200bNgày', 'Tiến_hành', 'Tân_Phát_Địa', 'hồi_sinh', 'chúng_ta', '4.500', 'TK162', 'người_lớn', 'Sarawar', '506', 'viếng', 'Nguyên_nhân', 'Trả_lời', 'phân_luồng', 'Văn_phòng', '154', 'Kim_Bảng', 'L.T.H.G.', 'Thanh_Trì', '367', '4.307', 'Nhật_Tân', 'Brazil', 'Cát_Lái', 'Đam', 'Một', 'xuyên', 'lão_khoa', 'run_rẩy', 'Quảng', 'nhà_nhà', 'khuya', 'nhiệt', '499', 'khác_biệt', 'cụ_thể', 'Phạm_Thị_Hồng_Thuý', 'lộ_trình', 'Tổng_cộng', '404', 'sinh_tử', '1025', '590', 'Duy_Trung', 'rau', 'tận_dụng', '4/9', 'Bình', 'quá_cố', 'nước', 'Y', 'Hà_Nội', 'giỗ', 'đợi', '208', 'gian', 'khai_báo', 'T.T.B.', 'cấp', 'lao', '29/5', 'vận_chuyển', 'suy_kiệt', '63', 'hội_nghị', 'nước_tiểu', 'Bình_Dương', 'Bàu_Càu', 'tiêm_chủng', 'hết_mình', 'Danh_sách', 'Bhutan', 'chuyển_dạ', 'qua_lại', 'Ấp', '1.642', 'N.K.', 'tập_thể_dục', 'N.T.T.N', 'N.T.Đ.', 'Gia_Nghĩa', '22K', '294', '732,733', 'Nguyễn_Sơn', 'nước_mắt', '881', 'nữa', 'Đại_Lộc', 'Ngọc_Quang', '13/20', 'HOÀNG', 'nội_trú', 'QH461', 'ngược', 'Nhân_Lư', 'Vũ_Nạp', 'Khí', 'Thủ_Dầu_Một', 'hiện_hành', 'vừa_mới', 'Tân_Kỳ', '553', 'chập_chờn', 'Viên', 'nhân_lực', 'Lương_Ngọc_Khuê', '858', '914', 'Có_thể', 'thép', 'Cần_Giờ', 'tỉnh_táo', '575', '53B', 'đô_thị', 'gián_tiếp', 'Da_Liễu', 'cam_kết', '610', 'thuỷ', '998', 'kết_nối', '14h17', 'trang_web', '1.300', 'rút', 'An_Mỹ', '24/8', 'huy_động', 'quận', 'sốt', 'đông', 'Phúc_Lợi', 'Internet', 'đơn', 'Thanh_Miện', 'thay_vì', 'Trạm', 'chúc_mừng', '15/7', '7209', 'BMI', '8/8', 'Cầu_Giấy', 'Toàn', '11/16', 'InterContinental_Đà_Nẵng_Sun', 'loại', 'Tham_gia', 'ngay\\u200b\\u200b\\u200b\\u200b\\u200b\\u200b', 'ương.Nữ', 'tang_lễ', '476', 'Da_liễu', 'là', 'Hoàng_Thị_Quỳnh', 'hạ_cánh', 'ban_ngành', 'đặt', '468', 'thị_thực', 'Nam_Phước', '1%', 'Ninh_Bình', 'lễ', 'thần_kỳ', 'Lam_Hạ', 'thứ_tự', 'Ngọc_Sơn', 'thuốc_tây', 'bảo', '1.270', 'Giới_chức', 'giải_pháp', '165', 'L.T.H.', 'miễn_dịch', 'giấy', 'suy_yếu', 'chất_lượng', 'các', '787', 'trường_sinh', 'giáo_sư', 'phản_ánh', 'Tân_Phú', 'chuyện', 'thanh_toán', 'xe_du_lịch', 'Lúc', 'bớt', 'Tình_hình', '1973', 'đấu_giá', 'CPAP', '03126', 'đăng_ký', 'Nhiệt_đới', 'lễ_tân', 'thứ_phát', 'KIM', 'tạo', '1.007', 'ngang', '6/5', 'Diêu_Phong', 'Phạm_Văn_Đồng', 'C.P.S.', 'Đề_cập', 'Diamond_Princess', 'Trường', 'nhộn_nhịp', 'đêm', 'tốt', 'Đa_Phú', 'dân_cư', 'Liễu_Trì', 'đại', 'Nguyễn_Chánh', 'Quả_vậy', 'chân_chỉ', 'Tuần', 'Đại_diện', 'Áp_lực', 'tràn', 'Nguyễn_Thanh_Phong', '588', 'Con', 'Trà', 'họp', '223', '6E8679', '4h30', 'xây_dựng', 'Khu_phố', 'Display', 'cảm_giác', '28/7', 'Nguyễn_Thanh_Trường', 'Điện_Máy', 'thành_thị', 'N1', '911', 'khá', 'M', '1009', 'bình_quân', 'CH', 'Hương_Sơn', 'bạn', 'Hội', 'cơ_bản', '252', 'Nepal', 'Tôn_Đản', 'tơ', 'Đăk_Lăk', 'Người_thân', '316', 'Japan_Airlines', 'sọ', 'Bến_Cát', 'loại_trừ', '42', 'Đồng_Hỷ', 'B.T.', 'tàu', 'quy_chế', '817', '22/53', 'hiểm_nghèo', '777', 'T.V.M.H', 'Chỉnh_hình', 'xấp_xỉ', 'nay', 'đại_diện', '16h3', '9h54', 'virus', 'kinh_ngạc', 'nhức', 'phủ_tạng', 'Tại', 'chuyển_đổi', 'Transimex', 'kết_quả', 'quá_cảnh', 'Thanh', '76', 'Đại_Hiệp', 'đài_truyền_hình', 'N.T.D.', 'Mỹ_Lộc', 'giỏi', 'nguy_kịch', 'giới_chức', '535', 'Nghi_Lộc', 'Lầu_Đèn', 'nỗi', 'căng_thẳng', 'bất_ngờ', '122', 'làm_thuê', 'Maldives', 'Moon_Light', 'bãi', 'nam', 'Quây_Sơn', 'Tuổi_Trẻ', 'hàng', '766', 'trực', 'Nam', 'Tinh', 'vì_thế', 'J', 'L.P.A.', 'An_Giang', 'khẩn', 'An_Phú', 'Lệ_Sơn', '276', 'Tạp_hoá', 'Lọc', 'Ích_Đường', '674', 'Ba_Tơ', 'may', 'Hoà_Cường_Bắc', 'giấy_tờ', 'nghĩa_trang', '464', 'Xuyên_Đông', 'cảm_phục', 'Bước_đầu', 'Ân_Thi', 'Bỉm_Sơn', 'hộ_khẩu', 'giải_khát', 'lan_toả', '140', 'B.Đ.Tr.', 'Livitras', 'tiêu_chí', 'Quốc', 'Trần', 'Trường_hợp', '6', 'êm', 'chấm', 'Nguyễn_Ngọc_Sang', 'Tây_Thành', 'kết', 'Siem_Reap', 'T.A.', 'Paster_Nha_Trang', 'Ninh_sơn', 'Hồ_Minh_Nên', '970', '1/4', 'cuộc', '2/69', 'L.', 'chấp_nhận', 'Khách_sạn', 'Nguyễn_Tấn_Bỉnh', 'Họ', 'ba_cùng', 'Hùng_Vương', 'Bảy', '-', 'Thái_Bình', 'Hà_Vi_Vi', 'bỏ', 'vương_quốc', '410', '685', '1061', 'lượng', 'kem', 'Bảo_Lộc', 'thủ_đô', 'Xã', 'tổn_thương', 'chênh_lệch', 'VN319', 'Tuấn_Anh', 'chứa', 'chồng_con', 'Tối', 'thành_công', 'tiếp_xúc', 'Eden_Plaza', '”', '4h', 'giới', 'thị_trấn', '409', 'ác_tính', '605', 'Hàm_Thuận_Bắc', 'V.B', '743', 'gấp_rút', 'Thanh_Nhàn', 'lãnh_đạo', 'M.T.N.T.', 'xác_minh', '1972', '32F', 'thăm', 'động', 'truy', 'Tám', 'mẹ_con', 'mask', 'vi_sinh', '221', 'Kiến_Thuỵ', 'gái', 'hậu_quả', '1.200', 'Mộc_Bài', 'bước_đầu', '603', 'thứ_sáu', 'bé', 'bảo_đảm', 'nặng_nề', 'F0', '498', '505', 'Milan', '413', '866', 'ThS.BS', 'chủ_quan', 'chỉ_đạo', '49', 'tích', '284', '24/7/2020', 'mạng', 'hoá_trị', 'Một_số', 'VN331', '53', '6/3', 'Nguyễn_Đại_Vĩnh', 'Kiển', 'Trực_Trì', '570', '18h15', 'CA', 'Ngưng', 'nhà_tắm', '13', 'vào', 'Tân_Sân', 'bị_thương', 'Nguyễn_Hương_Giang', 'Đại_sứ_quán', 'công_đoàn', 'vui', 'phổ', '454', '1016', 'Gold', '1.592', 'Xá', 'sởi', '68%', '9/8', 'Tiểu', '487', '22h', '19', 'Phạm_Viết_Chánh', 'buổi', 'Đỗ_Thị_Bình', 'nhà_trường', 'bia', 'nhạy', '833', '909', 'Trượng_Em', '507', 'náo_nhiệt', 'H.', 'Nguyễn_Khắc_Nhu', 'Đ.T.A.', 'Cảng_hàng_không', '11', 'bê', '172', 'nuôi_cấy', 'kiệt', 'Tại_sao', '13/2', 'Phạm_Mạnh_Cường', '744', 'khoảng', 'lơ_là', 'Thông_tin', '19.352', '41D', '759', 'Bỉnh', 'sẵn_sàng', 'dám', 'Quảng_Châu', 'nội_ngoại', '447', '1058', 'VN62', 'BN716', '784', 'Trà_Vinh', 'Hoà_Thọ', 'sườn', 'thường', 'được', 'Milan_Fashion_Week', '103', '313', 'khẩu', 'trần', 'sau', 'toàn_thể', '596', 'nhắc', 'thường_trực', 'Cytokine', 'tật', 'đứa', '283', 'giặt', 'xương', 'thống_nhất', 'chẳng_là', 'chloroquine', 'Hà_Mạnh_Hùng', 'cuộc_gọi', 'hầu_hết', 'Vibot', 'gồm', '167', '2.663', '783', 'hỏi', '617', 'sáng_mai', 'Phải', '22', 'cô_lập', 'tạm', '11/7', 'Ngọc_Lan', 'buộc', 'đa_số', 'Q.Tân', 'thực_hiện', 'ni_cô', 'quốc', 'vành', 'Đồng_Xuân', 'nghỉ_ngơi', 'đột_biến', 'dập', 'cơ_học', 'Phan_Khang', 'bào', 'dễ', '6.100', 'bà_xã', 'cháu', 'Á.', 'sở_hữu', 'càng', 'Phúc_Thọ', '1039', 'đại_dịch', 'động_mạch_vành', 'nước_bọt', 'TG560', 'vị_trí', '307', 'tai', 'ít_ra', 'Công_Lự', 'N.H.T.T.', 'khan', 'Đà', '13/16', 'V.T.Đ.', 'phong_toả', 'thím', '542', 'này', 'Hoà_Hải', 'Hoa', 'Arab', 'cách_thức', 'Học_sinh', 'kháng_thể', 'trở_ngại', 'Quyến_luyến', 'Lê_Sơn_Nam', 'Nguyễn_Trọng_Diện', 'Cà_Mau', 'Nguyễn_Quang_Vinh', '6.000', 'Khuê_Mỹ', 'Hồ', 'Tứ_Tượng', 'Vinpearl_Golf_Nam_Hội', 'nói_riêng', 'Hoàng_Văn_Đức', 'Chuyến', 'Tuy_Hoà', 'đời', '7C', 'Ngãi', 'sách', 'Công_nghệ_cao', 'dọc_ngang', 'chặt_chẽ', 'Incheon', 'Đình_Lập', 'Tam_Nghĩa', 'yếu_tố', 'Nguyễn_Nhị_Linh', 'Frieman', 'Trần_Thị_Oanh', 'hổn_hển', 'xung', 'yếu_thế', 'D.Đ.P.', 'Khánh_Sơn', 'vòng_tay', 'trực_tràng', 'Quyết_định', 'thay_đổi', '933', 'bóc', 'N.T.K.L.', 'với', 'tai_nạn', 'cảm', 'Phạm_Thu_Xanh', 'Biên', 'đậu', 'Thuyết', 'Thị_trấn', 'B.D', 'rất', 'Saigontourist', '319', 'toả', 'đồng_ý', 'Ấn_Độ', 'Hồng_Ngọc', 'sẵn', '18/8', 'Huỳnh_Công_Quang', 'trực_ban', 'tròn', 'Triều_An', 'nhiễm_độc', '688', 'Khoa', 'mức_độ', 'tuần', '1017', '123', 'có_thai', 'nguyên', 'Phan_Châu_Trinh', '68', '797', '171', 'Khám_chữa', '988', 'hãy', 'cá', 'Lộc_Phát', 'tạp', 'mờ', 'quãng', 'Ngoài', 'Bồ_Đề', 'Hồ_Văn_Đại', 'xúc', 'bác_sỹ', 'T.V.H.', '879', '853', ',', 'yêu_cầu', 'Nam_Định', '1015', 'thư_điện_tử', 'Võ_Văn_Bản', 'Thông_báo', 'Đ.T.T.L.', 'SQ', 'dư_luận', 'du_lịch', '958', '4,8%', 'Phong_Điền', 'Khoa_Nguyễn', 'Xuân_Trạch', '88', 'Huỳnh_Thái_Tiễn', 'Đinh_Thị_Hải_Yến', 'Đến', 'BN243', 'dốc', 'VJ981', 'lưu', 'tức', 'học_sinh', 'rào_chắn', 'Mạ', 'sa_sút', 'Thạch_Đài', 'Tân_Định', 'máy_bay', 'siêu_âm', 'Liên_bang', 'dự_án', '637', 'dường_như', 'Cổng', '17/7', 'VnExpress', 'Trần_Như_Dương', 'Ngô_Sĩ_Liên', 'một_mặt', '22/6', 'Trên', 'Dung', 'Phạm_Ngũ_Lão', 'Aiways', 'Yên_Hoà', 'Khuya', '540', 'rõ', 'tăng', '0018', '176', '2C', '0h45', 'Chi', 'T.Đ.C.', 'Tiền_Giang', 'Tiên_Dương', 'chơi', 'một_triệu', 'Tiết_niệu', 'quốc_phòng', 'huyết', 'Hoàng_Thị_Loan', '45', 'bàn_giao', '633', 'công_chứng', '676', 'lấy', 'mật', 'tiếp_tục', '19h', 'gai', 'AsiaAir', 'Hoàng_Chí_Hiền', 'Quân_khu', 'cầu_thang', '..', 'như', 'tập_hợp', 'T.Q.V.', 'Nhật', 'N.H.L.', 'Cha_mẹ', 'cơn', 'đối', '14/7', '1.057', 'Đặng_Thị_Lynh_Trang', 'lâm_sàng_thể', 'nguyên_tắc', '3D', 'truyền', 'Nguyễn_Hồng_Hà', 'Long_Biên', 'quen', 'bênh', 'cẳng', 'khoảng_cách', '232', '558', 'nhà_xe', 'Gan', 'phạm_vi', 'Phòng', 'tự_động', 'Nguyễn_Phương_Anh', 'vận_hành', '343', 'Xí_nghiệp', 'call', 'Tạ_Quang_Thái', 'thận', '411', 'Tùng', 'công_thức', 'Hồi_An', '17/9', 'Trước_đây', 'hội_tụ', '735', '23h5', 'Sống', '525', 'Trùng_Khánh', 'chịu_tang', 'Thành_viên', 'cha', 'kịch_bản', '57', 'Trần_Quang_Bính', '393', 'N.Q.N', 'Ngô_Lương_Lam_Kiều', 'choáng_váng', '12h30', 'tháng', '826', '4h45', 'Thơ', 'SamSung', '9h3', 'Xie', 'hấp_phụ', 'giao_dịch', 'té', 'Thắm', 'quay', 'máu', 'Mê_Linh', 'Điều_dưỡng', 'đồng_bào', 'Hiến', '8h20', 'of', '483', 'hết', 'Vanda', 'ngay_lập_tức', 'Trần_Thái_Tông', '5,5', 'máy_phát_điện', 'Hậu_quả', '595', 'ứng_dụng', 'Quảng', 'theo_dõi', 'tại_chỗ', 'Thái_Sơn', '326', 'sim', 'bàn_đi_tính_lại', 'Idris', 'Khoa_Tim', 'N.T.T.H.', 'Hồi', '189', 'Nhà_ăn', 'Q.Q.T.', 'tỵ', 'Biểu_Chánh', 'khẳng_định', 'thời_tiết', 'chợ_chiều', '465/491', 'công_dân', 'xí_nghiệp', '928', '13.500', 'sợ', 'giờ', 'xăng_dầu', 'ghế_ngồi', 'Tiến', 'Thuận_Nam', 'hộ_lý', 'Kuala_Lumpur', 'tội_phạm', 'Đ.V.B.', 'hồng', '1047', 'hang_động', 'luân_phiên', '77', 'nghiêm_túc', 'biến_chuyển', 'La_Đôi', 'nói', 'Phi_Thông', 'Bà_Điểm', 'cơ_động', 'Vân_Phúc', '33J', '7h15', '732', 'gặp', '1,134', 'cháu', 'Khác', 'Video', 'Diên_Khánh', 'CoV2', 'BN964', 'cản_trở', '1983', 'trang_bị', 'quan_tâm', 'Xăng_dầu', 'đổ_xô', 'Nguyễn_Văn_Phóng', 'thời_kỳ', 'Đặng_Ngọc_Dũng', 'tranh_cãi', '27K', 'Vĩnh', 'căn', '0h30', '493', 'hôm', 'Nam_Sách', 'Khoa_Hồi', '261', 'Hãng', 'sốt_rét', 'cường_giáp', 'B21', 'Matxcơva', '6.018', 'Big_C', 'mệnh_lệnh', 'Tôi', 'P.T.T', 'buồng', 'sau_này', 'ông_bà', 'sở_tại', '005', '211', 'truyền_nhiễm', 'kè', 'Khu', 'ung_bướu', '373', 'N.Đ.T.', 'Trung_đoàn', 'tài_trợ', 'Nhà_hàng', 'Nhân_Dân', 'VN163', '2K', 'ngược_lại', 'Bắc_Từ_Liêm', 'chỉ_định', 'chiều_tối', 'Koch', 'lễ_hội', 'Nguyễn_Xuân_Lưu', 'Harmonia', 'Lái_xe', 'BN970', 'tín_hiệu', 'Châu_Giang', 'hốc', 'Istabul', 'cơ_sở', 'u', 'gia_đình', 'virua', 'buốt', 'chụp', 'Thuỷ_thủ', 'Kim', '842', 'Ý', 'Cẩm', '1/3', 'Hoà_Bắc', 'dẫn', 'em', 'tiếp_diễn', '3K', 'trôi', '969', 'Khử_trùng', 'đại_sứ_quán', 'mặt_đất', 'công_chức', 'BN592', 'giúp_đỡ', '328', 'Diện', 'phục_vụ', 'trả', '979', 'H.H.T.', 'Mối', '10/7', 'Nagoya', '304', 'chót', 'Khê', 'Ngay', 'có', 'Vĩnh_Hoà', '489', 'chia_sẻ', 'Đại', 'acid', 'ủ_bệnh', 'Siêu_Thị', '12h', 'màng', 'đáp_ứng', 'Chăm', 'Ngoại_trừ', 'Nguyễn_Đức_Chung', '924', 'Philippines', 'máy_móc', 'triệu_tập', 'gạt', 'Cẩm_Kim', 'Hòn_Gai', '723', 'huyết_tương', '517', 'Tối_ngày', '1053', 'Bến_Tre', 'hành', 'giọng', 'Nguyễn_Việt_Phương', 'Thuỵ_Điển', 'H.Đ.B.', 'nối', 'Điều_phối', 'cập_nhật', 'Lão_khoa', 'đông_đúc', 'ruột', '364', 'thu_dung', 'T.V.D.', 'xe_đạp', 'Phượng', 'nội_soi', '495', 'ngạc_nhiên', 'Liêm', 'Nguyễn', 'Tuy_nhiên', 'nước_ngoài', 'ngụ', '285', 'sinh_tồn', 'Lê_Huy_Vũ', '624', 'vực', 'quanh', 'L.T.T.H.', 'Ô_Chợ_Dừa', '855', 'Cái_Nước', 'nhân_vật', 'Đỗ_Quang', 'Indonesia', 'trực_tiếp', '“', 'mợ', 'lưu_hành', '273', 'gấp_gáp', 'áp_suất', '33H', 'Lộc', 'binh', 'trẻ_em', '526', 'Medic_Sài_Gòn', 'thu_gom', 'chị_em', '1012', 'chăm_sóc', 'Krông_Búk', 'Ý.', 'Ít', 'chồm', 'Prince', 'KU1513', 'bệnh_nhân', 'giữ', 'nghe', 'Y_học', 'Yến', 'Hướng_dẫn', 'phân_loại', 'Phước_Long', '335', 'cao_ngất', 'F1', '4/4', 'đạt', '1024', 'đây', '2.700', 'Đáp', 'Lý_Thường_Kiệt', 'trái', 'cảng', 'Hoà_Khánh', '604', 'Thuận', 'hành_vi', '237', '1.021', 'VJ', 'lâu', 'Quan_Hiện', 'kháng', 'hiệu_quả', 'Khánh_An', 'COPD', 'Bamboo_Airways', 'Lãnh_đạo', 'Loan', 'Tổng_lãnh_sự', 'đoàn', 'quê_hương', '445', 'Thời_điểm', 'BN832', 'gấu', 'khám_nghiệm', 'đối_chứng', 'bằng_chứng', 'Thường_Đức', 'nán', 'kêu', '74', '22/1', 'buồn_nôn', 'ghế', 'CK2', 'Duy_Phước', 'Emirates', '463', 'Hoà_Hiệp', '1033', '125', 'giải_trí', 'Ngũ_Hành_Sơn', 'ghi_chú', 'Palace', 'V.T.H.', 'Nguyen_Nhan_Hoa', '18/2', 'COV', 'Linh', 'homestay', 'xác_nhận', 'SN', 'hô_hấp', '24A', 'Thi_thể', 'Văn_bản', 'trú', '11/2018', 'Hoàng_Văn_Thụ', '110', 'vật_chất', 'Cộng_Hoà', 'Long_Khánh', 'Thường_Phước', 'tham', 'Thượng_Bì', '101', 'tế', '546', '425', '423', 'hằng', 'Bà', 'chỉ_số', 'Cuối', 'tích_cực', 'sắp_xếp', 'khan_hiếm', 'Block', 'nguồn_gốc', 'Trong_sáng', 'đích_thân', 'lympho', 'Khoa_học', 'Truyền_thông', '1,83', 'xăng', 'toàn_cầu', 'bàn_chân', 'Hầu_hết', '1h30', 'Tân_An', 'bạc', 'Thịnh', 'Phan_Ngọc_Linh', 'Hoà_hiệp', '3.084', 'chính_thức', '902', 'Mễ_Trì_Thượng', 'Nguyễn_Duy_Long', '677', 'Bắc_Mỹ_An', 'thở', '8/3', 'lo', 'cách_ly', 'tưởng', 'viên', 'Cương', 'L.T.T.', 'xuất_nhập_cảnh', 'nặng', 'CDC', 'ruột_thịt', 'tường', 'nguy_cơ', 'biết_ơn', 'Xuất_viện', '6E8979', 'dựng', 'M.', 'AF258', 'Quân_sự', '100', 'du_học', 'ghi_nhận', 'tư_tưởng', 'Tân_Đông_Hiệp', 'thực_tập_sinh', 'đập', 'xay', '395', 'thiếu_niên', 'Lê_Tuyết', 'VN0054', 'typ', '761', 'BN594', '118', 'cafe', 'VN28', 'đóng', 'đào_tạo', '22/8', 'TK1770', 'Lập', '678', 'Quatar', 'Đông_Á', '\\u200b\\u200b\\u200bNgày', 'đem', 'đồng_hồ', '432', 'video', 'Ban_Bí_thư', 'Thắng', 'điều_dưỡng', '400', '1.024', 'Điện_Tiến', 'về', '20', 'Mai', '1006', 'Ví_như', 'Tạ_Nam_Chiến', 'dãy', 'phương_tiện', 'Gia_Viễn', 'hàng_phục_vụ', '55', 'chất', 'toàn_quốc', 'lựa_chọn', 'Trải', '6.500', 'Thanh_Hường', 'tại_sao', 'L.B.N.', 'Nghiên_cứu', 'VJ826', 'Vườn_Lài', 'Belarus', 'âm_tính', '315', 'Vũ_Quang', 'PV', 'Nước_Ngầm', '7.200', 'kích_thước', 'thông_số', 'Đ.N.V.', 'phú', 'người_quản_lý', 'mai_táng', 'tiết', 'ta', 'PGS', 'hầu_sáng', 'đợt', 'Đài', 'quan', 'Tim', 'Sở', 'lẫn', 'xuyên', 'châu_Âu', 'thế_hệ', 'Yên_Phong', 'gường', 'hoãn', 'Duy_Xuyên', 'bạch_hầu', 'sản_phụ', 'tập', '229', 'Đưa', 'Atlanta', 'VJ710', 'quá_tải', 'phố_phường', 'Nội_Tim', 'quân_đội', '60%', 'ký', 'Điển_hình', 'dự_kiến', 'gỡ', 'ran', 'Mắt', 'Tin', 'Đặng_Ngọc_Huy', 'Mac_Elisa', 'tham_quan', '230', 'tính', '983', 'ELISA', 'tươi', 'không_chỉ', 'hàng_không', 'Đông_Cữu', '915', 'ngành', 'trắng_xoá', 'Bùi_Ngọc_Ảnh', 'người_bệnh', '748', 'bình_luận', 'gan', 'tăng_cường', 'Trần_Hưng_Đạo', 'Kiều_Mai', 'T.N.', 'Tân_Trung', 'H', 'FPT', 'nói_chuyện', 'kiệt_sức', 'Hải_phòng', '15', 'mối', 'THCS', 'so', 'lúc_nào', 'mốt', 'tin_đồn', '3', 'kinh', 'khu_vực', 'Nguyễn_Quốc_Việt', 'trực_chiến', 'ca_từ', 'ổn_định', 'giàu', 'Nguyễn_Hồng_Nhung', 'cuối_cùng', 'bia_hơi', 'Phạm', 'bất_thường', '119', 'Nghĩ', 'VN0050', 'Đổng', 'A9', 'Lộc_Vừng', 'Thanh_Long', 'kịp_thời', 'Hy_Lạp', 'huyện', 'ECMO', 'Giáo_dục', 'N.M.T', '11h', 'từng', '3/7', 'Tân_Cương', 'chọn', '278', 'chuyển_phát', 'thui', 'phần', 'Cua_Biển', 'bỗng_chốc', 'mê_man', 'hội_đồng', 'ngày_sinh', '664', 'chằng_chịt', '10h20', '37,8', 'Hiện_nay', '561', 'Cổ_Nhuế', 'từ', '1032', 'Yên_Ninh', 'cười', '847', 'thất_thiệt', 'Tân_Đại_Lợi', '775', 'Phan_Thiết', 'Vào', '473', 'niệu', 'nhân', 'diện', 'N.Q.T', 'Trưởng', 'mạch', 'khám', 'TP.', '462', 'tóc', 'nông_dân', 'đám', 'Thực_tế', 'linh_cảm', 'khỏi', 'điều_kiện', 'QH9352', 'tập_trung', '356', 'Sơn_Hoá', 'Trâm_Anh', 'trợ_tim', 'Urumqi', 'trẻ', 'xúc_tiến', 'Lớn', 'BS.CKII', 'phổi', 'Kỹ_thuật', '173', 'VN054', '89', 'Khánh', 'Daegu', 'Dixong', 'thật_sự', 'Trà', 'sóc', 'niềm', 'chuyên', '194', '906', 'Lương_Viết_Thuần', 'lịch', 'ông', '20D', 'barre', 'steroid', '8/7', '10h2', 'Mplaza_Saigon', 'cưới', 'hướng_dẫn_viên', 'Nguyễn_Trọng_Thiện', 'Đại_Quang', 'Cho', 'thường', 'như_thế_nào', 'Nguyễn_Hoàng_Tôn', 'Chloramin_B', 'giao_thông', 'IO', 'đột_quỵ', 'dỡ', 'nuôi', 'khởi_phát', 'Cẩm_Chế', 'Lê_Đình_Dương', 'ánh_sáng', 'khi', 'Lỡ', '757', 'Dị_ứng', 'Realtime_PCR', 'lắp_đặt', 'Canada', 'thấp', 'Tây_Tựu', 'Nêu', 'toạc', 'ngẫu_nhiên', 'Đêm', 'Sơn_Động', 'bắt_đầu', 'đốc', 'Tam', 'May_mắn', 'Yên_Thành', 'Điều_trị', 'tiểu_ngạch', 'Hoà_Thuận', 'khu_phố', 'nội', 'VJ2432', 'thần_kinh', 'chân_thành', 'tổn_hại', 'mệt_nhọc', 'Tết', 'vét', 'Từ', 'Tâm_thần', 'Đồng_thời', 'For_You_Place_Đà', 'Trần_Khát_Chân', 'Lâm_Thao', 'Đường_sắt', 'Hiếu_Trang', '441', 'Nghĩa', 'Romania', '15/5', 'nền', '\\u200bChiều', 'Nhà_Bè', 'đốt_sống', '388', 'nướng', 'Ngọc_Hiển', 'VN', 'ít', 'đặc_thù', 'thánh_đường', 'Hướng_Hoá', 'phân_xưởng', 'Việt_Tiệp', 'Thừa_Thiên', 'Huỳnh_Tấn_Tâm', 'Nối', 'cảnh_tỉnh', 'Thanh_Ba', '972', 'Quá', 'block', 'Sức_khoẻ', '96', 'điện', 'Tam_Đảo', '355', 'nhận', 'Bùi_với', 'thân', 'thượng_thận', 'Haken', '532', '21/4', '22h30', 'Bắc_Sơn', 'để_ý', 'lui_tới', 'nhân_tạo', 'xác', 'thân_quen', 'Ngoài_ra', 'Việc', 'khẩn', 'Chia_sẻ', 'khuyến_nghị', '148', 'văng', '621', 'sang', 'Ngọc_Trang', 'canh', '492', 'loét', 'Thấy', 'Lai_Uyên', 'Ca', 'nhì', 'rủi_ro', 'tuần_hoàn', 'Mai_Động', 'bác', 'Mới_đây', 'Điểm', '2A', '36D', 'nâng_cấp', 'GS.TS', '669', 'phi_công', 'Vợ_chồng', 'Sao', 'Liên_Mạc', 'xôi', 'Liên_hợp_quốc', 'VN7209', 'chức_năng', '737', 'lâu_dài', 'Phúc_La', 'Phú_Lộc', '10/5', 'nha', '19/7', '608', 'vào', 'Khoa_Cấp', 'hông', '1027', 'OZ773', 'Dỡ', 'tối_đa', 'Tây_Bình', 'xâm_nhập', 'Pín_Tủng', '43.414', 'Bắc_Kạn', 'Tri_Kỷ', '19h30', '430', '2h30', 'đăng_tải', '815', 'Phong_toả', 'Phát_biểu', '\\u200bTối', 'Khu_vực', 'tám', 'Kon_Tum', 'nội', 'Hết', 'bệnh_tật', 'K1120', 'Tiểu_học', '600', 'Đinh_Tiên_Hoàng', 'tiến_sĩ', 'đáp', 'hợp_pháp', '28/8', 'Thi_Sách', '511', 'đề_kháng', 'Cửa', 'Đông_Hải', 'Guilain_Barre', 'HIT', 'Cẩm_Quan', '2003', 'xem_lại', 'Lê_Ngọc_Thành', 'con_cái', 'D.H', 'JL079', 'bảo_hộ', 'Vũng_Tàu', 'Yoga', 'người_người', 'thông', 'rà', 'Đoàn_Ngọc_Nhạc', 'của', 'Mining_Book_Coffee', '501', 'B.V.C', '706', '724', 'nghỉ_dưỡng', 'siêu_vi', '781', '112', 'Dolce', 'chục', 'bộ_đồ', 'học', 'Cũng', 'Nữ', 'bảo_vệ', 'tâm_lý', 'ra_chiều', 'tiểu_thương', 'bến_xe', 'cờ_vua', 'xung_quanh', 'thường_nhật', 'phù', 'H.T.P', 'nghiêm_trọng', 'Thượng_Thanh', 'vẫy', 'toàn_bộ', 'Khoa_Miễn', 'vi_khuẩn', 'Drew_Posey', 'tập_huấn', 'dưa', 'Khuê', '374', 'sôi', 'xáo_trộn', 'Vientiane', '0h', 'V.H.C.', 'T.K.H.', 'Hoàn_Mỹ', 'buồng_trứng', 'Cái_Răng', 'dễ_dàng', 'Hải_Hậu', 'Khay', 'Định_Hoà', 'vật_tư', 'cô_giáo', 'sửa', '615', 'bầu', '25/5', '8h3', 'Istanbul', 'dẫn_đầu', 'thể_dục', 'Võng_Nhi', '43', 'cảnh_giác', 'Hội_chẩn', 'dịch_vụ', 'bố_con', 'Huế', 'Yên_Định', '539', 'Bình_Nghĩa', 'về', '997', 'Thái_Nguyên', 'suy_nghĩ', '20%', 'Nhiễm', 'tỉnh', 'vô_tình', '1008', 'định_kỳ', 'Hoạt', 'Bandar_Seri_Begawa', 'Hiển', 'La_Nube_Residence', 'vô', 'Độ', 'Bên', 'hành_khách', 'Viện_Hàn_lâm', 'giảm', 'xử_trí', 'hoàn_tất', 'THPT', 'biện', 'thuê_bao', '199', 'Vincom', 'cùng', '105', 'bối_cảnh', '12C', 'Hà_Nam', 'Vladislavs_Mozgovojs', 'khảo_sát', 'ủng_hộ', 'giai_đoạn', 'AirJapan', 'Núi_Thành', 'đám_tang', '4.730', 'tương_đối', 'Đ.T.', 'Quang', 'Củ_chi', 'K', 'tống', 'Khoa_Phục', 'trận', 'màng_cứng', 'Nguyễn_Hữu_Thọ', 'hơi', 'thạch_cao', 'Bốn', 'cao_cấp', '1955', 'Ung_Bướu', 'Bắc_Quảng_Nam', 'kéo', '520', '174', 'L.V.L', '515', 'BR', 'Van', 'rụng', 'mồ_hôi', 'bốn', 'ngoại_ngữ', 'nghệ_sĩ', 'đòi_hỏi', '180', 'cộng', 'thay', '225', 'thời_hạn', '4/8', 'Kế_hoạch', 'chào', '377', 'bơm', 'amydal', '764', '011.65', 'Người_dân', 'nửa', 'labo', 'bẩn', 'Duy_Sơn', 'Vừa_qua', '334', 'Tokyo', 'khả_quan', 'Hòa', '312', 'nửa_đêm', '5/3', 'nCoV', '2/25', 'quận_huyện', '1h15', '90', 'sổ_mũi', 'Khoảng', 'Bàu', '894', 'Yết_Kiêu', '67/67', 'chẳng_hạn', 'sân_bay', 'Ngọc_Châu', 'Quốc_lộ', 'quốc_tế', 'Hoài', 'N.P.D', 'Sơn', 'Phương_Liệt', 'mỡ', 'Đặng_Văn_Trọng', '184', '80', 'nền_tảng', 'Nội_Thần', 'trời', 'paracetamol', '20/27', 'trai', '12/4', 'Do_vậy', 'Sơ_bộ', 'Trần_Phú', '205', 'Quân_đoàn', 'tải', 'lòng', '443', 'sát', '354', 'Điện_Ngọc', 'chữa_trị', '34', 'báo_cáo', 'Chính_trị', '37,6', 'VĂN', 'nhất', 'Lê_Lợi', '158', 'Khoảng', 'thu_xếp', '323', '379', 'hàm_lượng', 'giống_hệt', 'mô_hình', 'hoa_viên', 'dày_đặc', 'Lý_Công_Uẩn', 'trung_ương', 'ngã_bệnh', 'nghi_ngờ', 'sạch', 'từng', 'S.', '566', '1049', 'Móng_Cái', 'nét', 'phân', 'sự_thật', 'từ_chối', 'đơn_nguyên', 'Pacific_Vũng_Tàu', 'chú_trọng', 'tự', '419', 'chiến_đấu', 'điểm_nóng', 'lưu_trú', '796', 'Công_văn', 'diễn_tập', 'Đơn_cử', 'phụ', '21h30', 'Đơn_vị', '601', 'Dinh_dưỡng', 'cuộc_sống', 'Mọi', 'phát', 'Samsung', 'Thế', 'T.C.H', 'mầm', 'Hồi_sức', 'bàn_tán', 'VN6007', 'trường_hợp', 'tàu_lửa', '548', 'lớn', '455', 'ứ', '726', '10/4', 'quốc_tịch', 'Ngô_Quyền', 'thực_ra', 'gắn_bó', 'Hải_An', 'Thượng', 'này', 'Tự', 'Trung_tâm', 'đời_sống', 'vật', 'bố_trí', 'Nhất', 'ấp', 'phúc', 'Quyền', '1965', 'Chuyện', 'Điện_Nam', '2/9', 'Tứ_Xuyên', 'Nhiều', 'dần_dần', 'Amsterdam', 'gần', 'rét', 'ngay', 'Tuý_Loan_Đông', 'tế_bào', '638', 'F2', 'bức_xúc', '727', '421', 'khả_năng', 'TOTO', 'còn', 'ngoại_trừ', 'thất_bại', 'xơ', 'cổ', 'quầy', 'thiếu_thốn', '321', '383', 'Tân_Dân', 'bắt', 'hiện_tại', '305', '243', 'Barack_Obama', 'Vị', 'Nguyễn_Thị_Chi', 'tác_nhân', 'Boston_Consulting_Group', 'Tổng_thống', 'Học_viện', 'Đại_Học', '9h30', 'Trước', 'hơn', 'tiêu_biểu', 'Xuân_Hoà', 'corona', '562', 'nam_giới', 'Thủ_đô', '156', 'Lục_Nam', 'Đại_Thịnh', 'thở_phào', '1068', 'phạt', 'pizz', 'lan', '219', '361', 'Thành_Đô', 'B2', 'cấp', 'MGM', 'quốc_nội', 'phản_hồi', 'Ngũ_Hiệp', 'kinh_nghiệm', 'cytokine', 'có_mặt', 'bạch_cầu', 'đặc', '392', 'QR708', 'dính', 'Tây_Lân', 'Hoàng_Thị_Yến', 'cảm_ơn', 'Đỗ_Quốc_Tiệp', 'vụ_việc', '92', '420', 'cục', 'khám', '36', 'Khoa_Chấn', 'Hà_Tĩnh', 'Thứ_trưởng', 'Ngày_mai', '651', 'Giấy', 'mắm', 'bản', 'chạy', 'Kommunarka', '251', 'ngửi', 'kế_tiếp', 'Nhì_Tây', 'Đại_Phong', 'giận', 'đứng', 'ưu_tiên', 'toàn_thân', 'mờ_nhạt', 'đấy', 'nhà_trọ', '581', 'tổng_hợp', 'thảo_luận', 'thỉnh_thoảng', 'phố', 'dạo', 'PG947', '16/9', 'Bệnh_tật', 'Phu', 'Lân', 'F4', 'VN272', '23h55', 'Ngoại_giao', 'bất_động', 'Bùi_Xuân_Minh', 'Nguyễn_Thành_Lãm', '133/21/63/15', 'Giải_Phóng', 'chỗ', 'Phun', 'liệu', 'tĩnh_mạch', 'thí_sinh', 'Ba', 'mì', 'Chẩn_đoán', 'Truyền_nhiễm', 'gió', 'Đức_Giang', 'giảm_thiểu', '459', 'Lá_Phong', '645', '10E', 'vì', 'vào_khoảng', 'Hạ', '1', 'đại_lý', 'V.H.L', 'Thọ', 'Tuyến', 'Cam_Nghĩa', 'xu_hướng', 'VN166', 'cường_giáp_trạng', 'Prague', '461', 'quả', 'J._và', 'trộn', 'co_quắp', '1.023', '768', 'duy_nhất', 'Tôn_giáo', 'biện_pháp', '26/5', 'chứ', 'Phù_Lưu', 'VJ1379', 'nhỏ_giọt', 'Thân_Mạnh_Hùng', 'Võ_Thiên_Sinh', 'Huyện', 'Tết', 'lữ_đoàn', '141', 'Sông', 'không_gian', '133', '1h19', 'bố', 'dầu_khí', 'ngày_tháng', 'Ukraine', 'nhà_thờ', 'liệu_trình', 'Lao_phổi', 'Chiyoda_Sushi', '29', 'đóng_cửa', 'Đống_Đa', 'phường', 'bar', 'trên_tài', 'xuất_viện', 'Sau', 'trụ_cột', 'Điện_Nam_Trung', '679', 'nghề_nghiệp', '932', '725', '469', 'giải_trình', 'trang_phục', '9', 'Twitter', 'Công_cụ', '1.325', 'thuyền_viên', 'Nghệ_thuật', 'Cập_nhật', 'H.T.N.', '145', '24/5', '360', 'Xuyên', '1.036', '10/6', 'Hồ_Đắc_Di', '805', 'Mỹ_Phước', '504', 'Hồng_Hà', 'Tân_Lập', 'hạt', 'đường_sắt', 'Kiểm_soát', 'Đặng_Thức_Anh_Vũ', '60', 'vé', 'canh_gác', 'Suốt', '7K', '795', 'xét_nghiệm', 'đầy', 'Mỹ_về', 'để', '28/2', '28/3', '28/6', 'thẳng', 'Thạch_Thang', 'thương_gia', 'Phân_tích', 'Ngô_Thị_Kim_Yến', 'Bản_thân', 'ban_đầu', 'Công_việc', 'nghiện', 'sự_việc', 'Xuân_Mai', '1.015', 'II', 'thành', 'điển_hình', 'động_mạch', '646', 'N.V.V.', '3,5', 'Thẩm', 'trầm_cảm', 'Nội_Tiết', 'niệu_quản', 'ngoại', '359', 'khởi', '7.300', 'Hưng_Long', 'Huỳnh_Ngọc_Huệ', 'Trương_Mỹ_Tây', '10.872', 'kêu_gọi', '45/45', 'năng_lực', 'V.V.D.', 'Mười', 'Ngày', 'Tràng_An', 'bếp', '899', 'tấn_công', 'Xquang', 'đờm', 'tự_nhủ', '800', 'trốn', 'tay', 'L.M.H.', 'Đó', 'bận_rộn', 'Đề_nghị', 'Vân_Đồn', 'Đà_Lạt', 'nhân_dân', 'Kyungbang', 'V.D.B.', 'Airway', '22/4', 'chắn', 'corrona', 'ngạt_mũi', 'Tây_Sơn', 'kế_toán', 'khủng_khiếp', 'Đông_Nam_Á', '580', 'tuổi', 'Bạch_Mai', 'Rủi_ro', 'đất_liền', 'VN018', 'mong', 'che', 'xe_ôm', '941', 'Quảng_Phúc', 'huyết_áp', '23/6', '30C', 'bi_quan', 'biết', 'bồ_nhí', 'về', 'căng_tin', '572', 'báo', 'Trần_Ngọc', 'hoạt', 'sân', 'Serbia', 'Aeon_Mall_Bình_Tân', '200', 'Homestay', 'Đà_nẵng', '8h', 'gục', 'Thanh_Xuân', 'mộ', 'hương', 'dược_sĩ', 'Quốc_Dân', 'Vận_tải', 'Trúc_Lâm_Viên', 'khích_lệ', '7/5', 'ói', 'mở_rộng', 'Thanh_Danh', 'dịp', '322', 'quận', 'Hạ_Lội', 'Bến_xe', '887', 'phát_sinh', 'Hệ_miễn_dịch', 'kỹ_thuật', 'quá', 'gym', 'đối_tác', 'Trường_Sinh', 'Châu', '460', 'tiềm_tàng', 'Tam_Kỳ', 'Kim_Ju_Deok', 'đáng_kể', '7/7', 'quan_điểm', '267', '52/54', 'khoá', 'giấu_giếm', '10%', 'Kim_Lư', '975', '7/8', 'phòng_mạch', '13/3', 'Quận_uỷ', 'Phúc_Yên', 'giả', '31/5', 'đã', '\\u200b', 'Sấn_Văn_Cương', 'lú_lẫn', '3/5', '84', 'đánh_dấu', 'you', 'Tây', 'HIV', 'vừa', 'Dengue', '6.650', 'COVI', 'cá_nhân', 'VJ159', 'cơ_địa', 'Đài_Loan', 'người', 'tử_cung', '1.006', '114', 'số_ít', '9h6', 'đăng', 'nghiên_cứu', 'chắc_ăn', 'Dự', '820', 'lộ', 'khó', 'Cách_ly', 'xảy', 'H1N1', 'Xanh_Pôn', 'EK4', 'nêu', 'Bạc_Liêu', 'VJ2527', '1055', 'Ưu_tiên', 'Na_Trang', 'mới_đây', 'Cam_Ranh', 'Lãnh_Thượng', 'nút', '16/8', 'phòng_thí_nghiệm', 'Hợp_Hoà', 'việc', 'Tiêu_hoá', '658', 'ca_sĩ', 'cao_đẳng', 'Pasteur_TPHCM', '1990', 'Bình_Phước', 'tự', 'Lưu_trú', '1046', 'xã', 'cha_mẹ', 'Lần_lượt', 'tuyên_truyền', 'Lạc_Chính', 'việt', 'thường_trú', '287', 'xen_lẫn', 'Đoàn_Tấn_Bửu', 'chút', 'ngày_mai', 'đặc_biệt', '427', 'Barre', 'Mậu_Đức', 'Đ.', 'ảnh_hưởng', 'Tổ', 'cấm', 'Bách_khoa', 'cuốn_chiếu', 'địa', 'Kim_In_Jong', 'EK394', 'Đỗ_Viết_Tuyến', 'Sự_việc', 'hỗn_loạn', 'Liên_tiếp', 'Hoà_An', 'cẳng_chân', 'vận', 'Phú_Lý', 'Bộ_Chỉ_huy', '26/3', 'Turkish_Airways', 'Về', '27', '11h45', 'cửa_ngõ', 'thử_nghiệm', 'thiếu_sinh_quân', 'Masteri', 'Bố', 'khẩn_cấp', '30,1', '1045', 'Tuyên_Hoá', 'biểu_diễn', 'Thống_Nhất', 'tiếp', 'gì', 'Kiểm_tra', 'cao_răng', '1018', 'Khoa_Ngoại', '12,5', 'ốc', 'Praha', '19.000', '5A', 'Vì_thế', 'tìm_hiểu', 'Thuỷ_Bằng', '\\u200bHiện', 'BN841', 'ngừng', 'đới', 'thực_tế', 'Guinea_Xích_đạo', 'phía', 'Hoà', 'tiếp', '90%', 'đôi_khi', 'cục_bộ', 'N.B.', 'Nguyễn_Sinh_Sắc', '892', 'đẻ', 'hàng_loạt', 'chính_xác', '965', 'Tuỳ', 'Boston', 'Software', 'thường_xuyên', 'Vương_Trung_Kiên', 'Nội_Bài', 'A2', 'tuýp', 'dữ_dội', 'phẫu_thuật', 'xen', 'dẫn_chứng', 'Da', 'Tân_Châu', 'dung_dịch', 'găng_tay', 'Châu_Đương', 'mmHg', 'tương_tự_thể', '216', '1066', '12/3', 'liên_quan', 'gồm', 'Cẩm_Xuyên', 'Tập_trung', 'Rõ_ràng', 'Đồng_Tháp', 'quán', '329', 'đồn', 'câu', 'Phường', 'liền', 'SU290', 'Minh_Thuận', 'Can_Lộc', '908', 'Lucky_Star', 'Thoại_Ngọc_Hầu', '10h', 'chốt', 'Tiểu_đoàn', 'Boa_Vista', 'City', 'hát', 'QH9461', '15/3', 'dương_tính', 'Nhờ', 'trồng', '231', '127', 'tình_trạng', 'công_trình', 'nghiễm', '22/2', 'Viêm', '109', 'đầu', 'Kỳ_Phong', 'buffet', 'Sáng', '510', 'Realtime_RT', 'liệt_sĩ', 'nhà_máy', '841', '66', '296', '253', 'Cửa_khẩu', 'chứng_kiến', 'Cộng_hoà', '3/10', 'giao_tiếp', 'Thạnh', 'bố', 'Phó', 'TG564', 'bừng', '807', 'y_khoa', '838', 'vào_cuộc', 'gợi', 'Quảng_Đại', 'chẩn_đoán', 'Nội_Đồng', '381', '246', 'Phụ_Sản', 'di_truyền', 'Tuân_Thịnh', '1.022', 'Thanh_Xá', '320', 'Gabbana', '256', 'mặt', 'Srilanka', '213', 'Hiệp_Đức', '877', 'mủn', '7.020', 'phổ_thông', 'mắng_chửi', 'T.V.Đ.T.', '730', 'Vinh_Hiền', 'Phạm_Phú_Điềm', 'Châu_Phú', 'kia', '14/3', 'cảnh_sát', '557', 'thuyền', 'lắng_nghe', '660', 'bảo_hiểm_y_tế', 'lời_nói', 'hẳn', '788', 'Thêm', 'Nguyễn_Văn_Nam', 'Tây_Bắc_Nghệ_An', 'camera', '10/3', 'Đa_khoa', 'khứu_giác', 'điều_động', 'cử', '632', 'chưa', 'Châu_Long', 'A.V.', 'hại', '846', 'Bông', 'hợp', 'Ngọc', 'Vạn_Thắng', 'khoa_học', '17', 'Phja_Thắp', 'Đông', 'Nghệ_An', 'lối', 'đón_tiếp', 'vấn_đề', 'Lệ_Nam_Sơn', 'TTYT', 'ra_vào', 'C.T', 'P.Hưng', 'N.V.V', 'Thạch_Bồ', '616', 'công_bố', 'Hoàng_Văn_Chiến', '...', 'mấy', '48h', 'dòng', '389', '999', 'Định_Hoá', 'chính', 'ngăn', '619', 'Nguyễn_Thị_Dự', 'nhất_định', 'nhiễm_bệnh', '21', 'mi', 'xanh', 'Hồng_Hải', 'Ít_nhất', 'Nội_Tổng', 'Uỷ_ban', 'An_Đông', 'thả', 'Thái', 'phê_bình', 'Dương', 'Bùi_Tuấn_Anh', 'trung_tâm', 'F3', '738', 'Thường_trực', 'Vật_liệu', 'Phạm_Thận_Duật', 'đâu', 'QR974', 'Tom_Frieden', 'yếu_ớt', 'Mỹ_An', 'Quang_Hà', 'chu_kỳ', 'báo_chí', 'biệt_danh', 'phát_triển', 'Quốc_phòng', 'Xuân_Hà', 'Gia_Lâm', 'lây_lan', 'bún_chả', 'ăn_nhậu', 'phát_biểu', '85', 'Sigma', 'chăm', 'Lan', 'kẻ', 'Thuỷ_Nguyên', 'Với', 'trao', 'nội_tại', 'não', 'trắng', 'dai', '82', 'cổ_họng', 'Hương_Sen', 'lạc_quan', 'diễn_viên', '193', 'trên', 'lúc', '81%', 'Nguyễn_Thành_Dũng', 'liên_kết', 'Nông_Cống', 'du', 'ướt', 'Campuchia', 'đó', 'Hà', 'Đông_Lễ', 'Trúc', 'di_chuyển', 'G.', 'cửa_khẩu', 'độc', 'tất', 'nhiệt', 'trang', 'Đông', 'Th.', 'Cam_Thúc_Bắc', 'D.', '864', 'vừa_qua', 'thợ', 'Cơ_sở', 'địa_điểm', 'đeo', 'trầm_trọng', 'Huyết_học', '870', 'Lồng_ngực', 'bàn_chải', 'và', 'của', 'không', 'Ngô', 'Quán', 'Jasmine', 'Vĩnh_Nam', '217', '1997', 'Chỉ', 'thừa_nhận', '206', 'cúm_gà', '502', 'Tân_Thành', 'phục_hồi', 'tổ_dân_phố', 'miệng', 'vườn', 'Nội', 'áp_lực', 'Du_khách', 'lo_lắng', '192', 'Qua', 'huyết_thanh', 'nghi', 'Công_Tạo', 'Amazing_Ninh_Bình', 'cư_ngụ', 'Ponyuen', 'lá', 'do', 'vận_động', '38,5', '26/4', 'Hoả_Lò', 'Nhiệm_vụ', 'Hoà_Khương', 'vải', '52', 'giao', 'tuyệt_đối', 'Nạn_nhân', 'tay_chân', 'Huddersfield', 'Gần', 'Bàn', 'ARDS', 'trụ_sở', 'BV', 'vật_liệu', 'Phùng_Hưng', 'Hợp', 'mượn', 'Nam_Hà', 'ly', 'hoàn_thành', 'Thuận_An', 'L.T.Q.', '422', 'suốt', 'dạng', 'quên', '516', 'trước_mắt', 'hết_lòng', '5/8', 'choáng', 'Tích_cực', 'đán', '29/7', 'P.T.T.N.', 'Bảo_Châu', 'dự_trù', 'Hernandez', '627', 'NH898', '1013', 'Wales', 'than', '300ml', 'Tam_Hiệp', 'mốc', 'chắc_chắn', 'Việt_Pháp', 'lương', 'Tới', 'Techcombank', 'điện_tử', '29/2', 'Tô', '433', 'Bố_Trạch', 'M.A.T', 'Dương', 'Xuân', 'chuyển', 'Cô', 'Điện_Bàn', 'Nguyễn_Trường_Sơn', 'Tả_Van', 'cho', 'ngoài_trời', '1991', 'oC', '994', 'đo', '4.000', 'khách', 'AirFrance', 'Thuỵ_Lệ', '456', 'Changi', 'khác_nào', '5/6', 'định_danh', 'Lưu_Vệ', 'VN8059', 'Dubai', 'căn_bệnh', 'ghe', 'đường_hầm', '39oC', 'trung_đoàn', '031.26', 'tầng', 'áo', 'tế', 'tuyển', '785', '5/7', '857', 'Xóm', 'đồ_ăn', 'thực_hành', '15/2', 'tiền_liệt_tuyến', '444', 'giải_toả', 'ngày', 'tưởng_niệm', 'N.T.C.', 'phát_tán', 'khoẻ', 'kém', 'chợ', 'VJ530', 'Trang', 'N.V.Đ.', 'bà_con', '023.15', 'viễn', 'Vũ_Thư', 'gia', '973', '62', 'tham_dự', 'ngày', 'Bệnh_sử', 'bàn_ghế', '1052', 'Bến_Cầu', 'cứu', 'Thaco', 'N.T.T.T.', 'Tam_Dương', 'Tim_mạch', '10/12', 'vô_cùng', 'GS', 'Cầu', 'Căngtin_Bệnh', 'ngất_xỉu', 'Quân_đội', '135', '20B', 'Nghiêm_Xá', 'yoga', 'K68', 'mức', 'vừa_rồi', '749', '166', 'treo', '528', 'Văn', 'thâm_nhiễm', 'Yên_Thế', 'điền', 'Trịnh_Thế_Hưng', 'Sen', 'Đ.T.A.T.', '50', 'sở', 'miền', '33', '1.000', 'SYT', 'N.T.C', 'trưởng', 'Đoàn', 'run', 'nhanh_chóng', 'nhận', '534', 'bụng', 'Bính', 'VCV', 'Oanh', 'Đà_Năng', 'Lê_Thị_Thu_Nga', 'hướng', 'chỉ_huy', 'biên', 'phí', 'bị', '2504', 'Đức_Thắng', 'So', 'T.H', 'vtiếp', 'gọn', 'trường_học', 'tranh_thủ', 'xấu', 'Ninh_Binh', 'Trước_mắt', 'vi_tính', '4/5', 'WGME', 'khai_trương', 'Vũ_Mạnh_Dương', 'tím', '491', 'mong_manh', 'nốt', 'lớn_tuổi', 'Nếu', 'VN2106', '690', 'Nguyễn_Đức_Cảnh', 'Kiểm_sát', 'Ba_Đồn', 'Động_thái', '556', 'Bá_Thước', 'gửi', 'giải_oan', '791', 'Bình_Chánh', 'cư_dân', 'mãi', 'truy_xét', 'Phú_Mỹ_Hưng', 'cấp_tiến', 'cử_động', 'Tân_Bình', 'ca', 'chặng', 'tạp_chí', 'quang', 'TT', 'khối', 'tham_khảo', '880', '\"', 'nhạt', 'Làm', 'hề', 'Sản_phụ', 'Remdesivir', '1975', 'đồng', '18', 'Buôn_Đôn', 'xuất_cảnh', 'Bạch_Mai_công_tác', 'N.V.N.', 'ước_tính', 'Cường', 'can_ngăn', 'tách_biệt', 'tứ_chi', 'Diễn_Châu', 'Xuân_Canh', 'Dương_Bá_Trạc', '592', 'nhồi', 'chứng_nhận', '733', '28B', 'Quang_Vinh', 'thị', 'ngoại_quốc', '30/6', 'nấm', 'mùi', 'Cẩm_Nam', 'giống', 'chóng_mặt', 'sưng', 'nhờ', '290', 'đội_trưởng', '10', 'Mai_Văn_Tuấn', '30', 'hoành_hành', 'Xinh', 'từ_tâm', 'Thành_uỷ', 'trừ', '28', 'Lê_Đình_Long', 'bất_kỳ', 'Thọ_Quang', 'Hiệp_Hoà', 'Glassgow', 'Tân_Chính', 'kế_hoạch', 'Cha', 'trách_nhiệm', 'C.T.H.', 'chùa', '153', '672', '15/6', '04h55', 'Nghĩa_là', '1040', 'Hàm_Thắng', 'Ban_đầu', 'Liên_quan', 'mười', 'nằm', 'tái', 'Trung_Mỹ_Tây', 'Hiệp_Bình_Chánh', 'xen_kẽ', 'ở', 'hiện', 'BN625', 'Cửa_Lò', '358', 'Người', '500', '635', 'Do_đó', 'NETwork', 'ngôi', 'Phòng_khám', 'phòng_ngừa', '2000', 'đường_bộ', 'Nam_Hội_An', 'trạm', 'đa', '21D', 'Vệ', 'thất', 'Nữ', 'catheter', 'Me', '120', 'Củ_Chi', 'thuỷ_sản', 'Trưởng_đoàn', 'Khmer', 'ghé', 'Phú_Yên', 'xuống', 'toà', '20/7', '1h3', '622', 'Lo', '181,182', '265', 'Đại_Đồng', 'dự_phòng', 'Nguyễn_Văn_Cừ', 'nhựa', '773', 'phân_công', 'gram', 'Chống', 'nhân_tố', 'BN619', 'Chip_Còi', 'N.M.C.', '1011', '630', '369', 'Đức_Nhuận', 'cao_điểm', 'Liên', 'An_Hải_Đông', '729', 'khoản', 'Phú', 'cảm_thấy', 'bìa', 'N.H.N', '14/4', 'Việt_Tiệp_Hải_Phòng', 'Liên_Xô', 'thừa', 'Phạm_Ngọc_Thạch', '9/4', 'SK', 'Quế_Sơn', '20/20', 'mãn_tính', '\\u200bBệnh', 'Duy_Tiên', 'chủ_trì', 'bày', 'gia_tăng', '917', 'đón', 'xuất_huyết', 'mỉm', 'Đội_ngũ', '11.000', 'Cơ_thể', 'Nguyễn_Thị_Mai_Hương', 'Tài_xế', 'Bệnh', 'Giai_đoạn', 'Khê', 'Quách_Sỹ_Dũng', 'Cam_Lâm', 'dâu', 'Ngô_Hoàng_Phong', 'Đội', 'Trường_Giang', 'Rieker', 'sepsis', 'thực', 'Dầu_khí', 'phối_hợp', 'Xuân_Phương', 'kéo_dài', '111', 'Khi', 'chi_viện', 'từ_dịch', 'công_nghệ_thông_tin', '8h1', 'sản', 'Vị_Thanh', 'mới', 'Tổ_chức', '38,8', 'Yên', 'hoa', 'A1', 'Lối', 'Tổng_số', '449', '78', 'Riêng', 'lý_lịch', 'Đức_Trạch', 'ngõ', 'Bình_Hiên', 'Lotte_Mart', 'tình_hình', 'chạy_bàn', 'A.', 'lùi', 'Thái_Hà', 'Dịch_bệnh', 'lữ_hành', 'có_thể', '250', 'Giao_thông', '584', 'thao_tác', 'teo', 'soát', 'bình_thường', '8/4', 'Lê_Hồng_Phong', 'trị', 'Đ.N.L.', '751', '34D', 'con_bệnh', 'Minh', 'nuốt', 'Lê_Thị_Quỳnh_Mai', 'nằm_mơ', 'nhận_xét', 'ngoại_thành', '790', '609', 'Cảnh_sát', '614', 'VN54', 'gồm', 'hơn_nữa', 'Hữu', 'Tiến_sĩ', 'cơ_chế', 'ngoạn_mục', '52.675', 'CT', 'thời', 'Tư', 'U.', 'dùng', 'ho', 'quân_sự', 'sâm', 'Chiều_qua', 'Chỉ_đạo', 'Ng', 'chiến_thắng', 'Khoa_Nội', '623', '143', 'diễn', 'Quốc_gia', 'Thái_Hoà', '12/2019', 'For_You_Palace', '689', 'Cầu', '776', '538', 'ban_hành', 'nôn_mửa', 'Sơn', 'giảng_viên', 'Điều_tra', 'Realtime', 'Thuận_Phước', '16h40', 'H.Duy', 'I.', 'hạc', 'lành_tính', 'Chu_Thị_Giang', '823', 'gặp_mặt', 'hình_ảnh', 'Hà_Nội_Ông', '187', 'vỗ_tay', 'Bình_Minh', 'ít_nhất', 'Nguyễn_Văn_Quá', 'NGUYỄN', 'quy_hoạch', '23h30', 'mà', 'can_thiệp', 'Chương_Mỹ', '93', 'kết', 'mắt', 'một_nửa', 'Giữa', 'Hà_Giang', 'Quán_Thánh', 'kết_hợp', 'quyết_liệt', 'Vĩnh_Long', 'Âu_Lạc', 'Kingly', '625', '130.000', 'Washington', 'Hoàng_Quốc_Việt', '613', '8/13', 'trú_quán', 'Bình_Lâm', '5/14', 'Huế_Cơ_sở', 'nổi', 'chiếm', 'chăm', '116', 'những', 'Lê_Thị_Ngọc', 'đánh_giá', '789', 'qua_đời', 'hợp_tác', 'vệ', 'trọ', '774', 'Nhà_hát', 'Hoà_Phát', 'nhi', 'lầu', 'bệnh', 'với', 'quy_trình', '982', 'kích_thích', 'mô', 'khó_khăn', 'Khương_Đình', 'Diệp_Bảo_Tuấn', 'Bangkok', 'Thạc_Gián', 'Duy', 'Tân_)', 'Trung_Đông', 'khâu', 'mỗi', 'Trương_Huyền_Trường', 'cắt_lớp', '24/3', 'thành', 'N.T.M.P', 'quặn', 'nấc', 'tiệc', 'đồ_dùng', 'Quế_Võ', 'PĐ', 'Tâm_lý_chiến', 'phản_xạ', 'MI', 'Quảng_Tuý_Loan', 'tại', '471', 'Đầm', 'P.T.B.', 'Hãng', '939', 'con_số', 'Nguyễn_Trí_Dũng', '1.569', 'AJI', 'con', 'Khôi_Kỳ', 'tránh', 'ô_tô', '574', 'cùng', 'tuy', 'Thư', 'HCDC', 'mắc', '183', '871', '508', 'XN', 'Bình_Dân', 'dịch_chuyển', 'men', 'bịa', 'tiểu_đường', '42C', 'Quyền', 'trung', '640', '20/4', 'chẳng', 'Giảng_Võ', 'gái', 'thống_kê', 'Võ_Thị_Sáu', 'hắt_hơi', 'Bửu', 'P.T.L.', 'cách', 'VN50', 'rời', 'Grill', 'cuối', 'Bố_trí', 'SARI', 'Khó_khăn', 'Eclass', 'Bộ_chỉ_huy', 'nhà_chức_trách', 'Hàng', 'Biểu_hiện', 'xứng_đáng', 'Châu_Văn_Thẻ', 'P.M.', '910', '380', 'Ả_Rập', '940', 'sơn', 'bắc', 'độ', '4', 'Bộ_phận', 'Qua_Tuổi_Trẻ_Online', 'Nơi', '128', '18/6', '12/7', 'chấp_hành', '50C', '684', 'QR', 'tắc', '34J', 'Chí_Trung', 'ngày_càng', 'động_kinh', 'Mai_Linh', 'Thép_Hoà_Phát_Dung', 'giao_lưu', 'bang', 'vừa_phải', 'Tú_Mỡ', '220', 'Nguyễn_Văn_Linh', 'T', 'công_ty', '993', 'Hoà_Thọ_Đông', 'dao_động', '925', 'Đồng_Tâm', 'nâng_đỡ', 'Đông_Hưng', '673', '30/7', 'cấp_dưỡng', 'chúc', 'Vĩnh_Trung', '912', 'công_nhân_công_ty', 'Boeing', 'đồng_thời', 'Giang_Bắc', 'tốc_độ', 'Ký_túc_xá', 'xơ_hoá', 'Quảng_Phú', '13/1', 'công', 'êkip', 'Mumbai', 'QR40', 'bản_vẽ', 'Hiện', 'Chùm', 'sáu', 'hưu_trí', '43B', 'ban_đêm', 'mật_thiết', 'toàn', '390', 'BỆNH', 'nhà_thuốc', 'kit', '2020', 'tiến_hành', 'cực', 'văn_bản', 'N.V.T.', 'Real', '956', 'Lê_Quang_Sung', 'nhận_định', 'sinh_hoá', '551', 'Hoàng_Văn_Thái', '14/5', 'Du_học_sinh', '951', 'mẹ_vợ', 'điều_độ', 'Trần_Hồng_Đào', 'tiễn', 'Thạch', '927', '1010', 'Quatar_Airways', 'hoàn_toàn', 'Cao_đẳng', 'Đức', 'Lương_Quốc_Chính', 'cô_dâu', 'Quân', 'điều_khiển', 'bệnh_sử', 'rải_rác', 'Nguyễn_Văn_Đối', 'Nippon_Farm', '10/2', 'Truyền', '24/6', '3.000', 'gửi', 'hải_sản', '26/7', 'Bắc_Quang', 'VN001', 'Hoàn_Kiếm', 'Joki', 'phơi_bày', 'mẫu', 'Điều', 'đòi', 'khống_chế', 'huyện_thị', 'riêng', 'Cách_thức', 'VN340', 'thời', 'T.H.', 'lịch_trình', 'lệnh', 'báo_động', 'hầu', 'Thạnh', 'Phạm_Mạnh_Tiến', 'mầm_non', 'nội_khoa', 'bò', '19/3', '874', 'bộ_phận', 'Tuệ', 'Điện_lực', 'bà_cụ', 'làng', 'y', 'duy_trì', 'hỏi_thăm', 'Mễ', 'chiều_hướng', 'Pakistan', 'lưu_giữ', 'đóng_băng', 'Trương_Thị_Thuỳ_Dung', 'thoải_mái', 'Lê_Thanh_Liêm', 'Hội_đồng', '586', 'chi', 'Từ', 'cabin', '37K', '22/3', 'TP_HCM', 'không_tưởng', 'rơi', 'khác', 'bỏng', 'Giáo_sư', '27/4', 'Bàng', 'Huy_Hoàng', '525/989', 'thăm_nuôi', '16h', 'Bình_Thạnh', 'do_vậy', 'áo_cưới', 'Sài_Gòn', 'Phạm_Thanh_Tâm', 'dự_báo', 'Chu', '4/3', 'ngực', 'hỏi_han', 'mảng', 'hiện_diện', 'một', 'Chiều_tối', 'Quán_Buddha_Bar', 'trường', '937', 'chính_quyền', '41C', 'ít_nhiều', 'Hoa_Nam', 'Bình_Trung', 'đằng', '518', '366/431', 'Liên_Chiểu', 'vụ', 'Việt_Nam', 'Đại_Hợp', 'từ', 'Đi', 'BN898', '3/2', 'Ngô_Thị_Phương_Thảo', 'Triệu_Thuận', 'Chợ', 'Home_Depot', 'hoặc', '17/3', '259', 'NH831', 'tiểu_cầu', 'Đến', 'Toàn_bộ', 'Mỹ_Đình', 'đục', 'Hynix', 'xe_hơi', 'nhấn_mạnh', 'Người_nhà', 'mạnh', 'sobg', 'thân_nhiệt', 'phòng_khám', 'chuẩn_bị', 'Trương_Hữu_Khanh', 'đét', 'khai', 'vurs', 'bắn', 'QH1521', '2.000', 'kiểm_tra', '1.079', 'xôn_xao', '50/50', '(N.T.D.L.', 'Phịa_Thắp', 'công_viên', 'chiếc', 'Đơn_Duệ', 'Nà_Hill', '271', 'Nguyễn_Thị_Kiều_Anh', 'Nguyễn_Thanh_Long', '37E', '9/3', '1065', 'Đồng', '2/4', 'lệ_thuộc', 'Việt_kiều', 'Minh_Khai', 'cổng', 'Duy_Thành', 'Hiện_trạng', 'Dương_Đình_Phong', 'chủ_công_ty', 'NV', '20h', '5h15', 'Chủ_tịch', 'quả', 'vịnh', 'chi_nhánh', '818', 'khử', 'Bởi', 'ghép', 'khoang', 'Hoà_Phú', '1.025', 'Buôn_Ma_Thuột', 'Hoàng_Ngân', 'cụ', 'Hoà_Sơn', 'Phụ_sản', '2h', 'Vinh', 'Thiệu_Duy', 'QH', 'Bình_Tân', 'mỳ', 'Family_Medical', 'bỗng', 'tại', 'VN125', 'Khách', 'Sầm_Sơn', 'nhớ', '26/6', 'tư_vấn', 'Bangladesh', 'sâu', '886', 'xe_khách', 'Lê_Chân', 'lạnh', 'Vĩnh_Ninh', '1051', 'sáng', '453', 'Ninh', 'Long_Điền', 'giúp_việc', '248', 'tổng_số', 'Tĩnh_Gia', 'Khương_Trung', 'Nam_Phi', '134', 'Tiên_Lý', 'Trung', '100/63', 'KCN', 'hệ_thống', 'quản_lý', 'khoa', '72K', 'thượng_vị', 'cả', 'Phố', 'Nghi_ngờ', 'dịch_bệnh', 'Diễn_Vạn', 'Đối_với', 'vết', 'béo', 'N.', 'Dương_Khuê', 'trung_gian', 'rưỡi', '17h20', '402', 'nhìn', 'Biết', 'trong_sáng', 'cử_nhân', '849', 'Chiến', '10h30', 'Covid', 'Quê', 'Phòng_chống', 'B.T.H.', 'NH', 'Thăng_Long', 'dân', 'Đại_sứ', 'nhân_viên', 'Mỹ_\"', 'PouYuen', 'nhắn_tin', 'Ngoan', 'Phú_Thượng', 'hình', 'cửa_hàng', '300', 'Nỗi', 'Tạ', 'Điện_Biên', '1.054', 'đến', 'TS.BS', 'võ_sư', 'tối', 'tiêu_hoá', 'Quất', 'Thái', 'xử_lý', '793', 'bóng_chuyền', 'M.V.L', 'Hoàng_Diệu', '16.473', 'Tây_Nguyên', 'cho_phép', 'sư_đoàn', 'V.T.L.', 'Khoa_Vi', 'khoẻ_mạnh', 'mát', 'Starbucks', 'lỗ_hổng', 'hiếm', 'buồn', 'Đều', 'sát_sao', '597', 'giám', '1.800', 'đại_tràng', 'mỏi', 'Diamond_Sea_tại', 'phế_quản', '1995', '1059', 'Khoa_Mắt', 'hiểu', 'ý_thức', 'Chân_trời_góc_bể', 'Trần_Cao_Vân', 'Âm_tính', 'Trực', '1037', 'vắng_vẻ', 'đà', 'thôn', 'Khoa_Hô', 'có_khi', '11/6', 'mẹ_kế', 'quá_trình', 'Yêu_cầu', 'kíp', '11/9', 'Nguyễn_Thị_Được', 'Đà_Nẵng', '136', 'nhiệm_vụ', 'giày', '97%', 'Phú_Mỹ', '752', 'mê_cung', 'cảng_hàng_không', '563', 'quấy', 'ẩm', 'Q.Gò', 'tốt_nghiệp', 'bản_thân', 'anh', '6/9', 'xem_thường', 'sản_xuất', 'bảo_hiểm', 'Phạm_Minh_Đức', 'động_thái', 'vậy', 'Giáo_viên', 'P.L.V.Đ.', '3/4', '272', '02', 'trứng', 'Sơn_Trà', 'N.T.A.', 'thay_thế', 'Nhi_đồng', 'hoạt_động', 'Đầu', 'Chợ_Rẫy', 'đầu_tư', 'Cao_Đình_Hải', 'Nguyễn_Thị_Diệu_Linh', 'Quất_Lưu', 'tết_âm_lịch', 'Thánh_đường', 'JL', 'điều_tra', 'Đông_Quan', 'cần_thiết', 'riêng_lẻ', 'đội_ngũ', 'tàu_hoả', 'Nguyễn_Anh_Nhựt', 'Nhẫn', 'Hiệp', 'Thạch_Hà', 'livestream', 'út', 'Duy_Nghĩa', '‘', 'Nguyễn_Quang_Tuấn', 'Bộ_tư_lệnh', 'chồng', 'bữa', 's', 'ứng_phó', 'Rose_Alba', 'Hàn_Quốc', 'người_dân', '23/2', 'shock', 'hoảng_loạn', 'Trừ', '653', 'thủ_thuật', 'Gia_Lộc', 'xẹp', '3.13', '8889', '442', 'H.T.Y.N.', '17/8', '13/4', 'Siêu_âm', 'diễn_biến', 'Nguyễn_Văn_Thoại', 'D', 'Duy_nhất', 'Turkish_Airline', 'Chư_Prong', 'không_quân', 'Camphuchia', 'An_Dương', 'Tình_trạng', 'Thanh_Quang', 'Hoài_Đức', '347', 'hậu', 'Đối_tượng', 'hoàn_cảnh', 'dữ_liệu', 'Vincom_Phạm_Ngọc_Thạch', 'nhu_cầu', '812', 'Trần_Lê_Linh_Vũ', 'Shop_Queen', 'tá_tràng', 'tài_chính', 'Nhương', '1048', 'tin', 'Bắt_đầu', 'y_học', '30/1', 'đầu_từ', 'đa_phần', 'lời', 'rõ_ràng', 'Hà_Đông', 'Tiên_Sơn', 'tây_nam', 'Thanh_tra', '522', 'khai_thác', 'tới', 'liên_lạc', '452', 'né', 'Family_Medical_Practice', 'chứng_minh', 'triệu', 'nhầm_lẫn', 'bất_cẩn', 'BN1032', 'đưa_rước', 'thời_gian', 'sợ_hãi', 'thân', 'địa_chỉ', 'Khoa_Cơ', 'xơ_gan', '29/6', 'chỉ', 'Trương_Quang_Nghĩa', 'ngoại', 'Thời_gian', 'phát_huy', 'Phục_hồi', '1022', 'Sơn_Phong', '353', 'diễn_tiến', '59/165', 'thập_tử_nhất_sinh', 'âm_ỉ', '681', 'viêm_nhiễm', 'cố_gắng', 'trà_sữa', 'dược', 'thế_này', 'Whitmore', 'cấp_tính', 'hộ', 'Hoà_Khê', 'P.T.M.T.', 'đề_phòng', 'tổng_cộng', 'Cần', 'Hương_Khê', 'chính_sách', 'Bảo_Thắng', 'quần_tụ', 'an_thần', 'Đoàn_kết', 'địa_bàn', 'Doha', 'đàn_ông', 'lên', 'lươn', 'N.T.N.', 'Vân', 'hai', 'Gia_An', 'Rất', '1.035', 'phường_xã', 'tự_ý', '530', '722', 'M.N.', '13/5', 'chỉnh_hình', 'Nguyễn_Tăng_Bính', 'mua', 'phân_tích', '9/7', 'bến', '54', 'vai_trò', '396', '647', 'hồi_hương', 'vật_lý_trị_liệu', 'ngứa', '6/2', 'họ', 'sinh_hoạt', 'liên_hoan', 'Y_tế', 'QH9092', 'kinh_doanh', '856', '536', '1A', 'lao_động', 'P.T.T.Ng.', 'Khoa_Truyền', 'T.T.L.', '48', '980', 'Thanh_Oai', '22/7', 'khỉ', 'mặt_mũi', 'dinh_dưỡng', 'J.B.B', 'chi_tiết', 'Hoà_Nhơn', 'trao_trả', 'CD4', 'phòng_không', 'TNHH', 'du_học_sinh', '1074', 'Lai_Châu', 'càng_ngày_càng', 'bỉm', '488', 'Liên_Hồng', 'Chiết_Giang', 'Turkish_Airlines', 'Hàn_Thuyên', 'Na_Rì', '342', 'bán_đảo', 'Thạnh_Phước', 'chuyển_tiếp', 'xác_thực', 'quê_quán', 'như', 'G', 'Hạ_Long', 'Nhi', 'tôm', 'Chí_Linh', 'nội_dung', '87', 'VJ2849', 'bất_kể', 'cửa', 'chợt', 'Phong_An', 'Bác', 'sống', 'Lê_Công_Lĩnh', '150', 'chuyên_chở', 'tập_kết', '20/8', 'phàn_nàn', 'Lý_Thái_Tổ', 'phó', 'non', 'UAE', 'nhà_hát', '35', 'cao', 'âm_nhạc', 'Jamiul_Anwar', '13h', 'Lạng_Sơn', '7/6', 'Minh_Quang', 'điện_máy', 'VN223', 'ngoại_ô', '149', 'cánh', 'Lại', 'I', 'phường', '8h4', 'hẻm', '836', 'Hoà_Nam', 'P.Q.', '13/6', '72J', 'Hồng_Ngự', '458', 'Phước_Sơn', '303', 'chiều_qua', 'gọi', 'vùng_lõm', 'đảo', 'Giọng', 'Kết_quả', 'xác_định', '440', 'Bầu', 'Rẫy', 'Ngay_lập_tức', 'triệu', '531', '24', 'Ràng', '639', 'hỗ_trợ', 'kỳ_lạ', '1063', 'huấn_luyện', 'dày', 'cậu', 'khuẩn', '710', '634', 'thoáng_khí', '707', 'Bệnh', '649', 'Q.Thủ', 'VN10', 'Bình_Đại', 'ứng_xử', 'Thổ_Nhĩ_Kỳ', 'vô_thời_hạn', 'Facebook', '25/3', 'Quế_Hương', 'P.T.A.', '500.000', 'xung_phong', 'cỗ', 'phòng_dịch', 'Cuối_cùng', 'trực_tuyến', 'Mông', 'TK', 'đầu', 'vệ_sinh', 'bếp', 'Cao_Minh', 'cha_con', 'trở_thành', 'Thị', 'Bình_Giang', 'bưu_điện', 'thứ', 'rìa', 'nhận_thức', 'bắt_tay', '10/8', 'Cục', 'phì', '159', 'Đại_Từ', 'số_nhiều', 'Khánh', 'tiêu_chảy', 'Tiệc', 'Trở', '565', '5h', 'Đỗ_Văn_Thành', 'Ea_Tiêu', 'Trần_Văn_Giáp', 'Khoa_Nhiễm_D', 'thu_hút', 'phun', 'RT', 'N.K.T.', 'nguồn_lực', 'OAE423', 'Lý_Bình', 'EK', 'phù_hợp', 'Nguyên', '277', '29/3', 'Điền_Trung', 'nói_dối', 'không_thể', 'Nguyễn_Văn_Trỗi', 'vợ_con', 'Ngô_Gia_Tự', '340', 'VN2', 'nghi_lễ', 'tất_bật', 'mách_bảo', 'cơ_hội', 'chú_ý', 'thúc', 'Áo', 'VietNam_Airlines', 'Hà', '\\u200bTrong', 'uể_oải', 'Nguyễn_Văn_Sơn', 'nắp', '94', 'Đỗ_Ngọc_Sơn', 'Thở', 'Acute_Respiratory_Distress_Syndrome', 'Lại_Nghi', 'Hương_Thuỷ', 'điều', 'ớn', 'trung_tuần', 'người_nhà', 'Hình_ảnh', 'BN905', '0062', 'nhìn_nhận', 'hành_động', 'tạng', '780', '1/7', '16/7', 'bên', 'Mễ_Trì', '31/3', '330', '314', 'Guillain', '27/5', '21A', 'Lê_Đình_Lý', '905', '1.040', 'Tỉnh_đoàn', '2.437', 'tần_suất', 'tuổi_trẻ', 'chưa_thể', 'qua_mặt', 'Đầu_tiên', 'Sáng_mai', 'Khám', 'nhịp', 'Láng_Hạ', 'hít', 'thai_phụ', '882', 'BN840', '20/3', '38,6', '719', '270', 'Gia_đình', 'Cồn', '919', 'nghị', 'Nguyễn_Thị_Quyên', 'tính', 'Phước_Nam', 'Nẵng', 'Nam_Bắc', '…', 'chậm', 'Nguyễn_Hoàng_Phúc', 'vật_lực', '626', 'Thứ', 'Trần_Hồng_Xinh', 'Bệnh_nhi', 'Dapharco', '244', 'Bao_gồm', 'dịch_nhầy', '1.500', 'dậy', 'chấm_dứt', 'kín', 'quê', '467', '19h45', 'thi', 'liên', 'Liberty', '6/4', 'cảnh_báo', '31/8', 'khớp', 'Hiếu', 'thiếu', 'Trung_Quốc', 'xã_hội', 'hạn_chế', 'đưa', '20F', '543', 'Tây_Thạnh', 'con_nhỏ', 'nấu_ăn', 'Rạch_Giá', 'Nhất', 'Dũng', 'Nội_tiết', 'triển', 'tự_giác', 'thành_phố', 'thời_lượng', '429', 'Dã_chiến', 'phế', 'cơ', 'Abalone', 'đặt_hàng', 'La_Crosse', '178/181', 'quân', 'Đặc_biệt', 'Bắc_Giang', '666', 'Thành', 'Điện_Biên_Phủ', 'VN18', 'dừng', 'Hiện_tình_trạng', 'dẫn_lưu', 'Tập_đoàn', 'Phạm_Văn_Phúc', 'thành_lập', '235', 'TP.HCM.', 'Vừa', 'phụ_thuộc', 'nhập_cư', 'Vietnam_News', 'lơ_mơ', 'cân', 'đến_nơi', 'nhỏ_tuổi', 'Hà_Huy_Tập', 'Hồi_giáo', 'Đà_Thành', 'Nhân_Chính', 'cập', 'tương_đương', 'cộng_đồng', 'tiến_triển', '450', '357', 'Hạ_Lôi_Theo', 'Nguyễn_Đình_Xứng', 'cảnh_tượng', 'thăm_khám', 'phần_nhiều', 'bắt_buộc', 'Ánh', 'nhiễm_khuẩn', 'Yên_Lạc', 'rừng', 'VN618', 'dứt', 'H.Núi', 'phát_hiện', 'chăm_chú', 'khu', 'Nguyễn_Thanh_Tùng', 'đỡ', 'xuất_phát', 'For_You_Place', 'bao_vây', 'hiện_trường', 'điều_trị', 'Hữu_Nghị', 'Pháp', '18/4', 'Hoà_Khánh_Nam', 'xé', 'đề_xuất', 'dưới', 'Yangon', 'phương_án', 'cán_bộ', 'V.V.H.', 'đường_máu', 'sót', 'công_việc', 'linh_hoạt', 'đối_chiếu', 'điều_chỉnh', 'Xuyên', 'giúp', '891', 'Nguyễn_Thị_Thuý_Hằng', 'Tương_tự', '7198', 'xa', 'Núi', 'cứng', '478', 'hồi', 'ở', 'tuyên_bố', '23/3', 'xe', '50D', 'Trên_dưới', 'Gió_Đồng', 'E', '922', 'kê_khai', 'Xét_nghiệm', 'cám_ơn', '2h3', 'cho_dù', 'km', 'Vệ_sinh', 'giáp', 'Hoạt_động', 'chỉ_dẫn', '656', 'dịp', 'nguyên_nhân', 'Đ.T.T.H.', 'Nguyễn_Chí_Thanh', 'Khánh_Hoà', 'Kết_thúc', 'Chính_quyền', 'B.C.P.', '245', 'Thép_Hoà_Phát', '16/6', '99', 'Nguyễn_Thị_Yên', 'Khải_Xuân', 'da', 'GD', 'Đ.T', '1/2', 'tết', 'ba', 'mắm_tôm', 'nên', '13/9', 'VN5062', '523', 'địa_phương', 'thuận_lợi', 'hành_chính', '591', 'Bắc_Ninh', 'khò_khè', '9/9', 'Nguyễn_Văn_Định', '477', '279', 'Hải_Triều', 'Tứ_Hiệp', 'Y.', 'BN723', '1/5', 'cáo', 'thuỷ_tinh_thể', '249', 'Võ_Ngọc_Đông', '144', 'Thảo_Điền', 'nhĩ', '472', '117', 'Lãnh_sự_quán', 'Nguyễn_Văn_Tùng', '18D', 'ô', 'tiến_bộ', 'Phù_Lỗ', 'thái_quá', 'Hai', '560', 'Khanh', 'quận', 'An_Ngãi_Đông', '317', 'sân_vận_động', '720', 'Tổng_công_ty', 'ba_mẹ', 'Nguyễn_Đức_Hoà', 'C.A.S.', 'Texiana', 'doanh_nhân', '14/15', 'P.V.C.', 'Cán_bộ', 'Eden', 'Michigan', '13/2/9', 'cửa', 'mũi', 'hay', 'từ_trường', '58B', '11/8', 'Hoả_táng', 'Trương_Quang_Anh_Vũ', 'kiểm_soát', 'Phong_Bình', 'Nguyễn_Huy_Nga', 'phở', 'tây', '629', 'dễ_chịu', 'vô_số', 'yếu', 'Y_dược', 'VĨNH_CHÂU', 'Bộ', '75', '45.019', 'căng', 'Đại_hội', 'H5', 'thú_y', 'VJ647', 'Viễn', '802', 'chế_phẩm', 'tương_tự', '414', 'do_đó', '890', 'hàng_quán', 'Đông_Phú', 'Hy_vọng', 'Bàu_Bàng', 'Cẩm_An', 'chiến', 'Lương_Ngọc_Trương', 'Ninh_Hoà', 'Moonlight', 'mẹ', 'phố', 'hết_sức', 'co_giãn', 'nhu_yếu_phẩm', 'nghệ_thuật', 'xuất', 'GGT', 'phản_ứng', 'sinh_sống', 'khoảng', 'phẩm', 'Ngành', '987', 'hiện_đại', 'Ái_Nghĩa', 'Sản', 'dù', 'tồi_tệ', 'tiềm_ẩn', '544', 'tim_mạch', 'Cơ_quan_chức_năng', 'nhập', '339', 'Cần', 'tiền_đình', 'ống', 'Hưng', '479', '15h', 'vị_giác', 'tạp_vụ', '981', 'hàm', 'tễ', 'phế_nang', 'BI', 'SU', 'Thuỵ_Sĩ', 'Straits_Times', 'thời_trang', 'muối', 'Biên_Hoà', 'Hữu_nghị', '30.515', 'Vạn_Ninh', '160', 'Mạc_Thị_Bưởi', '1966', 'giảng_dạy', 'Phù_Ninh', 'mắc_dịch', 'P.T.', 'góc', 'giải_thích', 'noradrenalin', '736', 'lupus', 'Tiếp_tục', 'dài_hơi', 'tiếp_viên', 'N.V.Đ', 'Trì', '6/6', 'Đại_Hồng', 'sổ', 'Huế_Chiều', '494', 'hút', 'Bình_Phú', 'B.T.T.', 'sống_sót', 'suy_dinh_dưỡng_thể', 'Xác_suất', 'H.V.Đ.N.', 'đối_với', 'Bác_bỏ', '345', '196', 'trì_hoãn', '904', 'type', '44', 'phòng', 'Bùi_(', 'Thượng_Hải', '175', 'cắt', '10.000', 'Guinea', 'tỉ_lệ', 'Trung_Hoà', 'chết', '3/9', '102', '496', 'Đặng_Quang_Tấn', 'mất', 'cam_go', '976', 'Quỳnh_Phụ', '7B', 'Khoa_ngoại', '23', 'tái_nhiễm', 'Tôn_Thất', 'Suy', 'gánh', 'cú', 'đơn_vị', 'Cách', 'Arab_Thống', 'dương', 'lâm_sàng', '1069', 'nhà_riêng', 'Du_lịch', '760', '1.114', 'Hay', '4405', 'quốc_lộ', 'mẫu', 'Song', 'Vân_Long', 'phố', '952', 'vỏn_vẹn', 'Tiếp_theo', '8/6', 'Kim_Chung', 'Bình', 'Mường_Thanh_Phương_Đông', '1.016', '959', 'Nội_Thận', 'hồ_sơ', 'Công_bố', 'thực_phẩm', '1959', '378', 'ngưng', 'Nhiệt', 'lúa', 'tu', '40C', '40', 'Vĩnh_Phúc', 'lau', 'ôtô', 'VN5002', 'oxy_hoá', 'Sơn_Tây', 'thầy', '7.000', 'Lê_Văn_Hiến', '618', '704', 'An_Hải', '431', 'Phổi', 'bao_gồm', '23h50', 'C', 'Võ_Nguyên_Phong', 'Quảng_Vinh', 'Vietnam_Airlines', '(N.T.T.N.', 'Bảo_Yên', 'IPANEMA', '59', 'N.T.N.A.', '7/3', 'bổ_sung', 'K81', 'giờ_đây', 'Vũ_Đức_Đam', 'sau_cùng', 'trung_học_cơ_sở', 'lớp', '57H', '15/8', 'thanh_quản', 'quy_cách', '1h', 'nhân_khẩu', 'đầu_ghi', 'chi_phí', 'đối', 'nhiệt_độ', 'TG', 'Cảm', 'Ả_Rập_Xê_Út', 'Sang', 'cũng', 'tên', 'khô', 'Nguyễn_Quang_Thuấn', '263', 'viết', '17/6', 'The_Ascent_Apartment', 'Cư_Kuin', 'gian_dối', 'Charm_Spa', 'thang_máy', 'Tuyển_Cử', 'Nghe', 'Quy_trình', 'ban_ngày', '332', 'lý_do', 'cô', 'bệnh_cảnh', 'một_mình', 'Ho', '569', 'Tây_Nam', '412', 'Tổng_hợp', 'MI632', 'Cam_Phúc_Bắc', '872', 'u_nang', '14/1', '7h3', 'bác_bỏ', 'hoả_tốc', 'New_York', 'nhà_kho', '2012', 'T.T.B', 'thuốc', 'huyện_uỷ', 'Hoàng_Đức_Hạnh', 'Yên_Khê', 'N.G.L.', '876', '6G', 'Đắk_Lắk', 'đốc', 'Cụ', 'Ipanema', 'D.T.T.', 'N.H.P.', 'trả_lời', 'P.T.V', '1.027', '282', 'thương', '224', 'Di_Lương', 'Quảng_Ngãi', 'Hưng_Hà', 'rằng', 'chắc', '41', 'Chicago', 'lái_xe', 'cân_nhắc', '745', 'Viking_Cruise', 'Long_An', 'suất', '7h', 'quan_trọng', 'khắp', 'Chỉ', 'kẹt', 'Phuket', 'việc_làm', 'điểm', 'Đại_Nghĩa', 'tân_gia', 'Dương_Lệ_Đông', '701', 'BN842', 'Sea_Resort', 'Kim_Chi', 'Hàng_rào', '968', 'Tiếp', 'tiếng', 'liều', 'bóng', 'VN607', 'Phổi_Trung', 'Hội_nghị', 'Nhuận_Đông', 'VN0088', 'Nhóm', 'dung_tích', '1.017', 'lô', 'rước', 'Sun_World', 'Chế_Lan_Viên', 'bờ', 'củ', 'Lê_Trung_Chinh', 'quan_ngại', 'BN323', 'Nhà_tù', 'scanner', '27/3', '20h30', 'sứct', 'áp_dụng', 'chiều', 'Hành_khách', 'đối_mặt', '990', 'Phi_La', 'Hiền', 'Bệnh_lý', 'tim', 'Lần', '218', 'Online', '771', 'may_mắn', 'lập', 'Hà_Thân', 'đoàn_kết', 'cam', 'Hoà_Hữu_Tây', 'nghỉ', 'bệnh_trạng', 'cởi', 'Tiền_sử', '763', 'Khoa_Dược', 'Hoà_Vang', 'kỳ_thị', 'Bệnh', '39', 'khuôn_viên', 'hứa', 'thu_thập', 'VN0018', 'N.P.H', 'đường', 'QR970', 'rầm_rộ', 'danh', 'chú', 'Đại_Hưng', 'Tokurinji', 'Đầu_Mối', 'nghi_kỵ', 'dây', 'quy_định', 'Hải', '10/10', '3569', '37,5', 'Phi_công', 'bánh', 'SunWorld', 'hình_thức', '962', '594', 'bất', 'xã', 'trực_thuộc', 'tỏ', 'phiếu', 'thính_giác', 'P.N.Q.', 'Quận', 'Hợp_Tiến', 'Nguyễn_Việt_Dung', 'Myanmar', 'dành', 'ấn_tượng', 'Kết_luận', 'Thắng_Lợi', 'tục', 'Mới', 'Triệu_Việt_Vương', 'vốn', '8', 'B.', 'tuy_nhiên', '602', '241', 'Quốc_Việt', 'Trường_Chinh', 'Nguyễn_Thị_Nh', 'Wild_Frontiers', 'Tp', '519', '482', 'L.N.V.A.', 'chống', 'bệnh', 'Air_Asia', 'đẩy', '202', 'dới', 'vắng_lặng', 'Hoàng_Việt', '929', 'SE', '424', '878', '696', '30E', 'VN0062', 'ẩm_thực', 'tã', 'nhà_gái', 'đối_diện', 'mừng', 'Sân_bay', 'nào', 'QR968', 'tổng_giám_đốc', 'biểu_hiện', 'Căn_cứ', '20/2', 'Ford', 'B.N.M.Q.', 'đau_đớn', '5/9', 'nội_tiết', '47', 'gia_dụng', 'bộ', 'TS', 'trải', '20/6', 'Quay', '434', 'COVID', '126', '200m', 'Uông_Bí', 'Tuấn', 'Nửa', '15/4', 'Loại_trừ', 'tài_sản', 'một_vài', 'bẩm_sinh', 'đùi', 'thiết_kế', 'Thông_tấn_xã', 'Thái_Phiên', 'Hoà_Tiến', 'Nguyễn_Thiết', 'học.huẩn', 'an_toàn', 'email', 'thủ_tướng', 'Kỳ_Sơn', 'thẩm', 'Văn_Quán', '564', 'Hải_Châu', 'Hoa_Kỳ', '2m', 'Bãi_Cháy', 'lại', 'Chiếu', '20/5', 'bởi', '370', '257', '1.026', 'đi_tiểu', 'sạn', 'nhận_biết', 'phòng_hộ', 'Rồng', 'Chốt', 'Chính_phủ', '978', '33D', 'con_nuôi', 'Chuyển', 'nhiệm', 'cấp_bách', 'bay', 'Tại', 'Tết_Nguyên_đán', 'Lupus', '3.300', 'tiếc', '758', 'Yên_Sở', 'hiện_nay', '2G', 'lân', '985', 'tung', '40%', 'tái_phát', 'Moskva', '830', '7131', 'muộn', '446', '299', 'siết', 'rales', 'Mặc_dù', 'đến', 'di_chứng', 'Tân_Phong', 'giường', 'to_tiếng', '129', '700', 'Dương_Kinh', 'nhà_vệ_sinh', 'nông', 'giáo_viên', 'Sóc_Sơn', 'bông', 'tỉnh', 'Vĩnh_Tường', 'vang', '1044', 'con_người', 'Hoà_Phong', 'VN5063', 'tiếp_nối', 'Eva_Air', 'Phư', 'phục_vụ_bàn', 'triều', 'sàng_lọc', '240', '39,2', 'siêu', 'Lê_Duẩn', 'Là', '108', '852', 'mặt_nạ', 'cầu', '346', 'Vi_Văn_Thuyết', 'Sam_Grand', 'Dịch', '860', 'kỹ_sư', 'ngoại_tỉnh', '497', 'Công_ty', '260', 'Chín', '81/110', 'cơ', 'Bỉ', 'đánh_số', 'Hi_Lạp', 'Arkhangelsk', '907', 'Hoàng', 'Mê_sảng', 'tuỳ', '113', 'Nam_Từ_Liêm', '30/4', 'Bộ_Tư_lệnh', 'ĐT', 'Kể', 'ngàn', 'trăm', 'Nguyễn_Đình_Chiểu', '566/1.014', 'môi_trường', 'P.T.A.M', '14/9', 'Huệ', '537', '861', 'to', 'chảy', 'công_cộng', 'quy_mô', 'bán_lẻ', 'đột_nhiên', 'xe_buýt', 'Đức_Hạnh', 'trào', 'Sha_Tin', '24/4', '49F', 'Thủ_tướng', '179', 'miêu_tả', 'bàn', 'QR977', '227', 'Công_an', 'Quốc_Tân', 'kịp', 'nhằm', '529', 'sức_lực', 'hùng_mạnh', 'Thái_Lan', 'Thọ', 'JL752', '470', 'HCM', 'từ', '201', 'Hải_Phòng', 'dương', 'Mộ_Đức', 'Minh_Phát', 'lý_giải', 'Phú_Quốc', '5.113', 'suy', 'đáp', 'thể_trạng', 'buôn', 'phụ_nữ', 'Như_Xuân', 'đêm_ngày', 'cổ_phần', 'Quốc_tế', 'NS1', 'Ông', 'xét', '555', 'Tháng', 'tắc_nghẽn', 'Nguyễn_Văn_Thường', 'Xuân_Đỉnh', 'xối_xả', 'Việt_Hùng', '01165', 'cấp_cứu', '813', 'Hôm_nay', 'nhà_ga', 'Mẫu', '480', 'cuộc_chiến', 'lưng', 'phụ_trách', 'Bà_Rịa', 'triển_khai', 'ngân_hàng', 'giải_phóng', '185', 'tiểu_phẫu', 'Nguyễn_Đức_Trung', 'lao_phổi', 'xem', 'Bình_Thuận', 'hàng_xóm', 'Rồi', 'Phim', 'trò_chuyện', 'bước', 'gậy', '125,126', 'Trung_ương', '466', 'Lỗ_hổng', 'Trương_Định', 'Xuân', 'pizza', 'Cậu', '+', 'Ban', 'thực_sự', '485', 'Cát_Bà', 'chay', 'Hà_Văn_Thanh', 'Long_Dương', 'Nho_Quan', '11/3', 'biện_minh', 'sỏi', 'Ổ', 'lai_lịch', 'Tạ_Hiện', 'mũi', 'Vĩnh_Linh', 'Vấn_đề', '19E', 'T.T.B.P.', 'L.K.N.', 'cơ_thể', '324', 'bệnh_án', '132', 'Phạm_Thanh_Việt', 'tinh_thần', '130', 'Nam_Hải_Vân', 'sinh', 'Đồng_Xoài', 'phòng_bệnh', 'BI381', 'Tam_Điệp', 'xóm', 'nhà_hàng', 'Latvia', '717', 'trước', '33K', 'phòng_tránh', 'Nghề', 'đái_tháo_đường', '964', 'J.B.B.', 'miễn_phí', 'CHSEJ', 'Nay', 'Hoàng_Minh_Giám', 'thông_báo', 'P.N.H.', 'Dương_Đức_Hùng', 'nghỉ', '816', 'Hoà_Thạch', '06h22', '721', 'thông_gia', 'truyền_thông', '691', 'Thông_thường', 'tập', 'Lý_do_viên', '195', 'thở_hắt', 'mong_muốn', '692', 'gấp', 'đứt', 'N.T.H', 'mạc', 'Giải_phóng', '2.973', 'Cứ', 'TP', 'truy_tìm', '031', '18h45', 'Hoà_Thạnh', 'M.Q.Đ.', 'thợ_xây', 'lọc', 'Tiểu_ban', 'người', '989', 'à', 'lập_tức', 'tìm', 'giám_đốc', 'Lão', 'mini', '652', 'thương_mại', 'Đa_Kao', 'quan_hệ', 'mạn_tính', 'ung_thư', 'Cẩm_Lệ', 'Hạnh', 'thường_ngày', 'nhất_là', 'Cự_Khê', 'Nguyễn_Nhật_Cảm', 'trực', 'Interferon', 'ngoài_ra', 'Đại_lộ', 'Q.Hoàn', 'Bệnh_nhân', 'chứng', 'Đ.Q.M.', 'Cơ_quan', 'điều_chuyển', 'nội_địa', 'FV', 'dồn_dập', 'The_Coffee_House', 'nhanh', 'xin_lỗi', 'PGS.TS', 'Chỉ_huy', 'Tây_Ninh', 'dán', 'ghi', 'Ba_mươi', 'ven', 'cố', 'triệu_chứng', 'BB733', 'Nhân', 'B.Đ.T.', 'Kawasaki', '269', 'Hoà_Minzy', 'Mỹ_Đông', 'giấu', '1043', 'với', '831', 'Điện', 'hấp', 'Đ.T.B', 'nhà', 'thăm_hỏi', 'cẩn_trọng', '83', 'tức_là', '25', '25/2', '104', '593', 'đột_xuất', '6/8', 'An_Lão', 'Việt_Yên', 'bệnh_nhi', '178', 'Gồm', '13h30', 'bí_thư', 'Dã_Chiến', '3/8', 'ông_bầu', 'hồi_sức', 'Công_tác', 'Chấn_thương', 'tin_vui', '713', 'nhất', 'Táo_Đỏ', 'nhẹ_nhõm', 'N.T.H.', '23G', 'đường', 'Ana_Maria', '375', 'Vụ_Bản', 'nội_thất', '17/1', '14h', 'Chu_Văn_An', 'Hoài', 'Quảng_Bình', 'khó_chịu', 'corticoid', 'nhảy', 'em_trai', 'tuân_thủ', 'phác_đồ', '843', 'Thiếu', 'Quách_Ái_Đức', '554', '867', 'phát', 'nhau', 'Ngăn_ngừa', 'Lê_Văn_Long', '7h45', 'Nguyễn_Thị_Mộng_Ngọc', 'Như_vậy', '5.100', 'Bata', '37', 'bản_đồ', 'phích', '302', '401', 'Linh_Ứng', '23D', 'Kullar', '266', 'Dù', 'hôm_qua', 'phân_biệt', 'mặc', 'L.Đ.N.', 'P.T.D.', 'tiếp_cận', 'hết_sức_lực', 'Lê_Mạnh_Hùng', '26/8', '31/7', 'bình', '168', 'Trịnh_Duy_Ưng', '*', 'huyết_áp_cao', 'lây', 'nổ', 'Cần_Thơ', 'Võ_Hùng', '875', '14h30', 'két', 'xe_máy', 'Hoà_Cường', 'Hoà_Cầm', 'Li', 'Thượng', 'Hải_Hồ', 'khoa_ngoại', 'Quốc_Tuấn', 'Phú_Xá', 'tình_nguyện', 'mua_bán', 'tâm', 'h', 'mở_cửa', 'Phạm_Văn_Thinh', '1067', 'Dịch_Vọng', 'Phạm_Như_Hiệp', '°C', 'rể', 'Thơ', 'Trầu', 'một_cách', 'Chuối', 'khởi_hành', 'Âu_Cơ', '2/3', '376', 'đái_đường', 'Uniqlo', 'dọc', '25/8', 'trang_trại', 'Sun', 'Nhúng_Ớt', 'H.T.H', 'Nghi', 'thanh_niên', '5', '863', '703', 'Trưa', '12/250', '1050', '1030', 'SIM', 'khuyến_khích', 'gối_đầu', 'N.N.L.', 'túi_xách', 'thế_nào', '36,8', 'hay_biết', 'chuyên_dụng', 'cúm', 'đón_nhận', '457', '8.100', 'vốn_dĩ', 'Nguyễn_Mạnh_Hà', 'BN521', 'bệnh_viện', 'Kiếm', 'kê', 'tỉnh_thành', 'cản', 'phỏng_vấn', 'Q', 'thuê', '124', 'tự_phục_vụ', 'H9092', 'nghề', 'hạ', 'Tàu', 'kỹ', 'tuyp', 'vui_đùa', 'muốn', '834', '4B', 'Nguyễn_Thanh_Hải', 'lần_lượt', 'nữ_sinh', 'EK392', 'lẫn_lộn', 'hy_vọng', 'Nguyễn_Minh_Trung', 'trọn', 'căn_hộ', 'Điện', 'Lê_Thị_Thu_Hằng', '977', 'ổn', 'Hội_An', 'Penang', '665', 'bãi_tắm', 'niêm_mạc', '3/3', 'Thừa_Đức', 'A.T', 'Lê_Thị_Hồng_Gấm', 'K20', '228', 'Lịch_sử', 'Tây_Hồ', '1521', 'Bình_Thuân', 'chật_vật', 'rà_soát', '901', 'Phạm_Tuấn_Tài', 'Thạch_Sơn', 'Ruộng', 'hậu_cần', 'tìm_kiếm', '5/4', 'trình_báo', 'nông_nghiệp', 'Lăng_Cô', 'Cột', '274', 'Quá_trình', 'Sơn_Kỳ', 'Diễn_biến', '333', 'Dữ_liệu', 'Nguyễn_Tiên_Hồng', 'tiên_lượng', 'thuyên_giảm', 'Qatar', 'vùng', 'đơn_giản', 'vết_thương', 'Trước_hết', '643', 'Triệu', 'Hồng', 'nhà_báo', 'Quãng', '151', 'cao_tuổi', '1070', 'giáo_dục', 'ngại', 'trùng', 'âm_thầm', '139', 'P.', 'fashionista', 'phiên', '1036', 'thật', '1035', 'nhạy_cảm', 'hi_vọng', 'Bắc', 'xếp', 'Đông_Hà', 'bà', 'Quảng_Xương', '1.001', 'thuộc', 'Mầm_non', 'ra', 'Thiện', '931', 'danh_tính', 'bán_kính', 'tư_nhân', 'Nguyễn_Tri_Phương', 'đới', '2/8', 'tầm', 'cảnh', 'Cấp_cứu', 'Ireland', 'Hoa_Lư', 'Đây', 'nhân', 'khẩu_trang', 'chờ', 'Láng', '426', 'Phổi_Đồng_Nai', 'thịt', 'liệu_pháp', '15/9', 'chung', '0050', 'Nam_Dương', 'hôn', '222', 'tôn_giáo', '142', '14', 'Limousine_Cafe', 'chủ_động', '667', 'Đường', 'phân_liệt', 'Phúc_Diễn', '437', 'cạnh', 'La_Paz', 'tư', 'P', 'đầu_tiên', 'Vương_quốc_Anh', 'Vẫn', 'M.K', 'nhập_học', 'Khai_báo', 'Chính_Gián', 'tin_tức', 'sàn', 'Cơn', 'SAR', 'Đ.T.A', '832', '100kg', 'Malyasia', 'VN88', 'vô_địch', 'trung_cấp', 'thử', 'Dĩ_An', 'nhà', 'casino', 'Lý_do', 'ương', 'tiêu_chuẩn', 'xúc_động', 'trọng_điểm', '65', 'mạch_máu', 'ngộ_độc', 'nhu', 'rào', 'tới', 'N.Q.T.', '1019', 'nói_chung', '72', 'N.C.T', 'Xuân_Diệu', '3h', 'Ban_ngày', 'riêng_biệt', 'Huấn_Nghiệp', 'khuyến_cáo', 'kiểm_chứng', 'Kim_Liên', 'làm_việc', 'Lấy', 'bảy', 'Tư_Nghĩa', 'Bí_thư', 'Paris', 'Trong', 'Nha_Trang', 'D11', 'T.M.', 'đang', '24/7', '778', '7/4', 'ICU', 'Peng', 'đến', 'nhiệt_đới', 'cất_cánh', 'nội_bộ', 'Hoà_Bình', 'Phạm_Ngọc_Hàm', 'An_Sơn', 'Để', 'N95', '331', 'BN893', 'Dương_Văn_Thái', 'đại_học', '541', 'tụ_tập', 'lỏng', '384', '11/2', 'Bản', 'Cầu_Treo', 'Phổi_Quảng_Trị', 'Hùng', 'Ng.', 'Xin', 'Hoàng_Hoa_Thám', 'Trẻ', '938', 'kèm', 'Phước_Hoà', '351', 'Lý_giải', 'Nihon_Plast', '21/3', 'chán', 'Nguyễn_Văn_Hai', 'công', 'Công_đoàn', 'giữa', 'thức', 'giải', '29G', 'gạo', '670', '81', '848', 'cầm', 'Vĩnh', 'Mẹ', 'đó', '961', 'thuỷ_thủ', 'Q.Nam', 'corana', 'Hạn_chế', 'Lộc_Ninh', 'Lạc_Long_Quân', 'động_viên', 'Tân_Túc', 'răng', 'Gươm', 'lo_ngại', 'Iran', 'diễn_tả', 'net', 'chính_trị', 'tăng_tốc', 'sự_kiện', 'khí', '21/7', '954', '13h3', 'cải_thiện', 'Phong_Nha', 'Nhung', 'Phước_Mỹ', 'Minh_An', 'Giữ_gìn', 'suy_giảm', 'Trung_bình', 'Phạm_Như_Xương', 'PLA', '262', 'C2', '642', 'phòng_bị', 'Thanh_Khê', '1026', 'Đảm_bảo', 'một_chút', 'số_hiệu', 'xuất_hiện', '1031', 'Hàn', 'gây', 'nổi_tiếng', 'Đa_Tây', 'lần', 'sở', 'Nguy_cơ', 'đường_cao_tốc', 'mặc_dù', '1000', 'Bắc_Thăng_Long', 'hộ_chiếu', 'cơ_quan_chức_năng', 'cụm_từ', 'Nguyễn_Cẩm_Thạch', '716', 'biến_chứng', '620', 'đầy_đủ', 'K105', 'soát', '239', 'kiên_trì', '1.700', 'Đáng', '82,4%', 'Thiên_Đường', 'V', 'Đ.Q.H.', 'tour', 'đề_nghị', 'Chiểu', 'Mercure_Bà_Nà', '20h45', 'Thường_Tín', 'bài', 'cung_cấp', 'trở_lại', 'lượt', 'Lưu_Minh', 'đọc', 'ARN', 'một_mực', 'huyện', 'thành_phố_Đông_Hà', 'tính_mạng', '15%', 'doanh_nghiệp', '385', 'tất_cả', 'Nhớ', 'Cẩm_Thuỷ', 'băn_khoăn', 'thầu', 'H.M', '598', 'lạ', 'For_You_Luxury', 'đỉnh', '1.629', 'dự_định', 'tượng', 'xâm_lấn', 'viện', 'băng_ca', '7h30', 'tri_giác', 'đáy', '86', 'ai', 'Nhật_Liên', 'tinh_tế', 'KTX', '38', 'Thuận', 'nhập_cảnh', 'Bảo_Việt', 'lại_sức', 'Saigon_Royal', 'chủ', '2', 'Trần_Đăng_Ninh', 'Quảng_Nám', '1.068', 'mỏi', 'số_lượng', 'vẽ', 'công_nhận', 'năng', 'gầy', '741', '5062', 'y_sĩ', 'cử_nhân_viên', '503', 'Xuân_An', 'Buddha', 'công_văn', 'Sapa_Highland_Resort', '8059', 'ương', 'là_là', 'điều_hoà', 'Trương_Thanh_Trung', 'giáo_lý', 'tạm_thời', '7/2', 'chi_trả', '883', 'hành_trình', '1987', 'Tính', 'Hạ_Lôi', '974', '157', 'em_gái', 'mùng', 'Cơ', 'Grab', 'hiệu', 'trước', 'B.E', 'xử_phạt', 'Quảng_Nam', 'dịch', 'từ_thiện', 'chứng_tỏ', 'An_Hải_Bắc', 'ban', 'Cộng', 'thủ_tục', '418', 'Đa_phần', 'EK364', '281', 'TPHCM', 'Phú_Nhuận', 'Vừa_rồi', '23/7', 'liên_tiếp', '897', 'Vingroup', 'anh_trai', '106', 'PICS', 'Vũ', 'tạp_hoá', 'Vợ', 'mua_sắm', 'Ghi_nhận', 'Phong', 'trường', 'tiếp_theo', 'Đa_Nhim', 'rồi', 'micromet', 'sang_chấn', 'xuất', 'tẩu_thoát', '10h3', 'vợ', '382', 'nhiều', 'phút', '161', 'vợ', 'CoV', 'con_ruột', 'Phương_Thiện', 'hiệu_lực', 'thị_xã', 'N.T.T.', 'L.T.H', 'giá_trị', 'mạn', 'Tân_Thạnh', 'thông_thường', '37,4', 'thuyết_phục', 'loạt', '16km', 'chiếu', 'Trần_Xuân_Dưỡng', 'Thừa_Lợi', 'Đ.T.H.', 'HĐQT', 'Không_chỉ', 'CX906', '30/3', '753', 'Q.', 'BCG', 'rét_mướt', '963', ':', 'ho_khan', 'cửa_cuốn', 'bội_nhiễm', '794', 'chia_lửa', 'Quảng_An', 'Hương', 'Guo', '636', '835', 'ơ', 'Ở', 'nhân_thân', 'hội', 'chỉ', 'Anh', '893', 'già', 'Đào_tạo', 'đối_tượng', 'tiêm', '100%', 'di_tích', 'Sư_đoàn', 'nghiêm_ngặt', 'B.T.Th.', 'Liên_tưởng', 'N.T.S.', '2004', 'tối_qua', 'Hồng_Quang', 'Hoà_Minh', 'tổ', 'Nguyễn_Mạnh_Hồng', 'an_ninh', 'Nippon_Maru', '895', '181', 'Vương_Trương_Trọng', '949', 'ảnh', '341', 'N.T.H.H.', 'Bình_Lục', 'cách', 'chủ_trương', 'mô_tả', 'Chợ', 'Trao_đổi', 'nhắn_gửi', 'Tân', 'dấu_hiệu', 'Ích_Khiêm', 'Vĩnh_Tú', 'cứ', '524', 'Võ_Nguyên_Giáp', 'Đinh_Đạo', 'Tỉnh_uỷ', 'Philadelphia', '146', '15h40', 'gút', 'Ngô_Văn_Tán', 'di_dời', 'mặn', 'lãnh_sự_quán', 'Hải_Sơn', '578', 'tay_nghề', 'Nadia', 'V.', '162', '568', 'toa', 'mưa', 'Bambo_Airways', 'thận', '215', 'hụt', '47B', 'quay_phim', '2019', 'quyết_định', 'sơ', '5/2', 'Trị', 'Trần_Quang_Khải', 'Tiến_Dũng', 'Tất_cả', 'Gia', 'bấm', 'NH857', 'trông', 'cư_trú', 'Bi', 'Sơn_Trà_)', 'liên_tục', 'hướng_dẫn', 'họng', 'liên_hiệp', 'hộ_sinh', '687', '18h', '11/5', 'Chỉ_thị', 'khẩn_trương', 'Thạch_Thất', 'Trần_Văn_Tân', 'nỗ_lực', '11h30', 'chung_cư', 'húng_hắng', 'cà_phê', 'hoại_tử', 'Thiệu_Hoá', 'Vì', 'trung_thực', '827', 'Vinmart', '606', 'lây_truyền', 'Pasteur', 'tập_thể', '926', 'Hoà_Phát_Dung_Quất', 'khối_phố', 'Cuội_Nguội', 'báo', 'tử_vong', 'trắng_ngà', '24D', 'Scanner', 'Hơi', '792', 'giờ_hành_chính', 'SE5', 'Nại_Hiên_Đông', 'Thống', 'coi', 'Malaysia', 'dân_tộc', 'ruột_thừa', 'Minh_Trang', 'Kim_Hoá', 'toa_xe', 'Nguyễn_Vũ_Thượng', 'sông', 'phải', 'bất_cứ', '363', '1029', 'Công_Thành', 'Phú_Vang', '27/8', 'phần_lớn', 'chiến_thuật', 'mệt_mỏi', 'nhà_ăn', 'có', 'Trần_Duy_Hưng', 'ĐH', '14K', '2016', 'trấn_an', 'sổ', 'bánh_mì', 'Nguyễn_Bá_Lân', 'Chồng', 'Theo', 'ngoại_trú', '23/8', 'Văn_hoá', '209', '5h30', 'chăm_nom', 'KANE', 'Ngày', 'chủng', 'Đông_Giang', 'xịt', '936', 'đưa_đón', 'bậc', 'đã', 'ngắn', 'cụm', '567', 'đặc_điểm', 'ga', 'nhỏ', 'di_căn', '30/5', 'Q.Bình', 'Đợt', 'Eschool', 'khoa_nội', 'vài', 'cơ_quan', 'đàn', 'Sốt', 'Hoàng_Mai', 'Phúc', 'cựu', 'Thừa_Thiên_Huế', '18/3', 'IT', 'kích_hoạt', 'quảng', 'vợ_chồng', 'Đỗ_Văn_Hùng', 'rối_loạn', 'ví_dụ', 'phường', '991', 'tan', 'bày_tỏ', '27/2', 'chấn_thương', 'Thảo', 'sống', 'Vũ_Văn_Hoạt', 'Ngô_Khê', 'khoanh', 'Formica', '29/9', 'ăn_ở', 'Bộc', '67', 'Nam_Đàn', '1.164', 'L.Đ.N', 'vẫn', '475', '44L', 'Dixong_John_Garth', 'PCR', 'hội_thảo', 'test', '362', 'Sáu', 'Bệnh_Viện', '950', '862', '731', 'tuổi_tác', \"'\", 'nhân_sự', 'Vậy', 'tươi_cười', '28C', '17h', 'tiêu', '198', '599', 'lịch_sử', 'Nằm', 'nhà_băng', '747', 'Oanh_Pham', 'chủng', 'trở_nên', 'Kiên_Giang', '718', 'đau_nhức', 'vòng', 'phương_châm', 'viên', 'Mexico', 'tiết_niệu', 'hội_chẩn', 'trao_đổi', 'A', '3H', 'anh_em', 'kiến_nghị', '39/39', 'Điện_máy', '(', 'Giám_đốc', 'ăn', 'JL751', '27/6', '275', 'độc_giả', '12.5', '21/8', 'Narita', 'Bảo_vệ', 'Nhà_chức_trách', 'Bình_Sơn', 'Đài_Bắc', 'BR395', '190', 'V.H.S.', 'kiểm_đếm', 'thái_độ', '16%', 'vị', 'Trần_Quang_Đạt', 'phương', 'đen', 'tiểu_học', 'Thai_Airways', 'móng', 'đầu_lòng', 'mẹ', 'P.T.B', 'lít', 'tàu_thuỷ', 'Scotland', 'AK1502', 'Tam_Thuận', 'Uzbekistan', 'dấu_vết', 'chức', 'Nguyễn_Lương_Bằng', 'rộng', 'Khoá', 'VN1415', '164', 'y_tế', 'Khoa_Nhiễm', '742', 'uống', 'Trụ_sở', 'Báo_cáo', 'tờ', '34A', 'Quang_Trung', '631', 'hạng', 'Có', 'gout', 'chú_thích', '1963', 'biển', 'kề', '686', 'Hồi', 'khử_trùng', 'Nghi_Thiết', 'chân', 'Thạch_Trung', 'Trần_Thanh_Linh', 'dân_phòng', 'chợ_lớn', '1064', 'AK575', 'Chung_cư', 'Oman', 'độ', 'Nguyễn_Thị_Hiền', 'nhẹ', 'Ngô_Văn_Quý', 'EK30', 'tiệm', 'gác', 'tra', 'AK', 'đảm_bảo', 'công_nhân', 'Nguyễn_Thị_Minh_Khai', 'sẽ', 'tài_liệu', 'Thiện_Kế', 'Nhà', 'đặc_trưng', '371', 'Những', '8/9', '772', 'Ninh_Thuận', 'Frankfurt', 'biên_phòng', 'Lệ_Sơn_Nam', '10/9', 'hiến', 'BS', '699', 'Mạng', 'sinh_nhật', 'Nà_Hills', 'giới_tính', 'trị', 'buông_xuôi', 'dựa', 'VN814', 'Phủ_Lý', 'tụ', '668', 'Văn_Lâm', '1968', 'dệt_may', 'ANA', 'thứ', 'Nguyễn_Khắc_Hiếu', '559', 'Nhỏ', '888', 'Nguyễn_Quang', '1982', '40B', '152', 'Cảng_Hàng_không', 'Seattle', '/', 'Đồng', 'ôxy', 'chặt', 'xem_xét', 'cáo_buộc', 'Kỳ_Anh', 'Nghĩa', 'ích', 'thông_qua', 'cẩn_thận', '212', 'X', 'VJ7387', 'Bà_cụ', 'Thân_nhân', 'chuyên_môn', '2.200', 'chùm', 'virút', 'Lệnh', 'ngắt_quãng', 'Cả', 'tối_ngày', '996', 'mất_cắp', '5.600', 'Liêm_Tuyền', 'sức', '236', 'Khoa_Y', 'N.T.B.', '840', 'Nguyễn_Xuân_Phúc', 'P.V.T.', 'công_nghệ_cao', '7/9', '481', 'đi_lại', 'N.A.P.', '5K', 'trái_phép', 'N.V.T', 'Vĩnh_Cửu', 'khắp_nơi', 'Võ_Chí_Công', 'nơi', 'P.T.B.P.', 'Sa_Pa', 'N.T.L.', 'tiết', 'phim', 'Nhân_viên', '920', 'bè', 'sonde', 'thất_thường', 'sui_gia', 'Thanh_Lịch', 'Châu_Văn_Liêm', 'dự', 'Sư_phạm', 'hợp', 'ngã', 'nhóm', 'chạm', 'hen_suyễn', 'sử_dụng', 'ngăn_chặn', 'Thảo_Tiên', 'Gio_Châu', 'Chiều', 'Việt', 'mệt', 'so_sánh', '589', '131', '9h', 'Chánh', 'mồ_côi', '97', 'Xã_hội', 'tán', '612', '65%', '799', 'nếu', 'tôi', 'đại_sứ', '549', '845', 'Lâm_Đồng', '31K', 'Uzebekistan', 'chặn', 'Huỳnh_Đức_Thơ', 'cõi', '769', 'tận', 'Biện_pháp', '2/7', 'Phạm_Ngọc_Hoài', 'lên_cơn', 'hôn_mê', 'trấn', 'ví_như', 'Nhiệt_Đới', '62,1%', '21.063', 'E.', '352', 'V.V.M.', 'cho_hay', 'Đại_tá', '587', 'công_khai', 'Thiếu_sinh_quân', 'Mai_Văn_Mười', 'Nhân_dân', 'nhập_viện', 'hàng_rào', '306', '1.900', 'Nhà_máy', '15F', 'kể', 'Cao_Văn_Trọng', 'Nhận', 'chế_độ', 'thường', 'Cẩm_Phả', 'Sơn_Viên', 'thế_giới', 'Trung_Ương', 'chị_gái', 'Liêm', 'phức_tạp', 'Bạch_Mai_TTO', 'Nguyễn_Đức_Cường', 'Coffee_Highland', 'công_nghiệp', '64', 'Hữu_Kiệm', 'cần', 'lợt', '311', 'ngày_nay', 'chảy_máu', 'bạn_bè', 'như_vậy', '188', 'tụt', '1.400', 'Hằng', '349', 'là', 'Cov', 'TTO', '810', 'Bài_học', '408', 'scan', 'thân_nhân', '628', '12.000', 'Thần_kinh', 'quảng_cáo', 'Lịch_trình', 'sức_khoẻ', '207', 'Lộc', 'tuỵ', 'time', '80%', 'tâm_thần', '15h30', 'BN428', 'Vĩnh_Yên', 'Cáp_Thị_Yến', '14h10', 'thông_cáo', 'hệ_miễn_dịch', 'van', 'phần', 'Thái_An', 'nghĩa', 'P.Nghĩa', 'phổ_biến', 'Khoa_Khám', 'N.T.T.N.', 'rát', 'đánh', 'XQ', '0', 'hành_nghề', 'Nguyễn_Thiện_Thuật', 'N.T.K.H', 'Quế_Mỹ', 'Toronto', 'trong', 'Vụ_việc', 'giới_hạn', '46', 'chiến_lược', 'Đương', 'BN321', 'Trương_Quang_Việt', 'Nguyễn_Văn_Vĩnh_Châu', 'lân_cận', 'thời_điểm', 'ngồi', 'di_động', 'Bộ', 'đầu_mối', 'vi_rút', '984', '930', 'Danielle_Smith', 'vỉa_hè', 'âm', 'tuyến', 'điều_hành', 'hàng', 'N.T.M.', 'Texas', 'Cao_Bằng', '734', 'Khoanh', 'đau_đầu', 'Trần_Quốc_Tuấn', 'Chùa', '214', 'Nội', 'Thạnh_Mỹ_Lợi', '13/7', 'đe_doạ', 'ngoài', 'Bài', 'giãn', 'lúc', 'công_tác', 'Đông_Ngạc', 'thậm_chí', 'Bùi_Viện', 'đội', 'thai', 'Tân_Sơn_Nhì', 'L.T.Đ.', 'Đỗ_Thanh_Bình', 'kết_thúc', 'tiểu_đoàn', 'Real_Time_PCR', 'tiên', 'hiện', 'kiến_thức', 'chờ_đợi', 'L', 'Đào_Xuân_Cơ', 'Phạm_Huyền_My', 'tổng', 'Quảng_Ninh', 'Hàng_không', 'Vũ_Khắc_Tiệp', 'QR0976', '121', '16K', 'Hồng_Lĩnh', '51', 'AXY', 'hẻo_lánh', 'tím_tái', 'trưa', 'Đồng_Phú_Khiêm', 'bàng_quang', '702', '137', '953', 'F', '338', 'mẫy', 'ổ', 'SP3', '22h20', 'Vang', 'sốt', 'tương_ứng', 'nữ', '38,3', 'Quảng_Trị', '58', 'mà_còn', 'N.T.D', 'Nhã_Phương', 'Nguyễn_Hữu_Dũng', 'túi_mật', 'thoáng', 'm', '19/4', '238', '25/7', 'năm', 'Như', 'đổ', 'kẽ', '436', 'Dũng_Tiến', 'Nam_Hải', '186', 'Hội', 'lưu_lượng', 'tư_thế', 'Bình_Xuyên', 'đám_cưới', 'sơ_tán', '?', 'nồng_độ', '22/5', '372', 'bắt_nguồn', 'Chiến_Củ_Chi', '7/1', 'H.Bình', '672,722', 'Úc', 'cực_kỳ', 'thứ_trưởng', '17h30', 'Hóc_Môn', 'đi', 'Gia_Khánh', 'cảm_nhận', 'Khoa_Thận', 'Thạnh_Phú', 'Thanh_Cường', 'sắp', 'dân_tình', 'Patrick', 'N.H.C.', 'Phước_Nguyên', 'thuốc_men', 'CGH', 'lĩnh_vực', 'BB', 'Hokkaido_Lotus', 'những_ai', 'An_Hoà', 'trở', 'vĩnh_viễn', '900', 'thở_dốc', ';', 'mình', '14/8', 'nguyện_vọng', 'liên', 'Chưa', 'Nại_Nam', '808', 'song', 'Experimental_Medicine', 'H.A.', 'nghĩ', 'tuyệt_vời', 'học', 'rửa', 'biểu', 'Gắng_sức', 'phòng', 'Hồ_Thị_Cẩm', '2.291', '779', 'Luna_Diamond', 'ruột_non', 'dồn', 'thiết_bị', 'chuyến', '448', 'thức_ăn', 'Làng', '&', 'sớm', 'taxi', 'Khâm_Đức', 'khu_trú', 'QH1524', '254', 'nguyện', 'đúng', 'xúc', '885', 'các', 'bùng_phát', 'Hoà_Xuân', 'Hoằng_Hoá', 'bán_hoa', 'hội_chứng', 'Tân_Hồng', 'Vận_chuyển', 'xiên', 'Phú', 'Czech', 'For', 'Trần_Thế', 'tình_huống', '17A', 'Nhật_Báo', 'L.T.Y.L', 'Dương_Văn', 'bệnh_lý', 'Cảng', 'Kha', '641', '394', 'Lympho', 'Lô_D', 'Xe', 'BN1030', '70%', '4/6', 'Lai', '264', 'VN194', 'nhiệt', '98', 'Linh_Đàm', 'mới', 'rung', 'du_khách', 'Thầy', 'An_Hải_Tây', '368', 'lan_truyền', 'xa_xôi', 'Vấp', 'Nguyễn_Thành_Trung', 'Nguyễn_Thanh_Xuân', 'tự_do', 'khách_hàng', 'An', 'Tiệp', 'Sam_Grand_Hotel', '22C', '74.000', 'đàm', '585', 'rủ', 'nội_ô', 'bố_mẹ', '233', 'Singapore', 'Tăng_Chí_Thượng', 'sao', 'bệnh_xá', '11/4', 'rong', '1060', 'kép', 'đau', 'Ngoại_Chấn', '19/8', 'tính_toán', 'Vương_Đình_Huệ', '387', 'SE7', 'lái', 'triệt_để', '521', '1/50', 'chở', 'Vĩnh_Châu', '155', 'thẻ', 'Nguyễn_Huy_Tự', 'tích_tụ', 'N.T.V', 'Cụ_thể', 'đa_dạng', 'Tôn_Thất_Thạnh', 'tham_chiếu', 'Là', 'BN221', 'phồng', 'Daenam', '5k', 'đường_dây_nóng', 'người_thân', '1038', '680', 'đồng_chí', 'thăm', '93%', 'Chúng_tôi', 'dị_ứng', 'VN341', 'N.M.Đ.', 'Báo', 'nhà_nghiên_cứu', 'sư_cô', 'Vài', '545', 'lây_nhiễm', '18/7', 'buôn_bán', '31', 'nhiễm_trùng', '844', 'Hệ_thống', 'Huỳnh_Thúc_Kháng', '6%', 'hầu_như', 'tiền', 'khuôn', 'Quế_Trung', 'Hoà_Phước', 'mệt', 'Nông_Sơn', '38,2', 'nó', 'dai_dẳng', '0,5', 'Phú_Bình', 'chỉ_điểm', 'Danavi_Mart', 'Mỗi', 'N.N.C.', 'thật_tình', 'gas', '5h45', 'cổ_truyền', 'tài_xế', 'Gio_Linh', 'Không', '921', 'Nguyễn_Trọng_Khoa', '20h15', 'Đoàn_Văn_Trọng', 'tháng', 'hạn', 'cháo', 'Y_khoa', 'Bình_Trị_Đông_B', 'khí_quản', 'khung', '14%', 'toàn_bộ_đội_ngũ', 'dừng', '147', 'ENDPAD']\n",
            "8102\n"
          ]
        }
      ],
      "source": [
        "print(words)\n",
        "print(num_words)"
      ]
    },
    {
      "cell_type": "code",
      "execution_count": null,
      "metadata": {
        "id": "Ui3Lf5jqBiQc"
      },
      "outputs": [],
      "source": [
        "tags = []\n",
        "for i in sentences_corpus:\n",
        "    for sent in i:\n",
        "        for tag in sent:\n",
        "            tags.append(tag[1])\n",
        "tags = list(set(tags))\n",
        "num_tags = len(tags)"
      ]
    },
    {
      "cell_type": "code",
      "execution_count": null,
      "metadata": {
        "id": "Op3PmZoqBnO9",
        "colab": {
          "base_uri": "https://localhost:8080/"
        },
        "outputId": "3d87cfc7-8487-4b96-ce11-00a1bd4d5f3a"
      },
      "outputs": [
        {
          "output_type": "stream",
          "name": "stdout",
          "text": [
            "['B-ORGANIZATION', 'O-ORGANIZATION', 'B-LOCATION', 'B-AGE', 'B-SYMPTOM_AND_DISEASE', 'I-JOB', 'O', 'I-SYMPTOM_AND_DISEASE', 'I-TRANSPORTATION', 'B-TRANSPORTATION', 'I-NAME', 'I-PATIENT_ID', 'B-JOB', 'I-ORGANIZATION', 'B-NAME', 'I-AGE', 'I-LOCATION', 'I-DATE', 'B-PATIENT_ID', 'B-GENDER', 'B-DATE']\n",
            "21\n"
          ]
        }
      ],
      "source": [
        "print(tags)\n",
        "print(num_tags)"
      ]
    },
    {
      "cell_type": "code",
      "source": [
        "sentences_corpus"
      ],
      "metadata": {
        "id": "GN4RPnHG3eBu"
      },
      "execution_count": null,
      "outputs": []
    },
    {
      "cell_type": "markdown",
      "metadata": {
        "id": "b7k4m8dkwN4c"
      },
      "source": [
        "# 3. Tiền xử lý "
      ]
    },
    {
      "cell_type": "markdown",
      "metadata": {
        "id": "LS6AgjAQ7gVM"
      },
      "source": [
        "#### Ánh xạ giữa các câu và chỉ mục"
      ]
    },
    {
      "cell_type": "code",
      "execution_count": null,
      "metadata": {
        "id": "r2ZigsHYBql9"
      },
      "outputs": [],
      "source": [
        "word2idx = {w: i + 1 for i, w in enumerate(words)}\n",
        "tag2idx = {t: i for i, t in enumerate(tags)}"
      ]
    },
    {
      "cell_type": "code",
      "execution_count": null,
      "metadata": {
        "colab": {
          "base_uri": "https://localhost:8080/"
        },
        "id": "f9xixjx3BuLJ",
        "outputId": "96911dfe-da89-45e8-807b-3beefe674711"
      },
      "outputs": [
        {
          "output_type": "execute_result",
          "data": {
            "text/plain": [
              "{'B-AGE': 0,\n",
              " 'B-DATE': 13,\n",
              " 'B-GENDER': 14,\n",
              " 'B-JOB': 15,\n",
              " 'B-LOCATION': 6,\n",
              " 'B-NAME': 12,\n",
              " 'B-ORGANIZATION': 16,\n",
              " 'B-PATIENT_ID': 8,\n",
              " 'B-SYMPTOM_AND_DISEASE': 7,\n",
              " 'B-TRANSPORTATION': 11,\n",
              " 'I-AGE': 19,\n",
              " 'I-DATE': 1,\n",
              " 'I-JOB': 17,\n",
              " 'I-LOCATION': 18,\n",
              " 'I-NAME': 3,\n",
              " 'I-ORGANIZATION': 5,\n",
              " 'I-PATIENT_ID': 9,\n",
              " 'I-SYMPTOM_AND_DISEASE': 10,\n",
              " 'I-TRANSPORTATION': 2,\n",
              " 'O': 20,\n",
              " 'O-ORGANIZATION': 4}"
            ]
          },
          "metadata": {},
          "execution_count": 11
        }
      ],
      "source": [
        "tag2idx"
      ]
    },
    {
      "cell_type": "markdown",
      "metadata": {
        "id": "qfW_-2_IwcjL"
      },
      "source": [
        "#### Padding  đầu vào.\n",
        "Trong trục X, có thể thấy độ dài an toàn của câu là khoảng 50."
      ]
    },
    {
      "cell_type": "code",
      "execution_count": null,
      "metadata": {
        "colab": {
          "base_uri": "https://localhost:8080/"
        },
        "id": "RGbkLb4PB1D_",
        "outputId": "d07fd8a6-ce79-45fc-ef1a-401574e02dde"
      },
      "outputs": [
        {
          "output_type": "display_data",
          "data": {
            "image/png": "[encoded data removed]",
            "text/plain": [
              "<Figure size 432x288 with 1 Axes>"
            ]
          },
          "metadata": {}
        }
      ],
      "source": [
        "plt.hist([len(s) for s in sentences_train+sentences_dev+sentences_test], bins=50)\n",
        "plt.xlabel(\"length of sentence\")\n",
        "plt.ylabel('number of sentence')\n",
        "plt.show()"
      ]
    },
    {
      "cell_type": "markdown",
      "metadata": {
        "id": "P1DHv-7Rwhmy"
      },
      "source": [
        "- Sử dụng hàm pad_sequence() cho padding\n",
        "- X sẽ là một đại diện bằng số cho các từ. (sử dụng word2idx)\n",
        "- ‘Post’ chỉ là một giá trị của đối số đệm ở cuối câu.\n",
        "- X,y là vector"
      ]
    },
    {
      "cell_type": "code",
      "execution_count": null,
      "metadata": {
        "id": "vCvTXeK9B20C"
      },
      "outputs": [],
      "source": [
        "from tensorflow.keras.preprocessing.sequence import pad_sequences\n",
        "max_len = 95\n",
        "X_train = [[word2idx[w[0]] for w in s] for s in sentences_train]\n",
        "X_train = pad_sequences(maxlen=max_len, sequences=X_train, padding=\"post\", value=num_words-1)\n",
        "X_dev = [[word2idx[w[0]] for w in s] for s in sentences_dev]\n",
        "X_dev = pad_sequences(maxlen=max_len, sequences=X_dev, padding=\"post\", value=num_words-1)\n",
        "X_test = [[word2idx[w[0]] for w in s] for s in sentences_test]\n",
        "X_test = pad_sequences(maxlen=max_len, sequences=X_test, padding=\"post\", value=num_words-1)\n",
        "\n",
        "y_train = [[tag2idx[w[1]] for w in s] for s in sentences_train]\n",
        "y_train = pad_sequences(maxlen=max_len, sequences=y_train, padding=\"post\", value=tag2idx[\"O\"])\n",
        "y_dev = [[tag2idx[w[1]] for w in s] for s in sentences_dev]\n",
        "y_dev = pad_sequences(maxlen=max_len, sequences=y_dev, padding=\"post\", value=tag2idx[\"O\"])\n",
        "y_test = [[tag2idx[w[1]] for w in s] for s in sentences_test]\n",
        "y_test = pad_sequences(maxlen=max_len, sequences=y_test, padding=\"post\", value=tag2idx[\"O\"])"
      ]
    },
    {
      "cell_type": "code",
      "execution_count": null,
      "metadata": {
        "colab": {
          "base_uri": "https://localhost:8080/"
        },
        "id": "KiaQGFGKEEDu",
        "outputId": "c79e6210-a348-48a7-a6c8-6037da20137a"
      },
      "outputs": [
        {
          "output_type": "execute_result",
          "data": {
            "text/plain": [
              "8102"
            ]
          },
          "metadata": {},
          "execution_count": 14
        }
      ],
      "source": [
        "word2idx[\"ENDPAD\"]"
      ]
    },
    {
      "cell_type": "code",
      "execution_count": null,
      "metadata": {
        "colab": {
          "base_uri": "https://localhost:8080/"
        },
        "id": "qGtEsYUf_-WB",
        "outputId": "d310bbdb-874a-41c0-e038-00386ac55e2a"
      },
      "outputs": [
        {
          "output_type": "stream",
          "name": "stdout",
          "text": [
            "[5670 4436 1938 2084 1501 2297 2218 1030 7330 6272 4272 5516 7142  756\n",
            " 2377 5027 5868 3232 8101 8101 8101 8101 8101 8101 8101 8101 8101 8101\n",
            " 8101 8101 8101 8101 8101 8101 8101 8101 8101 8101 8101 8101 8101 8101\n",
            " 8101 8101 8101 8101 8101 8101 8101 8101 8101 8101 8101 8101 8101 8101\n",
            " 8101 8101 8101 8101 8101 8101 8101 8101 8101 8101 8101 8101 8101 8101\n",
            " 8101 8101 8101 8101 8101 8101 8101 8101 8101 8101 8101 8101 8101 8101\n",
            " 8101 8101 8101 8101 8101 8101 8101 8101 8101 8101 8101]\n",
            "[20 20 20 20 20 20 20 20 20 20 20 20 20 20 20 16  5 20 20 20 20 20 20 20\n",
            " 20 20 20 20 20 20 20 20 20 20 20 20 20 20 20 20 20 20 20 20 20 20 20 20\n",
            " 20 20 20 20 20 20 20 20 20 20 20 20 20 20 20 20 20 20 20 20 20 20 20 20\n",
            " 20 20 20 20 20 20 20 20 20 20 20 20 20 20 20 20 20 20 20 20 20 20 20]\n"
          ]
        }
      ],
      "source": [
        "print(X_train[0])\n",
        "print(y_train[0])"
      ]
    },
    {
      "cell_type": "markdown",
      "metadata": {
        "id": "u8C_aEa_kxmW"
      },
      "source": [
        "# 4. Hai lớp BiLSTM"
      ]
    },
    {
      "cell_type": "markdown",
      "metadata": {
        "id": "O4XWuZBkk3CJ"
      },
      "source": [
        "### 4.1. Xây dựng mô hình"
      ]
    },
    {
      "cell_type": "code",
      "execution_count": null,
      "metadata": {
        "colab": {
          "base_uri": "https://localhost:8080/"
        },
        "id": "5TEZO9urk-WR",
        "outputId": "2e927e2e-bb31-4f6d-d1f1-731c5ea76fb9"
      },
      "outputs": [
        {
          "output_type": "stream",
          "name": "stdout",
          "text": [
            "WARNING:tensorflow:Layer lstm will not use cuDNN kernels since it doesn't meet the criteria. It will use a generic GPU kernel as fallback when running on GPU.\n",
            "WARNING:tensorflow:Layer lstm will not use cuDNN kernels since it doesn't meet the criteria. It will use a generic GPU kernel as fallback when running on GPU.\n",
            "WARNING:tensorflow:Layer lstm will not use cuDNN kernels since it doesn't meet the criteria. It will use a generic GPU kernel as fallback when running on GPU.\n",
            "WARNING:tensorflow:Layer lstm_1 will not use cuDNN kernels since it doesn't meet the criteria. It will use a generic GPU kernel as fallback when running on GPU.\n",
            "WARNING:tensorflow:Layer lstm_1 will not use cuDNN kernels since it doesn't meet the criteria. It will use a generic GPU kernel as fallback when running on GPU.\n",
            "WARNING:tensorflow:Layer lstm_1 will not use cuDNN kernels since it doesn't meet the criteria. It will use a generic GPU kernel as fallback when running on GPU.\n",
            "Model: \"model\"\n",
            "_________________________________________________________________\n",
            " Layer (type)                Output Shape              Param #   \n",
            "=================================================================\n",
            " input_1 (InputLayer)        [(None, 95)]              0         \n",
            "                                                                 \n",
            " embedding (Embedding)       (None, 95, 70)            567280    \n",
            "                                                                 \n",
            " spatial_dropout1d (SpatialD  (None, 95, 70)           0         \n",
            " ropout1D)                                                       \n",
            "                                                                 \n",
            " bidirectional (Bidirectiona  (None, 95, 1024)         2387968   \n",
            " l)                                                              \n",
            "                                                                 \n",
            " bidirectional_1 (Bidirectio  (None, 95, 1024)         6295552   \n",
            " nal)                                                            \n",
            "                                                                 \n",
            " time_distributed (TimeDistr  (None, 95, 21)           21525     \n",
            " ibuted)                                                         \n",
            "                                                                 \n",
            "=================================================================\n",
            "Total params: 9,272,325\n",
            "Trainable params: 9,272,325\n",
            "Non-trainable params: 0\n",
            "_________________________________________________________________\n"
          ]
        }
      ],
      "source": [
        "from tensorflow.keras import Model, Input\n",
        "from tensorflow.keras.layers import LSTM, Embedding, Dense\n",
        "from tensorflow.keras.layers import TimeDistributed, SpatialDropout1D, Bidirectional\n",
        "from tensorflow.keras.optimizers import Adam\n",
        "from tensorflow.keras.losses import CategoricalCrossentropy \n",
        "\n",
        "input_word = Input(shape=(max_len,))\n",
        "model = Embedding(input_dim=num_words + 2, output_dim=70, input_length=max_len)(input_word)\n",
        "model = SpatialDropout1D(0.1)(model)\n",
        "model = Bidirectional(LSTM(units=512, return_sequences=True, recurrent_dropout=0.1))(model)\n",
        "model = Bidirectional(LSTM(units=512, return_sequences=True, recurrent_dropout=0.1))(model)\n",
        "\n",
        "out = TimeDistributed(Dense(num_tags, activation=\"softmax\"))(model)\n",
        "\n",
        "model = Model(input_word, out)\n",
        "model.summary()"
      ]
    },
    {
      "cell_type": "code",
      "execution_count": null,
      "metadata": {
        "id": "teM9sO5LlVYu"
      },
      "outputs": [],
      "source": [
        "model.compile(optimizer= \"adam\",\n",
        "              loss=\"sparse_categorical_crossentropy\",\n",
        "              metrics=[\"acc\"])"
      ]
    },
    {
      "cell_type": "markdown",
      "metadata": {
        "id": "RTIrB2E7mTiM"
      },
      "source": [
        "### 4.2. Huấn luyện mô hình"
      ]
    },
    {
      "cell_type": "code",
      "execution_count": null,
      "metadata": {
        "colab": {
          "base_uri": "https://localhost:8080/"
        },
        "id": "rdmwZ2TbmV9o",
        "outputId": "2ec33b89-ba96-42ae-f3ec-6e3548c99fdb"
      },
      "outputs": [
        {
          "output_type": "stream",
          "name": "stdout",
          "text": [
            "Epoch 1/20\n",
            "36/36 [==============================] - 100s 3s/step - loss: 0.5774 - acc: 0.9148 - val_loss: 0.2648 - val_acc: 0.9450\n",
            "Epoch 2/20\n",
            "36/36 [==============================] - 90s 2s/step - loss: 0.2640 - acc: 0.9418 - val_loss: 0.2296 - val_acc: 0.9459\n",
            "Epoch 3/20\n",
            "36/36 [==============================] - 90s 3s/step - loss: 0.2228 - acc: 0.9457 - val_loss: 0.1874 - val_acc: 0.9512\n",
            "Epoch 4/20\n",
            "36/36 [==============================] - 90s 2s/step - loss: 0.1806 - acc: 0.9518 - val_loss: 0.1414 - val_acc: 0.9604\n",
            "Epoch 5/20\n",
            "36/36 [==============================] - 89s 2s/step - loss: 0.1189 - acc: 0.9652 - val_loss: 0.0994 - val_acc: 0.9729\n",
            "Epoch 6/20\n",
            "36/36 [==============================] - 89s 2s/step - loss: 0.0817 - acc: 0.9769 - val_loss: 0.0747 - val_acc: 0.9813\n",
            "Epoch 7/20\n",
            "36/36 [==============================] - 89s 2s/step - loss: 0.0622 - acc: 0.9832 - val_loss: 0.0681 - val_acc: 0.9831\n",
            "Epoch 8/20\n",
            "36/36 [==============================] - 89s 2s/step - loss: 0.0487 - acc: 0.9870 - val_loss: 0.0559 - val_acc: 0.9864\n",
            "Epoch 9/20\n",
            "36/36 [==============================] - 90s 2s/step - loss: 0.0395 - acc: 0.9896 - val_loss: 0.0533 - val_acc: 0.9873\n",
            "Epoch 10/20\n",
            "36/36 [==============================] - 89s 2s/step - loss: 0.0322 - acc: 0.9915 - val_loss: 0.0489 - val_acc: 0.9883\n",
            "Epoch 11/20\n",
            "36/36 [==============================] - 90s 2s/step - loss: 0.0263 - acc: 0.9930 - val_loss: 0.0496 - val_acc: 0.9887\n",
            "Epoch 12/20\n",
            "36/36 [==============================] - 90s 2s/step - loss: 0.0231 - acc: 0.9938 - val_loss: 0.0463 - val_acc: 0.9892\n",
            "Epoch 13/20\n",
            "36/36 [==============================] - 89s 2s/step - loss: 0.0202 - acc: 0.9945 - val_loss: 0.0432 - val_acc: 0.9898\n",
            "Epoch 14/20\n",
            "36/36 [==============================] - 89s 2s/step - loss: 0.0169 - acc: 0.9953 - val_loss: 0.0417 - val_acc: 0.9908\n",
            "Epoch 15/20\n",
            "36/36 [==============================] - 90s 2s/step - loss: 0.0155 - acc: 0.9957 - val_loss: 0.0400 - val_acc: 0.9908\n",
            "Epoch 16/20\n",
            "36/36 [==============================] - 89s 2s/step - loss: 0.0134 - acc: 0.9963 - val_loss: 0.0413 - val_acc: 0.9906\n",
            "Epoch 17/20\n",
            "36/36 [==============================] - 89s 2s/step - loss: 0.0115 - acc: 0.9968 - val_loss: 0.0434 - val_acc: 0.9907\n",
            "Epoch 18/20\n",
            "36/36 [==============================] - 89s 2s/step - loss: 0.0112 - acc: 0.9969 - val_loss: 0.0412 - val_acc: 0.9909\n",
            "Epoch 19/20\n",
            "36/36 [==============================] - 89s 2s/step - loss: 0.0093 - acc: 0.9974 - val_loss: 0.0415 - val_acc: 0.9913\n",
            "Epoch 20/20\n",
            "36/36 [==============================] - 89s 2s/step - loss: 0.0085 - acc: 0.9977 - val_loss: 0.0413 - val_acc: 0.9914\n"
          ]
        }
      ],
      "source": [
        "history = model.fit(X_train, y_train,  batch_size=128, epochs=20,  validation_split=0.1)"
      ]
    },
    {
      "cell_type": "markdown",
      "metadata": {
        "id": "60SN_Ld1sGm8"
      },
      "source": [
        "### 4.3. Đánh giá mô hình"
      ]
    },
    {
      "cell_type": "code",
      "execution_count": null,
      "metadata": {
        "colab": {
          "base_uri": "https://localhost:8080/"
        },
        "id": "BoTd11EIsJ59",
        "outputId": "153e00c5-0bfd-477a-e8bb-d7451ed34c8b"
      },
      "outputs": [
        {
          "output_type": "stream",
          "name": "stdout",
          "text": [
            "24/24 [==============================] - 14s 597ms/step - loss: 0.1041 - acc: 0.9828\n"
          ]
        }
      ],
      "source": [
        "score_test = model.evaluate(X_test, y_test, batch_size = 128, verbose = 1)"
      ]
    },
    {
      "cell_type": "code",
      "execution_count": null,
      "metadata": {
        "colab": {
          "base_uri": "https://localhost:8080/"
        },
        "id": "rNbhH6FLsNN3",
        "outputId": "8a58c116-5eb1-4e19-a2d3-f081fd797bc8"
      },
      "outputs": [
        {
          "output_type": "stream",
          "name": "stdout",
          "text": [
            "[5931 3549 1842 7160  126 8059 7881 4138 7229 3229 5402 1842 5681  339\n",
            " 5258 7189 6844 5258  897 7798 3200 6962 1842 7818 6996 1842 4024 5419\n",
            " 6640 2883   77 7222 8101 8101 8101 8101 8101 8101 8101 8101 8101 8101\n",
            " 8101 8101 8101 8101 8101 8101 8101 8101 8101 8101 8101 8101 8101 8101\n",
            " 8101 8101 8101 8101 8101 8101 8101 8101 8101 8101 8101 8101 8101 8101\n",
            " 8101 8101 8101 8101 8101 8101 8101 8101 8101 8101 8101 8101 8101 8101\n",
            " 8101 8101 8101 8101 8101 8101 8101 8101 8101 8101 8101]\n",
            "Word           True \t Pred\n",
            "\n",
            "------------------------------\n",
            "Theo           O\tO\n",
            "đó             O\tO\n",
            ",              O\tO\n",
            "Sở             B-ORGANIZATION\tB-ORGANIZATION\n",
            "Y_tế           I-ORGANIZATION\tI-ORGANIZATION\n",
            "Bình_Thuận     I-ORGANIZATION\tI-ORGANIZATION\n",
            "cho            O\tO\n",
            "biết           O\tO\n",
            "sau            O\tO\n",
            "khi            O\tO\n",
            "xác_định       O\tO\n",
            "bệnh_nhân      O\tO\n",
            "số             O\tO\n",
            "34             B-PATIENT_ID\tB-PATIENT_ID\n",
            "(              O\tO\n",
            "nữ_giới        B-GENDER\tO\n",
            "51             B-AGE\tB-AGE\n",
            "tuổi           O\tO\n",
            ",              O\tO\n",
            "từ             O\tO\n",
            "Mỹ             B-LOCATION\tB-LOCATION\n",
            "về             O\tO\n",
            "Việt_Nam       B-LOCATION\tB-LOCATION\n",
            "ngày           O\tO\n",
            "29             B-DATE\tB-DATE\n",
            "-              I-DATE\tI-DATE\n",
            "2              I-DATE\tI-DATE\n",
            "có             O\tO\n",
            "quá_cảnh       O\tO\n",
            "Qatar          B-LOCATION\tB-LOCATION\n",
            ")              O\tO\n",
            ",              O\tO\n",
            "Trung_tâm      B-ORGANIZATION\tB-ORGANIZATION\n",
            "Kiểm_soát      I-ORGANIZATION\tI-ORGANIZATION\n",
            "bệnh_tật       I-ORGANIZATION\tI-ORGANIZATION\n",
            "Bình_Thuận     I-ORGANIZATION\tI-ORGANIZATION\n",
            "đã             O\tO\n",
            "điều_tra       O\tO\n",
            "dịch_tễ        O\tO\n",
            ",              O\tO\n",
            "khoanh         O\tO\n",
            "vùng           O\tO\n",
            ",              O\tO\n",
            "khử            O\tO\n",
            "khuẩn          O\tO\n",
            ",              O\tO\n",
            "tiến_hành      O\tO\n",
            "cách_ly        O\tO\n",
            "người          O\tO\n",
            "liên_quan      O\tO\n",
            "đến            O\tO\n",
            "ca             O\tO\n",
            "bệnh           O\tO\n",
            "số             O\tO\n",
            "34             B-PATIENT_ID\tB-PATIENT_ID\n",
            ".              O\tO\n",
            "CA             O\tO\n",
            "CA             O\tO\n",
            "CA             O\tO\n",
            "CA             O\tO\n",
            "CA             O\tO\n",
            "CA             O\tO\n",
            "CA             O\tO\n",
            "CA             O\tO\n",
            "CA             O\tO\n",
            "CA             O\tO\n",
            "CA             O\tO\n",
            "CA             O\tO\n",
            "CA             O\tO\n",
            "CA             O\tO\n",
            "CA             O\tO\n",
            "CA             O\tO\n",
            "CA             O\tO\n",
            "CA             O\tO\n",
            "CA             O\tO\n",
            "CA             O\tO\n",
            "CA             O\tO\n",
            "CA             O\tO\n",
            "CA             O\tO\n",
            "CA             O\tO\n",
            "CA             O\tO\n",
            "CA             O\tO\n",
            "CA             O\tO\n",
            "CA             O\tO\n",
            "CA             O\tO\n",
            "CA             O\tO\n",
            "CA             O\tO\n",
            "CA             O\tO\n",
            "CA             O\tO\n",
            "CA             O\tO\n",
            "CA             O\tO\n",
            "CA             O\tO\n",
            "CA             O\tO\n",
            "CA             O\tO\n",
            "CA             O\tO\n"
          ]
        }
      ],
      "source": [
        "# i = np.random.randint(0, x_test.shape[0]) #659\n",
        "print(X_test[1])\n",
        "i = 2\n",
        "p = model.predict(np.array([X_test[i]]))\n",
        "p = np.argmax(p, axis=-1)\n",
        "y_true = y_test[i]\n",
        "print(\"{:15}{:5}\\t {}\\n\".format(\"Word\", \"True\", \"Pred\"))\n",
        "print(\"-\" *30)\n",
        "for w, true, pred in zip(X_test[i], y_true, p[0]):\n",
        "    print(\"{:15}{}\\t{}\".format(words[w-1], tags[true], tags[pred]))"
      ]
    },
    {
      "cell_type": "code",
      "execution_count": null,
      "metadata": {
        "id": "7TBnTY6GsSC0"
      },
      "outputs": [],
      "source": [
        "y_pred = model.predict(X_test)\n",
        "\n",
        "y_pred_argmax = np.argmax(y_pred, axis=2)\n",
        "y_pred_argmax_flattened = y_pred_argmax.ravel()\n",
        "y_test_flattened = y_test.ravel()\n"
      ]
    },
    {
      "cell_type": "code",
      "execution_count": null,
      "metadata": {
        "colab": {
          "base_uri": "https://localhost:8080/"
        },
        "id": "UUGHPsrXsWpN",
        "outputId": "34cd720b-98ee-4e05-ba8e-c1dfa6c4c710"
      },
      "outputs": [
        {
          "output_type": "stream",
          "name": "stdout",
          "text": [
            "F1_score (macro):  63.629833878478145\n",
            "F1_score (micro):  98.27881934092146\n",
            "Accuracy:  98.27881934092146\n"
          ]
        }
      ],
      "source": [
        "#Đánh giá mô hình theo độ đo F1-score và Accuracy (micro và macro)\n",
        "from sklearn.metrics import f1_score, accuracy_score, confusion_matrix, classification_report\n",
        "\n",
        "print('F1_score (macro): ', f1_score(y_test_flattened, y_pred_argmax_flattened, average='macro')*100)\n",
        "print('F1_score (micro): ', f1_score(y_test_flattened, y_pred_argmax_flattened, average='micro')*100)\n",
        "print('Accuracy: ', accuracy_score(y_test_flattened, y_pred_argmax_flattened)*100)\n"
      ]
    },
    {
      "cell_type": "code",
      "source": [
        "#đồ thị học của mô hình với thông số accuracy\n",
        "import matplotlib.pyplot as plt\n",
        "plt.plot(history.history['acc'])\n",
        "plt.plot(history.history['val_acc'])\n",
        "plt.title('model accuracy')\n",
        "plt.ylabel('accuracy')\n",
        "plt.xlabel('epoch')\n",
        "plt.legend(['train', 'test'], loc='upper left')\n",
        "plt.show()"
      ],
      "metadata": {
        "colab": {
          "base_uri": "https://localhost:8080/",
          "height": 299
        },
        "id": "fDQ1U-tqqnaa",
        "outputId": "e5021125-c4d5-4106-c664-c04812e0fae4"
      },
      "execution_count": null,
      "outputs": [
        {
          "output_type": "display_data",
          "data": {
            "image/png": "[encoded data removed]",
            "text/plain": [
              "<Figure size 432x288 with 1 Axes>"
            ]
          },
          "metadata": {}
        }
      ]
    },
    {
      "cell_type": "code",
      "source": [
        "#đồ thị học của mô hình với thông số loss\n",
        "plt.plot(history.history['loss'])\n",
        "plt.plot(history.history['val_loss'])\n",
        "plt.title('model loss')\n",
        "plt.ylabel('loss')\n",
        "plt.xlabel('epoch')\n",
        "plt.legend(['train', 'test'], loc='upper left')\n",
        "plt.show()"
      ],
      "metadata": {
        "colab": {
          "base_uri": "https://localhost:8080/",
          "height": 299
        },
        "id": "xgA1lGh4q30_",
        "outputId": "314c6c20-7b72-4814-af3b-fc5169fb3813"
      },
      "execution_count": null,
      "outputs": [
        {
          "output_type": "display_data",
          "data": {
            "image/png": "[encoded data removed]",
            "text/plain": [
              "<Figure size 432x288 with 1 Axes>"
            ]
          },
          "metadata": {}
        }
      ]
    },
    {
      "cell_type": "code",
      "execution_count": null,
      "metadata": {
        "colab": {
          "base_uri": "https://localhost:8080/"
        },
        "id": "VSLGOe-bRR4r",
        "outputId": "15e15e35-6b7b-4ded-ae75-246689f06195"
      },
      "outputs": [
        {
          "output_type": "stream",
          "name": "stderr",
          "text": [
            "/usr/local/lib/python3.7/dist-packages/sklearn/metrics/_classification.py:1308: UndefinedMetricWarning: Precision and F-score are ill-defined and being set to 0.0 in labels with no predicted samples. Use `zero_division` parameter to control this behavior.\n",
            "  _warn_prf(average, modifier, msg_start, len(result))\n",
            "/usr/local/lib/python3.7/dist-packages/sklearn/metrics/_classification.py:1308: UndefinedMetricWarning: Recall and F-score are ill-defined and being set to 0.0 in labels with no true samples. Use `zero_division` parameter to control this behavior.\n",
            "  _warn_prf(average, modifier, msg_start, len(result))\n",
            "/usr/local/lib/python3.7/dist-packages/sklearn/metrics/_classification.py:1308: UndefinedMetricWarning: Precision and F-score are ill-defined and being set to 0.0 in labels with no predicted samples. Use `zero_division` parameter to control this behavior.\n",
            "  _warn_prf(average, modifier, msg_start, len(result))\n",
            "/usr/local/lib/python3.7/dist-packages/sklearn/metrics/_classification.py:1308: UndefinedMetricWarning: Recall and F-score are ill-defined and being set to 0.0 in labels with no true samples. Use `zero_division` parameter to control this behavior.\n",
            "  _warn_prf(average, modifier, msg_start, len(result))\n"
          ]
        },
        {
          "output_type": "stream",
          "name": "stdout",
          "text": [
            "                       precision    recall  f1-score   support\n",
            "\n",
            "               I-NAME       0.00      0.00      0.00        13\n",
            "         I-PATIENT_ID       0.00      0.00      0.00        27\n",
            "             B-GENDER       0.87      0.85      0.86       452\n",
            "               B-NAME       0.74      0.46      0.56       318\n",
            "               B-DATE       0.96      0.95      0.96      1649\n",
            "                    O       0.99      1.00      0.99    263037\n",
            "       B-ORGANIZATION       0.82      0.77      0.79       771\n",
            "     I-TRANSPORTATION       0.67      0.35      0.46        69\n",
            "           I-LOCATION       0.92      0.79      0.85      4905\n",
            "       O-ORGANIZATION       0.00      0.00      0.00         0\n",
            "           B-LOCATION       0.92      0.84      0.88      4432\n",
            "I-SYMPTOM_AND_DISEASE       0.84      0.69      0.76      1486\n",
            "               I-DATE       0.97      0.98      0.98      1740\n",
            "         B-PATIENT_ID       0.88      0.84      0.86      1988\n",
            "     B-TRANSPORTATION       0.91      0.51      0.65       193\n",
            "B-SYMPTOM_AND_DISEASE       0.83      0.80      0.82      1136\n",
            "                I-JOB       0.30      0.18      0.23       114\n",
            "                B-JOB       0.46      0.30      0.36       172\n",
            "                I-AGE       0.00      0.00      0.00         6\n",
            "                B-AGE       0.88      0.91      0.89       573\n",
            "       I-ORGANIZATION       0.86      0.80      0.83      2014\n",
            "\n",
            "            micro avg       0.98      0.98      0.98    285095\n",
            "            macro avg       0.66      0.57      0.61    285095\n",
            "         weighted avg       0.98      0.98      0.98    285095\n",
            "\n"
          ]
        },
        {
          "output_type": "stream",
          "name": "stderr",
          "text": [
            "/usr/local/lib/python3.7/dist-packages/sklearn/metrics/_classification.py:1308: UndefinedMetricWarning: Precision and F-score are ill-defined and being set to 0.0 in labels with no predicted samples. Use `zero_division` parameter to control this behavior.\n",
            "  _warn_prf(average, modifier, msg_start, len(result))\n",
            "/usr/local/lib/python3.7/dist-packages/sklearn/metrics/_classification.py:1308: UndefinedMetricWarning: Recall and F-score are ill-defined and being set to 0.0 in labels with no true samples. Use `zero_division` parameter to control this behavior.\n",
            "  _warn_prf(average, modifier, msg_start, len(result))\n"
          ]
        }
      ],
      "source": [
        "# Xuất ra kết quả của F1-score và Accuracy cho từng nhãn thực thể.\n",
        "\n",
        "report_2t = classification_report(y_test_flattened, y_pred_argmax_flattened, \n",
        "                               labels = list(tag2idx.values()),\n",
        "                               target_names=list(tag2idx.keys()))\n",
        "print(report_2t)"
      ]
    },
    {
      "cell_type": "markdown",
      "metadata": {
        "id": "a4O7JwbJwsrP"
      },
      "source": [
        "# 5. Mô hình LSTM hai chiều (bi-LSTM)"
      ]
    },
    {
      "cell_type": "markdown",
      "metadata": {
        "id": "ECVkv6RK8xzs"
      },
      "source": [
        "### 5.1. Xây dựng mô hình"
      ]
    },
    {
      "cell_type": "code",
      "execution_count": null,
      "metadata": {
        "colab": {
          "base_uri": "https://localhost:8080/"
        },
        "id": "210dLn8FCAYH",
        "outputId": "9ef21927-6636-4189-a2aa-a3c8295fc37d"
      },
      "outputs": [
        {
          "output_type": "stream",
          "name": "stdout",
          "text": [
            "WARNING:tensorflow:Layer lstm_2 will not use cuDNN kernels since it doesn't meet the criteria. It will use a generic GPU kernel as fallback when running on GPU.\n",
            "WARNING:tensorflow:Layer lstm_2 will not use cuDNN kernels since it doesn't meet the criteria. It will use a generic GPU kernel as fallback when running on GPU.\n",
            "WARNING:tensorflow:Layer lstm_2 will not use cuDNN kernels since it doesn't meet the criteria. It will use a generic GPU kernel as fallback when running on GPU.\n",
            "Model: \"model_1\"\n",
            "_________________________________________________________________\n",
            " Layer (type)                Output Shape              Param #   \n",
            "=================================================================\n",
            " input_2 (InputLayer)        [(None, 95)]              0         \n",
            "                                                                 \n",
            " embedding_1 (Embedding)     (None, 95, 50)            405100    \n",
            "                                                                 \n",
            " spatial_dropout1d_1 (Spatia  (None, 95, 50)           0         \n",
            " lDropout1D)                                                     \n",
            "                                                                 \n",
            " bidirectional_2 (Bidirectio  (None, 95, 1024)         2306048   \n",
            " nal)                                                            \n",
            "                                                                 \n",
            " time_distributed_1 (TimeDis  (None, 95, 21)           21525     \n",
            " tributed)                                                       \n",
            "                                                                 \n",
            "=================================================================\n",
            "Total params: 2,732,673\n",
            "Trainable params: 2,732,673\n",
            "Non-trainable params: 0\n",
            "_________________________________________________________________\n"
          ]
        }
      ],
      "source": [
        "from tensorflow.keras import Model, Input\n",
        "from tensorflow.keras.layers import LSTM, Embedding, Dense\n",
        "from tensorflow.keras.layers import TimeDistributed, SpatialDropout1D, Bidirectional\n",
        "from tensorflow.keras.optimizers import Adam\n",
        "from tensorflow.keras.losses import CategoricalCrossentropy \n",
        "from keras.initializers import Constant\n",
        "\n",
        "\n",
        "input_word = Input(shape=(max_len,))\n",
        "model = Embedding(input_dim=num_words,\n",
        "                    output_dim=embedding_dim,\n",
        "                    embeddings_initializer=Constant(embedding_matrix),\n",
        "                    input_length=max_len,\n",
        "                    trainable=True)(input_word)\n",
        "model = SpatialDropout1D(0.1)(model)\n",
        "model = Bidirectional(LSTM(units=512, return_sequences=True, recurrent_dropout=0.1))(model)\n",
        "out = TimeDistributed(Dense(num_tags, activation=\"softmax\"))(model)\n",
        "model = Model(input_word, out)\n",
        "model.summary()\n"
      ]
    },
    {
      "cell_type": "code",
      "execution_count": null,
      "metadata": {
        "id": "wXzo2s4TCOka"
      },
      "outputs": [],
      "source": [
        "model.compile(optimizer=\"adam\",\n",
        "              loss=\"sparse_categorical_crossentropy\",\n",
        "              metrics=[\"acc\"])"
      ]
    },
    {
      "cell_type": "markdown",
      "metadata": {
        "id": "wKPfUVk-w6Xj"
      },
      "source": [
        "### 5.2.  Huấn luyện mô hình"
      ]
    },
    {
      "cell_type": "code",
      "execution_count": null,
      "metadata": {
        "colab": {
          "base_uri": "https://localhost:8080/"
        },
        "id": "VRSIeZ5zCPlY",
        "outputId": "ad9b0039-1c9b-471f-b9b0-33026259d157"
      },
      "outputs": [
        {
          "output_type": "stream",
          "name": "stdout",
          "text": [
            "Epoch 1/20\n",
            "36/36 [==============================] - 47s 1s/step - loss: 0.3994 - acc: 0.9123 - val_loss: 0.2372 - val_acc: 0.9450\n",
            "Epoch 2/20\n",
            "36/36 [==============================] - 41s 1s/step - loss: 0.2170 - acc: 0.9443 - val_loss: 0.1723 - val_acc: 0.9531\n",
            "Epoch 3/20\n",
            "36/36 [==============================] - 41s 1s/step - loss: 0.1528 - acc: 0.9596 - val_loss: 0.1191 - val_acc: 0.9685\n",
            "Epoch 4/20\n",
            "36/36 [==============================] - 40s 1s/step - loss: 0.1114 - acc: 0.9703 - val_loss: 0.0911 - val_acc: 0.9745\n",
            "Epoch 5/20\n",
            "36/36 [==============================] - 40s 1s/step - loss: 0.0874 - acc: 0.9761 - val_loss: 0.0726 - val_acc: 0.9793\n",
            "Epoch 6/20\n",
            "36/36 [==============================] - 41s 1s/step - loss: 0.0719 - acc: 0.9801 - val_loss: 0.0611 - val_acc: 0.9834\n",
            "Epoch 7/20\n",
            "36/36 [==============================] - 40s 1s/step - loss: 0.0622 - acc: 0.9825 - val_loss: 0.0551 - val_acc: 0.9855\n",
            "Epoch 8/20\n",
            "36/36 [==============================] - 40s 1s/step - loss: 0.0534 - acc: 0.9849 - val_loss: 0.0482 - val_acc: 0.9866\n",
            "Epoch 9/20\n",
            "36/36 [==============================] - 40s 1s/step - loss: 0.0472 - acc: 0.9865 - val_loss: 0.0439 - val_acc: 0.9877\n",
            "Epoch 10/20\n",
            "36/36 [==============================] - 40s 1s/step - loss: 0.0423 - acc: 0.9878 - val_loss: 0.0399 - val_acc: 0.9882\n",
            "Epoch 11/20\n",
            "36/36 [==============================] - 40s 1s/step - loss: 0.0375 - acc: 0.9891 - val_loss: 0.0372 - val_acc: 0.9894\n",
            "Epoch 12/20\n",
            "36/36 [==============================] - 40s 1s/step - loss: 0.0336 - acc: 0.9902 - val_loss: 0.0346 - val_acc: 0.9901\n",
            "Epoch 13/20\n",
            "36/36 [==============================] - 40s 1s/step - loss: 0.0307 - acc: 0.9907 - val_loss: 0.0336 - val_acc: 0.9901\n",
            "Epoch 14/20\n",
            "36/36 [==============================] - 40s 1s/step - loss: 0.0278 - acc: 0.9917 - val_loss: 0.0323 - val_acc: 0.9909\n",
            "Epoch 15/20\n",
            "36/36 [==============================] - 40s 1s/step - loss: 0.0247 - acc: 0.9928 - val_loss: 0.0316 - val_acc: 0.9910\n",
            "Epoch 16/20\n",
            "36/36 [==============================] - 40s 1s/step - loss: 0.0231 - acc: 0.9932 - val_loss: 0.0333 - val_acc: 0.9903\n",
            "Epoch 17/20\n",
            "36/36 [==============================] - 40s 1s/step - loss: 0.0210 - acc: 0.9937 - val_loss: 0.0291 - val_acc: 0.9919\n",
            "Epoch 18/20\n",
            "36/36 [==============================] - 41s 1s/step - loss: 0.0188 - acc: 0.9945 - val_loss: 0.0295 - val_acc: 0.9916\n",
            "Epoch 19/20\n",
            "36/36 [==============================] - 40s 1s/step - loss: 0.0172 - acc: 0.9949 - val_loss: 0.0281 - val_acc: 0.9915\n",
            "Epoch 20/20\n",
            "36/36 [==============================] - 40s 1s/step - loss: 0.0155 - acc: 0.9954 - val_loss: 0.0275 - val_acc: 0.9922\n"
          ]
        }
      ],
      "source": [
        "import time\n",
        "start_time = time.time()\n",
        "\n",
        "history = model.fit(\n",
        "    x=X_train,\n",
        "    y=y_train,\n",
        "    validation_data=(X_dev,y_dev),\n",
        "    validation_split= 0.1,\n",
        "    batch_size= 128, \n",
        "    epochs=20,\n",
        "    verbose=1\n",
        ")\n",
        "print(\"[{}] Completed!\".format(time.time() - start_time))"
      ]
    },
    {
      "cell_type": "markdown",
      "metadata": {
        "id": "yu8awp79w0bz"
      },
      "source": [
        "### 5.3. Đánh giá mô hình NER"
      ]
    },
    {
      "cell_type": "code",
      "execution_count": null,
      "metadata": {
        "id": "l6g2iXQOCUaI",
        "colab": {
          "base_uri": "https://localhost:8080/"
        },
        "outputId": "87c8d701-6f01-4b26-dadc-b89edd27fe99"
      },
      "outputs": [
        {
          "output_type": "stream",
          "name": "stdout",
          "text": [
            "24/24 [==============================] - 5s 200ms/step - loss: 0.0668 - acc: 0.9835\n"
          ]
        }
      ],
      "source": [
        "score_test = model.evaluate(X_test, y_test, batch_size = 128, verbose = 1)"
      ]
    },
    {
      "cell_type": "code",
      "execution_count": null,
      "metadata": {
        "id": "48Sy4lpCFQQA",
        "colab": {
          "base_uri": "https://localhost:8080/"
        },
        "outputId": "f09a3151-9367-4c93-dc50-ca44b7b85f0d"
      },
      "outputs": [
        {
          "output_type": "stream",
          "name": "stdout",
          "text": [
            "[5931 3549 1842 7160  126 8059 7881 4138 7229 3229 5402 1842 5681  339\n",
            " 5258 7189 6844 5258  897 7798 3200 6962 1842 7818 6996 1842 4024 5419\n",
            " 6640 2883   77 7222 8101 8101 8101 8101 8101 8101 8101 8101 8101 8101\n",
            " 8101 8101 8101 8101 8101 8101 8101 8101 8101 8101 8101 8101 8101 8101\n",
            " 8101 8101 8101 8101 8101 8101 8101 8101 8101 8101 8101 8101 8101 8101\n",
            " 8101 8101 8101 8101 8101 8101 8101 8101 8101 8101 8101 8101 8101 8101\n",
            " 8101 8101 8101 8101 8101 8101 8101 8101 8101 8101 8101]\n",
            "Word           True \t Pred\n",
            "\n",
            "------------------------------\n",
            "Theo           O\tO\n",
            "đó             O\tO\n",
            ",              O\tO\n",
            "Sở             B-ORGANIZATION\tB-ORGANIZATION\n",
            "Y_tế           I-ORGANIZATION\tI-ORGANIZATION\n",
            "Bình_Thuận     I-ORGANIZATION\tI-ORGANIZATION\n",
            "cho            O\tO\n",
            "biết           O\tO\n",
            "sau            O\tO\n",
            "khi            O\tO\n",
            "xác_định       O\tO\n",
            "bệnh_nhân      O\tO\n",
            "số             O\tO\n",
            "34             B-PATIENT_ID\tB-PATIENT_ID\n",
            "(              O\tO\n",
            "nữ_giới        B-GENDER\tO\n",
            "51             B-AGE\tB-AGE\n",
            "tuổi           O\tO\n",
            ",              O\tO\n",
            "từ             O\tO\n",
            "Mỹ             B-LOCATION\tB-LOCATION\n",
            "về             O\tO\n",
            "Việt_Nam       B-LOCATION\tB-LOCATION\n",
            "ngày           O\tO\n",
            "29             B-DATE\tB-DATE\n",
            "-              I-DATE\tI-DATE\n",
            "2              I-DATE\tI-DATE\n",
            "có             O\tO\n",
            "quá_cảnh       O\tO\n",
            "Qatar          B-LOCATION\tB-LOCATION\n",
            ")              O\tO\n",
            ",              O\tO\n",
            "Trung_tâm      B-ORGANIZATION\tB-ORGANIZATION\n",
            "Kiểm_soát      I-ORGANIZATION\tI-ORGANIZATION\n",
            "bệnh_tật       I-ORGANIZATION\tI-ORGANIZATION\n",
            "Bình_Thuận     I-ORGANIZATION\tI-ORGANIZATION\n",
            "đã             O\tO\n",
            "điều_tra       O\tO\n",
            "dịch_tễ        O\tO\n",
            ",              O\tO\n",
            "khoanh         O\tO\n",
            "vùng           O\tO\n",
            ",              O\tO\n",
            "khử            O\tO\n",
            "khuẩn          O\tO\n",
            ",              O\tO\n",
            "tiến_hành      O\tO\n",
            "cách_ly        O\tO\n",
            "người          O\tO\n",
            "liên_quan      O\tO\n",
            "đến            O\tO\n",
            "ca             O\tO\n",
            "bệnh           O\tO\n",
            "số             O\tO\n",
            "34             B-PATIENT_ID\tB-PATIENT_ID\n",
            ".              O\tO\n",
            "CA             O\tO\n",
            "CA             O\tO\n",
            "CA             O\tO\n",
            "CA             O\tO\n",
            "CA             O\tO\n",
            "CA             O\tO\n",
            "CA             O\tO\n",
            "CA             O\tO\n",
            "CA             O\tO\n",
            "CA             O\tO\n",
            "CA             O\tO\n",
            "CA             O\tO\n",
            "CA             O\tO\n",
            "CA             O\tO\n",
            "CA             O\tO\n",
            "CA             O\tO\n",
            "CA             O\tO\n",
            "CA             O\tO\n",
            "CA             O\tO\n",
            "CA             O\tO\n",
            "CA             O\tO\n",
            "CA             O\tO\n",
            "CA             O\tO\n",
            "CA             O\tO\n",
            "CA             O\tO\n",
            "CA             O\tO\n",
            "CA             O\tO\n",
            "CA             O\tO\n",
            "CA             O\tO\n",
            "CA             O\tO\n",
            "CA             O\tO\n",
            "CA             O\tO\n",
            "CA             O\tO\n",
            "CA             O\tO\n",
            "CA             O\tO\n",
            "CA             O\tO\n",
            "CA             O\tO\n",
            "CA             O\tO\n",
            "CA             O\tO\n"
          ]
        }
      ],
      "source": [
        "# i = np.random.randint(0, x_test.shape[0]) #659\n",
        "print(X_test[1])\n",
        "i = 2\n",
        "p = model.predict(np.array([X_test[i]]))\n",
        "p = np.argmax(p, axis=-1)\n",
        "y_true = y_test[i]\n",
        "print(\"{:15}{:5}\\t {}\\n\".format(\"Word\", \"True\", \"Pred\"))\n",
        "print(\"-\" *30)\n",
        "for w, true, pred in zip(X_test[i], y_true, p[0]):\n",
        "    print(\"{:15}{}\\t{}\".format(words[w-1], tags[true], tags[pred]))"
      ]
    },
    {
      "cell_type": "code",
      "execution_count": null,
      "metadata": {
        "id": "cFnqYR1qFc6W"
      },
      "outputs": [],
      "source": [
        "y_pred = model.predict(X_test)\n",
        "\n",
        "y_pred_argmax = np.argmax(y_pred, axis=2)\n",
        "y_pred_argmax_flattened = y_pred_argmax.ravel()\n",
        "y_test_flattened = y_test.ravel()\n"
      ]
    },
    {
      "cell_type": "code",
      "execution_count": null,
      "metadata": {
        "id": "x1hNoMxLFpWg",
        "outputId": "6ac45ea0-e7e8-422d-f3dc-c9f2d7ec003f",
        "colab": {
          "base_uri": "https://localhost:8080/"
        }
      },
      "outputs": [
        {
          "output_type": "stream",
          "name": "stdout",
          "text": [
            "F1_score (macro):  66.68974766113492\n",
            "F1_score (micro):  98.3468668338624\n",
            "Accuracy:  98.3468668338624\n"
          ]
        }
      ],
      "source": [
        "#Đánh giá mô hình theo độ đo F1-score và Accuracy (micro và macro)\n",
        "from sklearn.metrics import f1_score, accuracy_score, confusion_matrix\n",
        "\n",
        "print('F1_score (macro): ', f1_score(y_test_flattened, y_pred_argmax_flattened, average='macro')*100)\n",
        "print('F1_score (micro): ', f1_score(y_test_flattened, y_pred_argmax_flattened, average='micro')*100)\n",
        "print('Accuracy: ', accuracy_score(y_test_flattened, y_pred_argmax_flattened)*100)\n"
      ]
    },
    {
      "cell_type": "code",
      "source": [
        "#đồ thị học của mô hình với thông số accuracy\n",
        "import matplotlib.pyplot as plt\n",
        "plt.plot(history.history['acc'])\n",
        "plt.plot(history.history['val_acc'])\n",
        "plt.title('model accuracy')\n",
        "plt.ylabel('accuracy')\n",
        "plt.xlabel('epoch')\n",
        "plt.legend(['train', 'test'], loc='upper left')\n",
        "plt.show()"
      ],
      "metadata": {
        "colab": {
          "base_uri": "https://localhost:8080/",
          "height": 299
        },
        "id": "ro0mLIHJw8fI",
        "outputId": "42f4f3b0-2948-4b3c-a731-cb6c33f7d989"
      },
      "execution_count": null,
      "outputs": [
        {
          "output_type": "display_data",
          "data": {
            "image/png": "[encoded data removed]",
            "text/plain": [
              "<Figure size 432x288 with 1 Axes>"
            ]
          },
          "metadata": {}
        }
      ]
    },
    {
      "cell_type": "code",
      "source": [
        "#đồ thị học của mô hình với thông số loss\n",
        "plt.plot(history.history['loss'])\n",
        "plt.plot(history.history['val_loss'])\n",
        "plt.title('model loss')\n",
        "plt.ylabel('loss')\n",
        "plt.xlabel('epoch')\n",
        "plt.legend(['train', 'test'], loc='upper left')\n",
        "plt.show()"
      ],
      "metadata": {
        "colab": {
          "base_uri": "https://localhost:8080/",
          "height": 299
        },
        "id": "NMwGs0Zhw38t",
        "outputId": "0f4dc7b5-8bf8-4a19-9ce1-f968da92a201"
      },
      "execution_count": null,
      "outputs": [
        {
          "output_type": "display_data",
          "data": {
            "image/png": "[encoded data removed]",
            "text/plain": [
              "<Figure size 432x288 with 1 Axes>"
            ]
          },
          "metadata": {}
        }
      ]
    },
    {
      "cell_type": "code",
      "execution_count": null,
      "metadata": {
        "id": "vSrnPb2yFsoy"
      },
      "outputs": [],
      "source": [
        "# Xuất ra kết quả của F1-score và Accuracy cho từng nhãn thực thể.\n",
        "report_2t = classification_report(y_test_flattened, y_pred_argmax_flattened, \n",
        "                               labels = list(tag2idx.values()),\n",
        "                               target_names=list(tag2idx.keys()))\n",
        "print(report_2t)"
      ]
    },
    {
      "cell_type": "code",
      "execution_count": null,
      "metadata": {
        "id": "3nQdDf5_FwzM"
      },
      "outputs": [],
      "source": [
        "# Lưu lại mô hình và bộ trọng số đã train\n",
        "model.save('BiLSTM.h5')"
      ]
    },
    {
      "cell_type": "markdown",
      "metadata": {
        "id": "kkshJg7dKTNT"
      },
      "source": [
        "# 6. Mô hình SimpleRNN"
      ]
    },
    {
      "cell_type": "markdown",
      "metadata": {
        "id": "-kf2jPP5Kdm0"
      },
      "source": [
        "### 6.1. Xây dựng mô hình"
      ]
    },
    {
      "cell_type": "code",
      "execution_count": null,
      "metadata": {
        "colab": {
          "base_uri": "https://localhost:8080/"
        },
        "id": "w9VHoTGoKa-Y",
        "outputId": "6c602b4b-56ef-49b6-8d99-1d93bd08d566"
      },
      "outputs": [
        {
          "output_type": "stream",
          "name": "stdout",
          "text": [
            "Model: \"model\"\n",
            "_________________________________________________________________\n",
            " Layer (type)                Output Shape              Param #   \n",
            "=================================================================\n",
            " input_1 (InputLayer)        [(None, 95)]              0         \n",
            "                                                                 \n",
            " embedding (Embedding)       (None, 95, 70)            567140    \n",
            "                                                                 \n",
            " spatial_dropout1d (SpatialD  (None, 95, 70)           0         \n",
            " ropout1D)                                                       \n",
            "                                                                 \n",
            " simple_rnn (SimpleRNN)      (None, 95, 100)           17100     \n",
            "                                                                 \n",
            " time_distributed (TimeDistr  (None, 95, 21)           2121      \n",
            " ibuted)                                                         \n",
            "                                                                 \n",
            "=================================================================\n",
            "Total params: 586,361\n",
            "Trainable params: 586,361\n",
            "Non-trainable params: 0\n",
            "_________________________________________________________________\n"
          ]
        }
      ],
      "source": [
        "from tensorflow.keras import Model, Input\n",
        "from tensorflow.keras.layers import LSTM, Embedding, Dense, SimpleRNN\n",
        "from tensorflow.keras.layers import TimeDistributed, SpatialDropout1D, Bidirectional\n",
        "\n",
        "input_word = Input(shape=(max_len,))\n",
        "model = Embedding(input_dim=num_words, output_dim=70, input_length=max_len)(input_word)\n",
        "model = SpatialDropout1D(0.1)(model)\n",
        "model = SimpleRNN(units=100, return_sequences=True, recurrent_dropout=0.1)(model)\n",
        "out = TimeDistributed(Dense(num_tags, activation=\"softmax\"))(model)\n",
        "model = Model(input_word, out)\n",
        "model.summary()"
      ]
    },
    {
      "cell_type": "code",
      "execution_count": null,
      "metadata": {
        "id": "qr0Sc5RkRuCr"
      },
      "outputs": [],
      "source": [
        "model.compile(optimizer=\"adam\",\n",
        "              loss=\"sparse_categorical_crossentropy\",\n",
        "              metrics=[\"acc\"])"
      ]
    },
    {
      "cell_type": "markdown",
      "metadata": {
        "id": "piLLkP2TQ38M"
      },
      "source": [
        "### 6.2. Huấn luyện mô hình"
      ]
    },
    {
      "cell_type": "code",
      "execution_count": null,
      "metadata": {
        "colab": {
          "base_uri": "https://localhost:8080/"
        },
        "id": "rqoweQO1R4YC",
        "outputId": "0ed3307b-f596-4596-cdb2-1109917cb266"
      },
      "outputs": [
        {
          "output_type": "stream",
          "name": "stdout",
          "text": [
            "Epoch 1/20\n",
            "36/36 [==============================] - 9s 162ms/step - loss: 0.7635 - acc: 0.8874 - val_loss: 0.3967 - val_acc: 0.9450\n",
            "Epoch 2/20\n",
            "36/36 [==============================] - 6s 155ms/step - loss: 0.3965 - acc: 0.9416 - val_loss: 0.3623 - val_acc: 0.9450\n",
            "Epoch 3/20\n",
            "36/36 [==============================] - 5s 151ms/step - loss: 0.3706 - acc: 0.9414 - val_loss: 0.3325 - val_acc: 0.9451\n",
            "Epoch 4/20\n",
            "36/36 [==============================] - 6s 154ms/step - loss: 0.3239 - acc: 0.9407 - val_loss: 0.2470 - val_acc: 0.9468\n",
            "Epoch 5/20\n",
            "36/36 [==============================] - 6s 154ms/step - loss: 0.2316 - acc: 0.9464 - val_loss: 0.1857 - val_acc: 0.9546\n",
            "Epoch 6/20\n",
            "36/36 [==============================] - 6s 155ms/step - loss: 0.1766 - acc: 0.9556 - val_loss: 0.1458 - val_acc: 0.9622\n",
            "Epoch 7/20\n",
            "36/36 [==============================] - 6s 153ms/step - loss: 0.1390 - acc: 0.9642 - val_loss: 0.1200 - val_acc: 0.9679\n",
            "Epoch 8/20\n",
            "36/36 [==============================] - 6s 155ms/step - loss: 0.1125 - acc: 0.9709 - val_loss: 0.0993 - val_acc: 0.9744\n",
            "Epoch 9/20\n",
            "36/36 [==============================] - 5s 153ms/step - loss: 0.0928 - acc: 0.9769 - val_loss: 0.0851 - val_acc: 0.9789\n",
            "Epoch 10/20\n",
            "36/36 [==============================] - 5s 152ms/step - loss: 0.0780 - acc: 0.9808 - val_loss: 0.0731 - val_acc: 0.9821\n",
            "Epoch 11/20\n",
            "36/36 [==============================] - 5s 153ms/step - loss: 0.0657 - acc: 0.9837 - val_loss: 0.0642 - val_acc: 0.9841\n",
            "Epoch 12/20\n",
            "36/36 [==============================] - 6s 154ms/step - loss: 0.0569 - acc: 0.9863 - val_loss: 0.0573 - val_acc: 0.9861\n",
            "Epoch 13/20\n",
            "36/36 [==============================] - 6s 179ms/step - loss: 0.0497 - acc: 0.9881 - val_loss: 0.0532 - val_acc: 0.9870\n",
            "Epoch 14/20\n",
            "36/36 [==============================] - 6s 153ms/step - loss: 0.0441 - acc: 0.9891 - val_loss: 0.0503 - val_acc: 0.9873\n",
            "Epoch 15/20\n",
            "36/36 [==============================] - 6s 155ms/step - loss: 0.0398 - acc: 0.9902 - val_loss: 0.0473 - val_acc: 0.9877\n",
            "Epoch 16/20\n",
            "36/36 [==============================] - 6s 153ms/step - loss: 0.0365 - acc: 0.9907 - val_loss: 0.0446 - val_acc: 0.9887\n",
            "Epoch 17/20\n",
            "36/36 [==============================] - 5s 152ms/step - loss: 0.0334 - acc: 0.9914 - val_loss: 0.0430 - val_acc: 0.9888\n",
            "Epoch 18/20\n",
            "36/36 [==============================] - 6s 154ms/step - loss: 0.0313 - acc: 0.9919 - val_loss: 0.0421 - val_acc: 0.9890\n",
            "Epoch 19/20\n",
            "36/36 [==============================] - 5s 151ms/step - loss: 0.0289 - acc: 0.9925 - val_loss: 0.0410 - val_acc: 0.9892\n",
            "Epoch 20/20\n",
            "36/36 [==============================] - 6s 158ms/step - loss: 0.0274 - acc: 0.9929 - val_loss: 0.0401 - val_acc: 0.9891\n"
          ]
        }
      ],
      "source": [
        "history = model.fit(X_train, y_train,  batch_size=128, epochs=20,  validation_split=0.1)"
      ]
    },
    {
      "cell_type": "markdown",
      "metadata": {
        "id": "w1wwX5zlw4Sx"
      },
      "source": [
        "### 6.3. Đánh giá mô hình"
      ]
    },
    {
      "cell_type": "code",
      "execution_count": null,
      "metadata": {
        "colab": {
          "base_uri": "https://localhost:8080/"
        },
        "id": "Uv1L_CoGw7Or",
        "outputId": "98fc9eb1-ed1a-49b0-dcd5-bc90997e2289"
      },
      "outputs": [
        {
          "output_type": "stream",
          "name": "stdout",
          "text": [
            "24/24 [==============================] - 0s 14ms/step - loss: 0.0745 - acc: 0.9817\n"
          ]
        }
      ],
      "source": [
        "score_test = model.evaluate(X_test, y_test, batch_size = 128, verbose = 1)"
      ]
    },
    {
      "cell_type": "code",
      "execution_count": null,
      "metadata": {
        "colab": {
          "base_uri": "https://localhost:8080/"
        },
        "id": "2g5ZJxXsw-o2",
        "outputId": "9ef39fd5-3827-4c13-8430-41500e575248"
      },
      "outputs": [
        {
          "output_type": "stream",
          "name": "stdout",
          "text": [
            "[6485 3159 4436 1898    1 5241 1290 3751 3188 4527 5001 4436 2467 5734\n",
            " 6225 7828  682 6225 3198 4393 6200 4112 4436  118 4851 4436 3690 6993\n",
            " 2898 2994 1320 3232 8101 8101 8101 8101 8101 8101 8101 8101 8101 8101\n",
            " 8101 8101 8101 8101 8101 8101 8101 8101 8101 8101 8101 8101 8101 8101\n",
            " 8101 8101 8101 8101 8101 8101 8101 8101 8101 8101 8101 8101 8101 8101\n",
            " 8101 8101 8101 8101 8101 8101 8101 8101 8101 8101 8101 8101 8101 8101\n",
            " 8101 8101 8101 8101 8101 8101 8101 8101 8101 8101 8101]\n",
            "Word           True \t Pred\n",
            "\n",
            "------------------------------\n",
            "Theo           O\tO\n",
            "đó             O\tO\n",
            ",              O\tO\n",
            "Sở             B-ORGANIZATION\tB-ORGANIZATION\n",
            "Y_tế           I-ORGANIZATION\tI-ORGANIZATION\n",
            "Bình_Thuận     I-ORGANIZATION\tI-ORGANIZATION\n",
            "cho            O\tO\n",
            "biết           O\tO\n",
            "sau            O\tO\n",
            "khi            O\tO\n",
            "xác_định       O\tO\n",
            "bệnh_nhân      O\tO\n",
            "số             O\tO\n",
            "34             B-PATIENT_ID\tB-PATIENT_ID\n",
            "(              O\tO\n",
            "nữ_giới        B-GENDER\tO\n",
            "51             B-AGE\tO\n",
            "tuổi           O\tO\n",
            ",              O\tO\n",
            "từ             O\tO\n",
            "Mỹ             B-LOCATION\tB-LOCATION\n",
            "về             O\tO\n",
            "Việt_Nam       B-LOCATION\tB-LOCATION\n",
            "ngày           O\tO\n",
            "29             B-DATE\tB-DATE\n",
            "-              I-DATE\tI-DATE\n",
            "2              I-DATE\tI-DATE\n",
            "có             O\tO\n",
            "quá_cảnh       O\tO\n",
            "Qatar          B-LOCATION\tB-LOCATION\n",
            ")              O\tO\n",
            ",              O\tO\n",
            "Trung_tâm      B-ORGANIZATION\tB-ORGANIZATION\n",
            "Kiểm_soát      I-ORGANIZATION\tI-ORGANIZATION\n",
            "bệnh_tật       I-ORGANIZATION\tI-ORGANIZATION\n",
            "Bình_Thuận     I-ORGANIZATION\tI-ORGANIZATION\n",
            "đã             O\tO\n",
            "điều_tra       O\tO\n",
            "dịch_tễ        O\tO\n",
            ",              O\tO\n",
            "khoanh         O\tO\n",
            "vùng           O\tO\n",
            ",              O\tO\n",
            "khử            O\tO\n",
            "khuẩn          O\tO\n",
            ",              O\tO\n",
            "tiến_hành      O\tO\n",
            "cách_ly        O\tO\n",
            "người          O\tO\n",
            "liên_quan      O\tO\n",
            "đến            O\tO\n",
            "ca             O\tO\n",
            "bệnh           O\tO\n",
            "số             O\tO\n",
            "34             B-PATIENT_ID\tB-PATIENT_ID\n",
            ".              O\tO\n",
            "1035           O\tO\n",
            "1035           O\tO\n",
            "1035           O\tO\n",
            "1035           O\tO\n",
            "1035           O\tO\n",
            "1035           O\tO\n",
            "1035           O\tO\n",
            "1035           O\tO\n",
            "1035           O\tO\n",
            "1035           O\tO\n",
            "1035           O\tO\n",
            "1035           O\tO\n",
            "1035           O\tO\n",
            "1035           O\tO\n",
            "1035           O\tO\n",
            "1035           O\tO\n",
            "1035           O\tO\n",
            "1035           O\tO\n",
            "1035           O\tO\n",
            "1035           O\tO\n",
            "1035           O\tO\n",
            "1035           O\tO\n",
            "1035           O\tO\n",
            "1035           O\tO\n",
            "1035           O\tO\n",
            "1035           O\tO\n",
            "1035           O\tO\n",
            "1035           O\tO\n",
            "1035           O\tO\n",
            "1035           O\tO\n",
            "1035           O\tO\n",
            "1035           O\tO\n",
            "1035           O\tO\n",
            "1035           O\tO\n",
            "1035           O\tO\n",
            "1035           O\tO\n",
            "1035           O\tO\n",
            "1035           O\tO\n",
            "1035           O\tO\n"
          ]
        }
      ],
      "source": [
        "# i = np.random.randint(0, x_test.shape[0]) #659\n",
        "print(X_test[1])\n",
        "i = 2\n",
        "p = model.predict(np.array([X_test[i]]))\n",
        "p = np.argmax(p, axis=-1)\n",
        "y_true = y_test[i]\n",
        "print(\"{:15}{:5}\\t {}\\n\".format(\"Word\", \"True\", \"Pred\"))\n",
        "print(\"-\" *30)\n",
        "for w, true, pred in zip(X_test[i], y_true, p[0]):\n",
        "    print(\"{:15}{}\\t{}\".format(words[w-1], tags[true], tags[pred]))"
      ]
    },
    {
      "cell_type": "code",
      "source": [
        "#đồ thị học của mô hình với thông số accuracy\n",
        "import matplotlib.pyplot as plt\n",
        "plt.plot(history.history['acc'])\n",
        "plt.plot(history.history['val_acc'])\n",
        "plt.title('model accuracy')\n",
        "plt.ylabel('accuracy')\n",
        "plt.xlabel('epoch')\n",
        "plt.legend(['train', 'test'], loc='upper left')\n",
        "plt.show()"
      ],
      "metadata": {
        "colab": {
          "base_uri": "https://localhost:8080/",
          "height": 299
        },
        "id": "by4dRYbLhlIR",
        "outputId": "45b447d0-83a8-46dc-cb8d-c86701e14afb"
      },
      "execution_count": null,
      "outputs": [
        {
          "output_type": "display_data",
          "data": {
            "image/png": "[encoded data removed]",
            "text/plain": [
              "<Figure size 432x288 with 1 Axes>"
            ]
          },
          "metadata": {}
        }
      ]
    },
    {
      "cell_type": "code",
      "source": [
        "#đồ thị học của mô hình với thông số loss\n",
        "plt.plot(history.history['loss'])\n",
        "plt.plot(history.history['val_loss'])\n",
        "plt.title('model loss')\n",
        "plt.ylabel('loss')\n",
        "plt.xlabel('epoch')\n",
        "plt.legend(['train', 'test'], loc='upper left')\n",
        "plt.show()"
      ],
      "metadata": {
        "colab": {
          "base_uri": "https://localhost:8080/",
          "height": 299
        },
        "id": "43gPYR1bhoH4",
        "outputId": "67b018e9-bc5f-40fb-a0be-6d07d2f13d4d"
      },
      "execution_count": null,
      "outputs": [
        {
          "output_type": "display_data",
          "data": {
            "image/png": "[encoded data removed]",
            "text/plain": [
              "<Figure size 432x288 with 1 Axes>"
            ]
          },
          "metadata": {}
        }
      ]
    },
    {
      "cell_type": "code",
      "execution_count": null,
      "metadata": {
        "id": "bD5UtwPxxFQS"
      },
      "outputs": [],
      "source": [
        "y_pred = model.predict(X_test)\n",
        "\n",
        "y_pred_argmax = np.argmax(y_pred, axis=2)\n",
        "y_pred_argmax_flattened = y_pred_argmax.ravel()\n",
        "y_test_flattened = y_test.ravel()"
      ]
    },
    {
      "cell_type": "code",
      "execution_count": null,
      "metadata": {
        "colab": {
          "base_uri": "https://localhost:8080/"
        },
        "id": "VcfVscMHxMTV",
        "outputId": "fa43bc63-3f46-4a65-af10-657288796f54"
      },
      "outputs": [
        {
          "output_type": "stream",
          "name": "stdout",
          "text": [
            "F1_score (macro):  61.10847296721285\n",
            "F1_score (micro):  98.17183745768953\n",
            "Accuracy:  98.17183745768953\n"
          ]
        }
      ],
      "source": [
        "#Đánh giá mô hình theo độ đo F1-score và Accuracy (micro và macro)\n",
        "from sklearn.metrics import f1_score, accuracy_score, confusion_matrix, classification_report\n",
        "\n",
        "print('F1_score (macro): ', f1_score(y_test_flattened, y_pred_argmax_flattened, average='macro')*100)\n",
        "print('F1_score (micro): ', f1_score(y_test_flattened, y_pred_argmax_flattened, average='micro')*100)\n",
        "print('Accuracy: ', accuracy_score(y_test_flattened, y_pred_argmax_flattened)*100)"
      ]
    },
    {
      "cell_type": "code",
      "execution_count": null,
      "metadata": {
        "colab": {
          "base_uri": "https://localhost:8080/"
        },
        "id": "ZAFBHwrBxW9I",
        "outputId": "191141eb-9e7c-4ee3-801e-5fb0ce37b6a6"
      },
      "outputs": [
        {
          "output_type": "stream",
          "name": "stderr",
          "text": [
            "/usr/local/lib/python3.7/dist-packages/sklearn/metrics/_classification.py:1308: UndefinedMetricWarning: Precision and F-score are ill-defined and being set to 0.0 in labels with no predicted samples. Use `zero_division` parameter to control this behavior.\n",
            "  _warn_prf(average, modifier, msg_start, len(result))\n",
            "/usr/local/lib/python3.7/dist-packages/sklearn/metrics/_classification.py:1308: UndefinedMetricWarning: Recall and F-score are ill-defined and being set to 0.0 in labels with no true samples. Use `zero_division` parameter to control this behavior.\n",
            "  _warn_prf(average, modifier, msg_start, len(result))\n"
          ]
        },
        {
          "output_type": "stream",
          "name": "stdout",
          "text": [
            "                       precision    recall  f1-score   support\n",
            "\n",
            "                B-AGE       0.91      0.76      0.83       573\n",
            "               I-DATE       0.93      0.97      0.95      1740\n",
            "     I-TRANSPORTATION       0.95      0.28      0.43        69\n",
            "               I-NAME       0.00      0.00      0.00        13\n",
            "       O-ORGANIZATION       0.00      0.00      0.00         0\n",
            "       I-ORGANIZATION       0.89      0.76      0.82      2014\n",
            "           B-LOCATION       0.88      0.86      0.87      4432\n",
            "B-SYMPTOM_AND_DISEASE       0.91      0.79      0.84      1136\n",
            "         B-PATIENT_ID       0.89      0.79      0.84      1988\n",
            "         I-PATIENT_ID       0.00      0.00      0.00        27\n",
            "I-SYMPTOM_AND_DISEASE       0.91      0.71      0.80      1486\n",
            "     B-TRANSPORTATION       0.93      0.56      0.70       193\n",
            "               B-NAME       0.97      0.38      0.55       318\n",
            "               B-DATE       0.95      0.94      0.95      1649\n",
            "             B-GENDER       0.92      0.83      0.87       452\n",
            "                B-JOB       1.00      0.05      0.09       172\n",
            "       B-ORGANIZATION       0.88      0.74      0.80       771\n",
            "                I-JOB       1.00      0.02      0.03       114\n",
            "           I-LOCATION       0.91      0.82      0.86      4905\n",
            "                I-AGE       0.00      0.00      0.00         6\n",
            "                    O       0.99      1.00      0.99    263037\n",
            "\n",
            "            micro avg       0.98      0.98      0.98    285095\n",
            "            macro avg       0.75      0.54      0.58    285095\n",
            "         weighted avg       0.98      0.98      0.98    285095\n",
            "\n"
          ]
        },
        {
          "output_type": "stream",
          "name": "stderr",
          "text": [
            "/usr/local/lib/python3.7/dist-packages/sklearn/metrics/_classification.py:1308: UndefinedMetricWarning: Precision and F-score are ill-defined and being set to 0.0 in labels with no predicted samples. Use `zero_division` parameter to control this behavior.\n",
            "  _warn_prf(average, modifier, msg_start, len(result))\n",
            "/usr/local/lib/python3.7/dist-packages/sklearn/metrics/_classification.py:1308: UndefinedMetricWarning: Recall and F-score are ill-defined and being set to 0.0 in labels with no true samples. Use `zero_division` parameter to control this behavior.\n",
            "  _warn_prf(average, modifier, msg_start, len(result))\n",
            "/usr/local/lib/python3.7/dist-packages/sklearn/metrics/_classification.py:1308: UndefinedMetricWarning: Precision and F-score are ill-defined and being set to 0.0 in labels with no predicted samples. Use `zero_division` parameter to control this behavior.\n",
            "  _warn_prf(average, modifier, msg_start, len(result))\n",
            "/usr/local/lib/python3.7/dist-packages/sklearn/metrics/_classification.py:1308: UndefinedMetricWarning: Recall and F-score are ill-defined and being set to 0.0 in labels with no true samples. Use `zero_division` parameter to control this behavior.\n",
            "  _warn_prf(average, modifier, msg_start, len(result))\n"
          ]
        }
      ],
      "source": [
        "# Xuất ra kết quả của F1-score và Accuracy cho từng nhãn thực thể.\n",
        "report_2t = classification_report(y_test_flattened, y_pred_argmax_flattened, \n",
        "                               labels = list(tag2idx.values()),\n",
        "                               target_names=list(tag2idx.keys()))\n",
        "print(report_2t)"
      ]
    },
    {
      "cell_type": "markdown",
      "metadata": {
        "id": "aiwRyClAvmol"
      },
      "source": [
        "# 7. Mô hình GRU hai chiều (bi-GRU)"
      ]
    },
    {
      "cell_type": "markdown",
      "metadata": {
        "id": "Jk9Snavb9ojT"
      },
      "source": [
        "### 7.1. Xây dựng mô hình"
      ]
    },
    {
      "cell_type": "code",
      "execution_count": null,
      "metadata": {
        "colab": {
          "base_uri": "https://localhost:8080/"
        },
        "id": "62tAM7cWvpQR",
        "outputId": "edf53b69-d150-4a19-e733-f9da716be733"
      },
      "outputs": [
        {
          "output_type": "stream",
          "name": "stdout",
          "text": [
            "WARNING:tensorflow:Layer gru will not use cuDNN kernels since it doesn't meet the criteria. It will use a generic GPU kernel as fallback when running on GPU.\n",
            "WARNING:tensorflow:Layer gru will not use cuDNN kernels since it doesn't meet the criteria. It will use a generic GPU kernel as fallback when running on GPU.\n",
            "WARNING:tensorflow:Layer gru will not use cuDNN kernels since it doesn't meet the criteria. It will use a generic GPU kernel as fallback when running on GPU.\n",
            "Model: \"model_1\"\n",
            "_________________________________________________________________\n",
            " Layer (type)                Output Shape              Param #   \n",
            "=================================================================\n",
            " input_2 (InputLayer)        [(None, 95)]              0         \n",
            "                                                                 \n",
            " embedding_1 (Embedding)     (None, 95, 70)            567140    \n",
            "                                                                 \n",
            " spatial_dropout1d_1 (Spatia  (None, 95, 70)           0         \n",
            " lDropout1D)                                                     \n",
            "                                                                 \n",
            " bidirectional (Bidirectiona  (None, 95, 1024)         1794048   \n",
            " l)                                                              \n",
            "                                                                 \n",
            " time_distributed_1 (TimeDis  (None, 95, 21)           21525     \n",
            " tributed)                                                       \n",
            "                                                                 \n",
            "=================================================================\n",
            "Total params: 2,382,713\n",
            "Trainable params: 2,382,713\n",
            "Non-trainable params: 0\n",
            "_________________________________________________________________\n"
          ]
        }
      ],
      "source": [
        "from tensorflow.keras import Model, Input\n",
        "from tensorflow.keras.layers import LSTM, Embedding, Dense, SimpleRNN, GRU\n",
        "from tensorflow.keras.layers import TimeDistributed, SpatialDropout1D, Bidirectional\n",
        "\n",
        "input_word = Input(shape=(max_len,))\n",
        "model = Embedding(input_dim=num_words, output_dim=70, input_length=max_len)(input_word)\n",
        "model = SpatialDropout1D(0.1)(model)\n",
        "model = Bidirectional(GRU(units=512, return_sequences=True, recurrent_dropout=0.1))(model)\n",
        "out = TimeDistributed(Dense(num_tags, activation=\"softmax\"))(model)\n",
        "model = Model(input_word, out)\n",
        "model.summary()"
      ]
    },
    {
      "cell_type": "code",
      "execution_count": null,
      "metadata": {
        "id": "h2-N-jJ5Ru4F"
      },
      "outputs": [],
      "source": [
        "model.compile(optimizer=\"adam\",\n",
        "              loss=\"sparse_categorical_crossentropy\",\n",
        "              metrics=[\"acc\"])"
      ]
    },
    {
      "cell_type": "markdown",
      "metadata": {
        "id": "ZtdcI8C59sWt"
      },
      "source": [
        "### 7.2. Huấn luyện mô hình"
      ]
    },
    {
      "cell_type": "code",
      "execution_count": null,
      "metadata": {
        "colab": {
          "base_uri": "https://localhost:8080/"
        },
        "id": "bP66RekaOMr8",
        "outputId": "659388a7-b88d-4e36-e4f4-561c96d53f37"
      },
      "outputs": [
        {
          "output_type": "stream",
          "name": "stdout",
          "text": [
            "Epoch 1/20\n",
            "36/36 [==============================] - 36s 869ms/step - loss: 0.7098 - acc: 0.9153 - val_loss: 0.2701 - val_acc: 0.9450\n",
            "Epoch 2/20\n",
            "36/36 [==============================] - 30s 845ms/step - loss: 0.2488 - acc: 0.9417 - val_loss: 0.2033 - val_acc: 0.9456\n",
            "Epoch 3/20\n",
            "36/36 [==============================] - 31s 863ms/step - loss: 0.1880 - acc: 0.9485 - val_loss: 0.1590 - val_acc: 0.9557\n",
            "Epoch 4/20\n",
            "36/36 [==============================] - 31s 872ms/step - loss: 0.1455 - acc: 0.9579 - val_loss: 0.1231 - val_acc: 0.9658\n",
            "Epoch 5/20\n",
            "36/36 [==============================] - 31s 861ms/step - loss: 0.1051 - acc: 0.9698 - val_loss: 0.0930 - val_acc: 0.9729\n",
            "Epoch 6/20\n",
            "36/36 [==============================] - 31s 867ms/step - loss: 0.0796 - acc: 0.9774 - val_loss: 0.0759 - val_acc: 0.9804\n",
            "Epoch 7/20\n",
            "36/36 [==============================] - 30s 840ms/step - loss: 0.0608 - acc: 0.9839 - val_loss: 0.0632 - val_acc: 0.9843\n",
            "Epoch 8/20\n",
            "36/36 [==============================] - 30s 837ms/step - loss: 0.0464 - acc: 0.9879 - val_loss: 0.0509 - val_acc: 0.9872\n",
            "Epoch 9/20\n",
            "36/36 [==============================] - 30s 843ms/step - loss: 0.0361 - acc: 0.9907 - val_loss: 0.0438 - val_acc: 0.9888\n",
            "Epoch 10/20\n",
            "36/36 [==============================] - 31s 851ms/step - loss: 0.0298 - acc: 0.9921 - val_loss: 0.0413 - val_acc: 0.9897\n",
            "Epoch 11/20\n",
            "36/36 [==============================] - 31s 855ms/step - loss: 0.0247 - acc: 0.9934 - val_loss: 0.0389 - val_acc: 0.9899\n",
            "Epoch 12/20\n",
            "36/36 [==============================] - 30s 847ms/step - loss: 0.0215 - acc: 0.9942 - val_loss: 0.0361 - val_acc: 0.9906\n",
            "Epoch 13/20\n",
            "36/36 [==============================] - 31s 851ms/step - loss: 0.0184 - acc: 0.9949 - val_loss: 0.0344 - val_acc: 0.9909\n",
            "Epoch 14/20\n",
            "36/36 [==============================] - 31s 857ms/step - loss: 0.0163 - acc: 0.9955 - val_loss: 0.0335 - val_acc: 0.9916\n",
            "Epoch 15/20\n",
            "36/36 [==============================] - 31s 858ms/step - loss: 0.0143 - acc: 0.9960 - val_loss: 0.0330 - val_acc: 0.9916\n",
            "Epoch 16/20\n",
            "36/36 [==============================] - 31s 858ms/step - loss: 0.0128 - acc: 0.9965 - val_loss: 0.0319 - val_acc: 0.9921\n",
            "Epoch 17/20\n",
            "36/36 [==============================] - 31s 852ms/step - loss: 0.0115 - acc: 0.9968 - val_loss: 0.0325 - val_acc: 0.9922\n",
            "Epoch 18/20\n",
            "36/36 [==============================] - 31s 862ms/step - loss: 0.0106 - acc: 0.9971 - val_loss: 0.0318 - val_acc: 0.9926\n",
            "Epoch 19/20\n",
            "36/36 [==============================] - 31s 847ms/step - loss: 0.0096 - acc: 0.9973 - val_loss: 0.0324 - val_acc: 0.9921\n",
            "Epoch 20/20\n",
            "36/36 [==============================] - 30s 846ms/step - loss: 0.0088 - acc: 0.9976 - val_loss: 0.0320 - val_acc: 0.9926\n"
          ]
        }
      ],
      "source": [
        "history = model.fit(X_train, y_train, batch_size=128, epochs=20, validation_split=0.1)"
      ]
    },
    {
      "cell_type": "markdown",
      "metadata": {
        "id": "-Pqw5rlZ9xhs"
      },
      "source": [
        "### 7.3. Đánh giá mô hình"
      ]
    },
    {
      "cell_type": "code",
      "execution_count": null,
      "metadata": {
        "id": "sTJAYs9RWSpJ",
        "colab": {
          "base_uri": "https://localhost:8080/"
        },
        "outputId": "0557128b-31bb-4f5b-b9c6-43685ecdf7b0"
      },
      "outputs": [
        {
          "output_type": "stream",
          "name": "stdout",
          "text": [
            "24/24 [==============================] - 3s 122ms/step - loss: 0.0834 - acc: 0.9838\n"
          ]
        }
      ],
      "source": [
        "score_test = model.evaluate(X_test, y_test, batch_size = 128, verbose = 1)"
      ]
    },
    {
      "cell_type": "code",
      "execution_count": null,
      "metadata": {
        "id": "2m0ddnoDWYz7",
        "colab": {
          "base_uri": "https://localhost:8080/"
        },
        "outputId": "de428f6e-3df6-4897-8c5a-e0b3ef649ff1"
      },
      "outputs": [
        {
          "output_type": "stream",
          "name": "stdout",
          "text": [
            "[6485 3159 4436 1898    1 5241 1290 3751 3188 4527 5001 4436 2467 5734\n",
            " 6225 7828  682 6225 3198 4393 6200 4112 4436  118 4851 4436 3690 6993\n",
            " 2898 2994 1320 3232 8101 8101 8101 8101 8101 8101 8101 8101 8101 8101\n",
            " 8101 8101 8101 8101 8101 8101 8101 8101 8101 8101 8101 8101 8101 8101\n",
            " 8101 8101 8101 8101 8101 8101 8101 8101 8101 8101 8101 8101 8101 8101\n",
            " 8101 8101 8101 8101 8101 8101 8101 8101 8101 8101 8101 8101 8101 8101\n",
            " 8101 8101 8101 8101 8101 8101 8101 8101 8101 8101 8101]\n",
            "Word           True \t Pred\n",
            "\n",
            "------------------------------\n",
            "Theo           O\tO\n",
            "đó             O\tO\n",
            ",              O\tO\n",
            "Sở             B-ORGANIZATION\tB-ORGANIZATION\n",
            "Y_tế           I-ORGANIZATION\tI-ORGANIZATION\n",
            "Bình_Thuận     I-ORGANIZATION\tI-ORGANIZATION\n",
            "cho            O\tO\n",
            "biết           O\tO\n",
            "sau            O\tO\n",
            "khi            O\tO\n",
            "xác_định       O\tO\n",
            "bệnh_nhân      O\tO\n",
            "số             O\tO\n",
            "34             B-PATIENT_ID\tB-PATIENT_ID\n",
            "(              O\tO\n",
            "nữ_giới        B-GENDER\tO\n",
            "51             B-AGE\tO\n",
            "tuổi           O\tO\n",
            ",              O\tO\n",
            "từ             O\tO\n",
            "Mỹ             B-LOCATION\tB-LOCATION\n",
            "về             O\tO\n",
            "Việt_Nam       B-LOCATION\tB-LOCATION\n",
            "ngày           O\tO\n",
            "29             B-DATE\tB-DATE\n",
            "-              I-DATE\tI-DATE\n",
            "2              I-DATE\tI-DATE\n",
            "có             O\tO\n",
            "quá_cảnh       O\tO\n",
            "Qatar          B-LOCATION\tB-LOCATION\n",
            ")              O\tO\n",
            ",              O\tO\n",
            "Trung_tâm      B-ORGANIZATION\tB-ORGANIZATION\n",
            "Kiểm_soát      I-ORGANIZATION\tI-ORGANIZATION\n",
            "bệnh_tật       I-ORGANIZATION\tI-ORGANIZATION\n",
            "Bình_Thuận     I-ORGANIZATION\tI-ORGANIZATION\n",
            "đã             O\tO\n",
            "điều_tra       O\tO\n",
            "dịch_tễ        O\tO\n",
            ",              O\tO\n",
            "khoanh         O\tO\n",
            "vùng           O\tO\n",
            ",              O\tO\n",
            "khử            O\tO\n",
            "khuẩn          O\tO\n",
            ",              O\tO\n",
            "tiến_hành      O\tO\n",
            "cách_ly        O\tO\n",
            "người          O\tO\n",
            "liên_quan      O\tO\n",
            "đến            O\tO\n",
            "ca             O\tO\n",
            "bệnh           O\tO\n",
            "số             O\tO\n",
            "34             B-PATIENT_ID\tB-PATIENT_ID\n",
            ".              O\tO\n",
            "1035           O\tO\n",
            "1035           O\tO\n",
            "1035           O\tO\n",
            "1035           O\tO\n",
            "1035           O\tO\n",
            "1035           O\tO\n",
            "1035           O\tO\n",
            "1035           O\tO\n",
            "1035           O\tO\n",
            "1035           O\tO\n",
            "1035           O\tO\n",
            "1035           O\tO\n",
            "1035           O\tO\n",
            "1035           O\tO\n",
            "1035           O\tO\n",
            "1035           O\tO\n",
            "1035           O\tO\n",
            "1035           O\tO\n",
            "1035           O\tO\n",
            "1035           O\tO\n",
            "1035           O\tO\n",
            "1035           O\tO\n",
            "1035           O\tO\n",
            "1035           O\tO\n",
            "1035           O\tO\n",
            "1035           O\tO\n",
            "1035           O\tO\n",
            "1035           O\tO\n",
            "1035           O\tO\n",
            "1035           O\tO\n",
            "1035           O\tO\n",
            "1035           O\tO\n",
            "1035           O\tO\n",
            "1035           O\tO\n",
            "1035           O\tO\n",
            "1035           O\tO\n",
            "1035           O\tO\n",
            "1035           O\tO\n",
            "1035           O\tO\n"
          ]
        }
      ],
      "source": [
        "# i = np.random.randint(0, x_test.shape[0]) #659\n",
        "print(X_test[1])\n",
        "i = 2\n",
        "p = model.predict(np.array([X_test[i]]))\n",
        "p = np.argmax(p, axis=-1)\n",
        "y_true = y_test[i]\n",
        "print(\"{:15}{:5}\\t {}\\n\".format(\"Word\", \"True\", \"Pred\"))\n",
        "print(\"-\" *30)\n",
        "for w, true, pred in zip(X_test[i], y_true, p[0]):\n",
        "    print(\"{:15}{}\\t{}\".format(words[w-1], tags[true], tags[pred]))"
      ]
    },
    {
      "cell_type": "code",
      "execution_count": null,
      "metadata": {
        "id": "TYcTdAMLWg13"
      },
      "outputs": [],
      "source": [
        "y_pred = model.predict(X_test)\n",
        "\n",
        "y_pred_argmax = np.argmax(y_pred, axis=2)\n",
        "y_pred_argmax_flattened = y_pred_argmax.ravel()\n",
        "y_test_flattened = y_test.ravel()\n"
      ]
    },
    {
      "cell_type": "code",
      "execution_count": null,
      "metadata": {
        "id": "-tvg-XnPWoiz",
        "colab": {
          "base_uri": "https://localhost:8080/"
        },
        "outputId": "24287ec3-d586-47ae-b575-f484b61653e9"
      },
      "outputs": [
        {
          "output_type": "stream",
          "name": "stdout",
          "text": [
            "F1_score (macro):  65.72617160988476\n",
            "F1_score (micro):  98.38334590224311\n",
            "Accuracy:  98.38334590224311\n"
          ]
        }
      ],
      "source": [
        "#Đánh giá mô hình theo độ đo F1-score và Accuracy (micro và macro)\n",
        "from sklearn.metrics import f1_score, accuracy_score, confusion_matrix\n",
        "\n",
        "print('F1_score (macro): ', f1_score(y_test_flattened, y_pred_argmax_flattened, average='macro')*100)\n",
        "print('F1_score (micro): ', f1_score(y_test_flattened, y_pred_argmax_flattened, average='micro')*100)\n",
        "print('Accuracy: ', accuracy_score(y_test_flattened, y_pred_argmax_flattened)*100)\n"
      ]
    },
    {
      "cell_type": "code",
      "execution_count": null,
      "metadata": {
        "id": "8N3Xh1zg-Hxn",
        "colab": {
          "base_uri": "https://localhost:8080/"
        },
        "outputId": "eedaecc0-442d-4aeb-fbc5-8366ff32cdc8"
      },
      "outputs": [
        {
          "output_type": "stream",
          "name": "stderr",
          "text": [
            "/usr/local/lib/python3.7/dist-packages/sklearn/metrics/_classification.py:1308: UndefinedMetricWarning: Precision and F-score are ill-defined and being set to 0.0 in labels with no predicted samples. Use `zero_division` parameter to control this behavior.\n",
            "  _warn_prf(average, modifier, msg_start, len(result))\n",
            "/usr/local/lib/python3.7/dist-packages/sklearn/metrics/_classification.py:1308: UndefinedMetricWarning: Recall and F-score are ill-defined and being set to 0.0 in labels with no true samples. Use `zero_division` parameter to control this behavior.\n",
            "  _warn_prf(average, modifier, msg_start, len(result))\n",
            "/usr/local/lib/python3.7/dist-packages/sklearn/metrics/_classification.py:1308: UndefinedMetricWarning: Precision and F-score are ill-defined and being set to 0.0 in labels with no predicted samples. Use `zero_division` parameter to control this behavior.\n",
            "  _warn_prf(average, modifier, msg_start, len(result))\n",
            "/usr/local/lib/python3.7/dist-packages/sklearn/metrics/_classification.py:1308: UndefinedMetricWarning: Recall and F-score are ill-defined and being set to 0.0 in labels with no true samples. Use `zero_division` parameter to control this behavior.\n",
            "  _warn_prf(average, modifier, msg_start, len(result))\n"
          ]
        },
        {
          "output_type": "stream",
          "name": "stdout",
          "text": [
            "                       precision    recall  f1-score   support\n",
            "\n",
            "                B-AGE       0.90      0.93      0.91       573\n",
            "               I-DATE       0.97      0.98      0.98      1740\n",
            "     I-TRANSPORTATION       0.55      0.32      0.40        69\n",
            "               I-NAME       1.00      0.08      0.14        13\n",
            "       O-ORGANIZATION       0.00      0.00      0.00         0\n",
            "       I-ORGANIZATION       0.90      0.77      0.83      2014\n",
            "           B-LOCATION       0.93      0.87      0.90      4432\n",
            "B-SYMPTOM_AND_DISEASE       0.91      0.78      0.84      1136\n",
            "         B-PATIENT_ID       0.97      0.79      0.87      1988\n",
            "         I-PATIENT_ID       0.00      0.00      0.00        27\n",
            "I-SYMPTOM_AND_DISEASE       0.91      0.67      0.77      1486\n",
            "     B-TRANSPORTATION       0.85      0.57      0.68       193\n",
            "               B-NAME       0.84      0.49      0.62       318\n",
            "               B-DATE       0.98      0.95      0.96      1649\n",
            "             B-GENDER       0.95      0.90      0.93       452\n",
            "                B-JOB       0.71      0.30      0.42       172\n",
            "       B-ORGANIZATION       0.88      0.74      0.80       771\n",
            "                I-JOB       0.57      0.14      0.23       114\n",
            "           I-LOCATION       0.92      0.81      0.86      4905\n",
            "                I-AGE       0.00      0.00      0.00         6\n",
            "                    O       0.99      1.00      0.99    263037\n",
            "\n",
            "            micro avg       0.98      0.98      0.98    285095\n",
            "            macro avg       0.75      0.58      0.63    285095\n",
            "         weighted avg       0.98      0.98      0.98    285095\n",
            "\n"
          ]
        },
        {
          "output_type": "stream",
          "name": "stderr",
          "text": [
            "/usr/local/lib/python3.7/dist-packages/sklearn/metrics/_classification.py:1308: UndefinedMetricWarning: Precision and F-score are ill-defined and being set to 0.0 in labels with no predicted samples. Use `zero_division` parameter to control this behavior.\n",
            "  _warn_prf(average, modifier, msg_start, len(result))\n",
            "/usr/local/lib/python3.7/dist-packages/sklearn/metrics/_classification.py:1308: UndefinedMetricWarning: Recall and F-score are ill-defined and being set to 0.0 in labels with no true samples. Use `zero_division` parameter to control this behavior.\n",
            "  _warn_prf(average, modifier, msg_start, len(result))\n"
          ]
        }
      ],
      "source": [
        "# Xuất ra kết quả của F1-score và Accuracy cho từng nhãn thực thể.\n",
        "report_2t = classification_report(y_test_flattened, y_pred_argmax_flattened, \n",
        "                               labels = list(tag2idx.values()),\n",
        "                               target_names=list(tag2idx.keys()))\n",
        "print(report_2t)"
      ]
    },
    {
      "cell_type": "code",
      "execution_count": null,
      "metadata": {
        "id": "TTYqdPNS-B0q"
      },
      "outputs": [],
      "source": [
        "# Lưu lại mô hình và bộ trọng số đã train\n",
        "model.save('BiGRU.h5')"
      ]
    }
  ],
  "metadata": {
    "accelerator": "GPU",
    "colab": {
      "collapsed_sections": [
        "yTWomfEpX6dS",
        "i_4kHUK_YS4q",
        "NUr4Z5a0vflu",
        "b7k4m8dkwN4c",
        "LS6AgjAQ7gVM",
        "u8C_aEa_kxmW",
        "O4XWuZBkk3CJ",
        "RTIrB2E7mTiM",
        "60SN_Ld1sGm8",
        "a4O7JwbJwsrP",
        "ECVkv6RK8xzs",
        "wKPfUVk-w6Xj",
        "yu8awp79w0bz",
        "kkshJg7dKTNT",
        "-kf2jPP5Kdm0",
        "piLLkP2TQ38M",
        "w1wwX5zlw4Sx",
        "aiwRyClAvmol",
        "Jk9Snavb9ojT",
        "ZtdcI8C59sWt",
        "-Pqw5rlZ9xhs"
      ],
      "name": "19520922_19521018_19521471.ipynb",
      "provenance": []
    },
    "kernelspec": {
      "display_name": "Python 3",
      "name": "python3"
    },
    "language_info": {
      "name": "python"
    }
  },
  "nbformat": 4,
  "nbformat_minor": 0
}